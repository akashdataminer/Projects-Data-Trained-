{
 "cells": [
  {
   "cell_type": "markdown",
   "metadata": {},
   "source": [
    "# Importing Libraries & Dataset:- "
   ]
  },
  {
   "cell_type": "code",
   "execution_count": 1,
   "metadata": {},
   "outputs": [],
   "source": [
    "import numpy as np\n",
    "import pandas as pd\n",
    "import matplotlib.pyplot as plt\n",
    "import seaborn as sns\n",
    "import os\n",
    "import warnings\n",
    "warnings.filterwarnings(\"ignore\")\n",
    "\n",
    "# Importing the required Libraries "
   ]
  },
  {
   "cell_type": "code",
   "execution_count": 2,
   "metadata": {},
   "outputs": [
    {
     "data": {
      "text/html": [
       "<div>\n",
       "<style scoped>\n",
       "    .dataframe tbody tr th:only-of-type {\n",
       "        vertical-align: middle;\n",
       "    }\n",
       "\n",
       "    .dataframe tbody tr th {\n",
       "        vertical-align: top;\n",
       "    }\n",
       "\n",
       "    .dataframe thead th {\n",
       "        text-align: right;\n",
       "    }\n",
       "</style>\n",
       "<table border=\"1\" class=\"dataframe\">\n",
       "  <thead>\n",
       "    <tr style=\"text-align: right;\">\n",
       "      <th></th>\n",
       "      <th>Unnamed: 0</th>\n",
       "      <th>Date</th>\n",
       "      <th>AveragePrice</th>\n",
       "      <th>Total Volume</th>\n",
       "      <th>4046</th>\n",
       "      <th>4225</th>\n",
       "      <th>4770</th>\n",
       "      <th>Total Bags</th>\n",
       "      <th>Small Bags</th>\n",
       "      <th>Large Bags</th>\n",
       "      <th>XLarge Bags</th>\n",
       "      <th>type</th>\n",
       "      <th>year</th>\n",
       "      <th>region</th>\n",
       "    </tr>\n",
       "  </thead>\n",
       "  <tbody>\n",
       "    <tr>\n",
       "      <th>0</th>\n",
       "      <td>0</td>\n",
       "      <td>2015-12-27</td>\n",
       "      <td>1.33</td>\n",
       "      <td>64236.62</td>\n",
       "      <td>1036.74</td>\n",
       "      <td>54454.85</td>\n",
       "      <td>48.16</td>\n",
       "      <td>8696.87</td>\n",
       "      <td>8603.62</td>\n",
       "      <td>93.25</td>\n",
       "      <td>0.0</td>\n",
       "      <td>conventional</td>\n",
       "      <td>2015</td>\n",
       "      <td>Albany</td>\n",
       "    </tr>\n",
       "    <tr>\n",
       "      <th>1</th>\n",
       "      <td>1</td>\n",
       "      <td>2015-12-20</td>\n",
       "      <td>1.35</td>\n",
       "      <td>54876.98</td>\n",
       "      <td>674.28</td>\n",
       "      <td>44638.81</td>\n",
       "      <td>58.33</td>\n",
       "      <td>9505.56</td>\n",
       "      <td>9408.07</td>\n",
       "      <td>97.49</td>\n",
       "      <td>0.0</td>\n",
       "      <td>conventional</td>\n",
       "      <td>2015</td>\n",
       "      <td>Albany</td>\n",
       "    </tr>\n",
       "    <tr>\n",
       "      <th>2</th>\n",
       "      <td>2</td>\n",
       "      <td>2015-12-13</td>\n",
       "      <td>0.93</td>\n",
       "      <td>118220.22</td>\n",
       "      <td>794.70</td>\n",
       "      <td>109149.67</td>\n",
       "      <td>130.50</td>\n",
       "      <td>8145.35</td>\n",
       "      <td>8042.21</td>\n",
       "      <td>103.14</td>\n",
       "      <td>0.0</td>\n",
       "      <td>conventional</td>\n",
       "      <td>2015</td>\n",
       "      <td>Albany</td>\n",
       "    </tr>\n",
       "    <tr>\n",
       "      <th>3</th>\n",
       "      <td>3</td>\n",
       "      <td>2015-12-06</td>\n",
       "      <td>1.08</td>\n",
       "      <td>78992.15</td>\n",
       "      <td>1132.00</td>\n",
       "      <td>71976.41</td>\n",
       "      <td>72.58</td>\n",
       "      <td>5811.16</td>\n",
       "      <td>5677.40</td>\n",
       "      <td>133.76</td>\n",
       "      <td>0.0</td>\n",
       "      <td>conventional</td>\n",
       "      <td>2015</td>\n",
       "      <td>Albany</td>\n",
       "    </tr>\n",
       "    <tr>\n",
       "      <th>4</th>\n",
       "      <td>4</td>\n",
       "      <td>2015-11-29</td>\n",
       "      <td>1.28</td>\n",
       "      <td>51039.60</td>\n",
       "      <td>941.48</td>\n",
       "      <td>43838.39</td>\n",
       "      <td>75.78</td>\n",
       "      <td>6183.95</td>\n",
       "      <td>5986.26</td>\n",
       "      <td>197.69</td>\n",
       "      <td>0.0</td>\n",
       "      <td>conventional</td>\n",
       "      <td>2015</td>\n",
       "      <td>Albany</td>\n",
       "    </tr>\n",
       "    <tr>\n",
       "      <th>...</th>\n",
       "      <td>...</td>\n",
       "      <td>...</td>\n",
       "      <td>...</td>\n",
       "      <td>...</td>\n",
       "      <td>...</td>\n",
       "      <td>...</td>\n",
       "      <td>...</td>\n",
       "      <td>...</td>\n",
       "      <td>...</td>\n",
       "      <td>...</td>\n",
       "      <td>...</td>\n",
       "      <td>...</td>\n",
       "      <td>...</td>\n",
       "      <td>...</td>\n",
       "    </tr>\n",
       "    <tr>\n",
       "      <th>18244</th>\n",
       "      <td>7</td>\n",
       "      <td>2018-02-04</td>\n",
       "      <td>1.63</td>\n",
       "      <td>17074.83</td>\n",
       "      <td>2046.96</td>\n",
       "      <td>1529.20</td>\n",
       "      <td>0.00</td>\n",
       "      <td>13498.67</td>\n",
       "      <td>13066.82</td>\n",
       "      <td>431.85</td>\n",
       "      <td>0.0</td>\n",
       "      <td>organic</td>\n",
       "      <td>2018</td>\n",
       "      <td>WestTexNewMexico</td>\n",
       "    </tr>\n",
       "    <tr>\n",
       "      <th>18245</th>\n",
       "      <td>8</td>\n",
       "      <td>2018-01-28</td>\n",
       "      <td>1.71</td>\n",
       "      <td>13888.04</td>\n",
       "      <td>1191.70</td>\n",
       "      <td>3431.50</td>\n",
       "      <td>0.00</td>\n",
       "      <td>9264.84</td>\n",
       "      <td>8940.04</td>\n",
       "      <td>324.80</td>\n",
       "      <td>0.0</td>\n",
       "      <td>organic</td>\n",
       "      <td>2018</td>\n",
       "      <td>WestTexNewMexico</td>\n",
       "    </tr>\n",
       "    <tr>\n",
       "      <th>18246</th>\n",
       "      <td>9</td>\n",
       "      <td>2018-01-21</td>\n",
       "      <td>1.87</td>\n",
       "      <td>13766.76</td>\n",
       "      <td>1191.92</td>\n",
       "      <td>2452.79</td>\n",
       "      <td>727.94</td>\n",
       "      <td>9394.11</td>\n",
       "      <td>9351.80</td>\n",
       "      <td>42.31</td>\n",
       "      <td>0.0</td>\n",
       "      <td>organic</td>\n",
       "      <td>2018</td>\n",
       "      <td>WestTexNewMexico</td>\n",
       "    </tr>\n",
       "    <tr>\n",
       "      <th>18247</th>\n",
       "      <td>10</td>\n",
       "      <td>2018-01-14</td>\n",
       "      <td>1.93</td>\n",
       "      <td>16205.22</td>\n",
       "      <td>1527.63</td>\n",
       "      <td>2981.04</td>\n",
       "      <td>727.01</td>\n",
       "      <td>10969.54</td>\n",
       "      <td>10919.54</td>\n",
       "      <td>50.00</td>\n",
       "      <td>0.0</td>\n",
       "      <td>organic</td>\n",
       "      <td>2018</td>\n",
       "      <td>WestTexNewMexico</td>\n",
       "    </tr>\n",
       "    <tr>\n",
       "      <th>18248</th>\n",
       "      <td>11</td>\n",
       "      <td>2018-01-07</td>\n",
       "      <td>1.62</td>\n",
       "      <td>17489.58</td>\n",
       "      <td>2894.77</td>\n",
       "      <td>2356.13</td>\n",
       "      <td>224.53</td>\n",
       "      <td>12014.15</td>\n",
       "      <td>11988.14</td>\n",
       "      <td>26.01</td>\n",
       "      <td>0.0</td>\n",
       "      <td>organic</td>\n",
       "      <td>2018</td>\n",
       "      <td>WestTexNewMexico</td>\n",
       "    </tr>\n",
       "  </tbody>\n",
       "</table>\n",
       "<p>18249 rows × 14 columns</p>\n",
       "</div>"
      ],
      "text/plain": [
       "       Unnamed: 0        Date  AveragePrice  Total Volume     4046       4225  \\\n",
       "0               0  2015-12-27          1.33      64236.62  1036.74   54454.85   \n",
       "1               1  2015-12-20          1.35      54876.98   674.28   44638.81   \n",
       "2               2  2015-12-13          0.93     118220.22   794.70  109149.67   \n",
       "3               3  2015-12-06          1.08      78992.15  1132.00   71976.41   \n",
       "4               4  2015-11-29          1.28      51039.60   941.48   43838.39   \n",
       "...           ...         ...           ...           ...      ...        ...   \n",
       "18244           7  2018-02-04          1.63      17074.83  2046.96    1529.20   \n",
       "18245           8  2018-01-28          1.71      13888.04  1191.70    3431.50   \n",
       "18246           9  2018-01-21          1.87      13766.76  1191.92    2452.79   \n",
       "18247          10  2018-01-14          1.93      16205.22  1527.63    2981.04   \n",
       "18248          11  2018-01-07          1.62      17489.58  2894.77    2356.13   \n",
       "\n",
       "         4770  Total Bags  Small Bags  Large Bags  XLarge Bags          type  \\\n",
       "0       48.16     8696.87     8603.62       93.25          0.0  conventional   \n",
       "1       58.33     9505.56     9408.07       97.49          0.0  conventional   \n",
       "2      130.50     8145.35     8042.21      103.14          0.0  conventional   \n",
       "3       72.58     5811.16     5677.40      133.76          0.0  conventional   \n",
       "4       75.78     6183.95     5986.26      197.69          0.0  conventional   \n",
       "...       ...         ...         ...         ...          ...           ...   \n",
       "18244    0.00    13498.67    13066.82      431.85          0.0       organic   \n",
       "18245    0.00     9264.84     8940.04      324.80          0.0       organic   \n",
       "18246  727.94     9394.11     9351.80       42.31          0.0       organic   \n",
       "18247  727.01    10969.54    10919.54       50.00          0.0       organic   \n",
       "18248  224.53    12014.15    11988.14       26.01          0.0       organic   \n",
       "\n",
       "       year            region  \n",
       "0      2015            Albany  \n",
       "1      2015            Albany  \n",
       "2      2015            Albany  \n",
       "3      2015            Albany  \n",
       "4      2015            Albany  \n",
       "...     ...               ...  \n",
       "18244  2018  WestTexNewMexico  \n",
       "18245  2018  WestTexNewMexico  \n",
       "18246  2018  WestTexNewMexico  \n",
       "18247  2018  WestTexNewMexico  \n",
       "18248  2018  WestTexNewMexico  \n",
       "\n",
       "[18249 rows x 14 columns]"
      ]
     },
     "execution_count": 2,
     "metadata": {},
     "output_type": "execute_result"
    }
   ],
   "source": [
    "ds=pd.read_csv(r\"C:\\Users\\Akash\\Desktop\\DATA TRAINED\\Data Trained Projects\\Project 4\\avocado.csv\")\n",
    "ds\n",
    "\n",
    "# Importing the Dataset into Python from System"
   ]
  },
  {
   "cell_type": "code",
   "execution_count": null,
   "metadata": {},
   "outputs": [],
   "source": []
  },
  {
   "cell_type": "markdown",
   "metadata": {},
   "source": [
    "# EDA (Exploratory Data Analysis):-"
   ]
  },
  {
   "cell_type": "code",
   "execution_count": 3,
   "metadata": {},
   "outputs": [
    {
     "data": {
      "text/html": [
       "<div>\n",
       "<style scoped>\n",
       "    .dataframe tbody tr th:only-of-type {\n",
       "        vertical-align: middle;\n",
       "    }\n",
       "\n",
       "    .dataframe tbody tr th {\n",
       "        vertical-align: top;\n",
       "    }\n",
       "\n",
       "    .dataframe thead th {\n",
       "        text-align: right;\n",
       "    }\n",
       "</style>\n",
       "<table border=\"1\" class=\"dataframe\">\n",
       "  <thead>\n",
       "    <tr style=\"text-align: right;\">\n",
       "      <th></th>\n",
       "      <th>Unnamed: 0</th>\n",
       "      <th>Date</th>\n",
       "      <th>AveragePrice</th>\n",
       "      <th>Total Volume</th>\n",
       "      <th>4046</th>\n",
       "      <th>4225</th>\n",
       "      <th>4770</th>\n",
       "      <th>Total Bags</th>\n",
       "      <th>Small Bags</th>\n",
       "      <th>Large Bags</th>\n",
       "      <th>XLarge Bags</th>\n",
       "      <th>type</th>\n",
       "      <th>year</th>\n",
       "      <th>region</th>\n",
       "    </tr>\n",
       "  </thead>\n",
       "  <tbody>\n",
       "    <tr>\n",
       "      <th>0</th>\n",
       "      <td>0</td>\n",
       "      <td>2015-12-27</td>\n",
       "      <td>1.33</td>\n",
       "      <td>64236.62</td>\n",
       "      <td>1036.74</td>\n",
       "      <td>54454.85</td>\n",
       "      <td>48.16</td>\n",
       "      <td>8696.87</td>\n",
       "      <td>8603.62</td>\n",
       "      <td>93.25</td>\n",
       "      <td>0.0</td>\n",
       "      <td>conventional</td>\n",
       "      <td>2015</td>\n",
       "      <td>Albany</td>\n",
       "    </tr>\n",
       "    <tr>\n",
       "      <th>1</th>\n",
       "      <td>1</td>\n",
       "      <td>2015-12-20</td>\n",
       "      <td>1.35</td>\n",
       "      <td>54876.98</td>\n",
       "      <td>674.28</td>\n",
       "      <td>44638.81</td>\n",
       "      <td>58.33</td>\n",
       "      <td>9505.56</td>\n",
       "      <td>9408.07</td>\n",
       "      <td>97.49</td>\n",
       "      <td>0.0</td>\n",
       "      <td>conventional</td>\n",
       "      <td>2015</td>\n",
       "      <td>Albany</td>\n",
       "    </tr>\n",
       "    <tr>\n",
       "      <th>2</th>\n",
       "      <td>2</td>\n",
       "      <td>2015-12-13</td>\n",
       "      <td>0.93</td>\n",
       "      <td>118220.22</td>\n",
       "      <td>794.70</td>\n",
       "      <td>109149.67</td>\n",
       "      <td>130.50</td>\n",
       "      <td>8145.35</td>\n",
       "      <td>8042.21</td>\n",
       "      <td>103.14</td>\n",
       "      <td>0.0</td>\n",
       "      <td>conventional</td>\n",
       "      <td>2015</td>\n",
       "      <td>Albany</td>\n",
       "    </tr>\n",
       "    <tr>\n",
       "      <th>3</th>\n",
       "      <td>3</td>\n",
       "      <td>2015-12-06</td>\n",
       "      <td>1.08</td>\n",
       "      <td>78992.15</td>\n",
       "      <td>1132.00</td>\n",
       "      <td>71976.41</td>\n",
       "      <td>72.58</td>\n",
       "      <td>5811.16</td>\n",
       "      <td>5677.40</td>\n",
       "      <td>133.76</td>\n",
       "      <td>0.0</td>\n",
       "      <td>conventional</td>\n",
       "      <td>2015</td>\n",
       "      <td>Albany</td>\n",
       "    </tr>\n",
       "    <tr>\n",
       "      <th>4</th>\n",
       "      <td>4</td>\n",
       "      <td>2015-11-29</td>\n",
       "      <td>1.28</td>\n",
       "      <td>51039.60</td>\n",
       "      <td>941.48</td>\n",
       "      <td>43838.39</td>\n",
       "      <td>75.78</td>\n",
       "      <td>6183.95</td>\n",
       "      <td>5986.26</td>\n",
       "      <td>197.69</td>\n",
       "      <td>0.0</td>\n",
       "      <td>conventional</td>\n",
       "      <td>2015</td>\n",
       "      <td>Albany</td>\n",
       "    </tr>\n",
       "    <tr>\n",
       "      <th>...</th>\n",
       "      <td>...</td>\n",
       "      <td>...</td>\n",
       "      <td>...</td>\n",
       "      <td>...</td>\n",
       "      <td>...</td>\n",
       "      <td>...</td>\n",
       "      <td>...</td>\n",
       "      <td>...</td>\n",
       "      <td>...</td>\n",
       "      <td>...</td>\n",
       "      <td>...</td>\n",
       "      <td>...</td>\n",
       "      <td>...</td>\n",
       "      <td>...</td>\n",
       "    </tr>\n",
       "    <tr>\n",
       "      <th>18244</th>\n",
       "      <td>7</td>\n",
       "      <td>2018-02-04</td>\n",
       "      <td>1.63</td>\n",
       "      <td>17074.83</td>\n",
       "      <td>2046.96</td>\n",
       "      <td>1529.20</td>\n",
       "      <td>0.00</td>\n",
       "      <td>13498.67</td>\n",
       "      <td>13066.82</td>\n",
       "      <td>431.85</td>\n",
       "      <td>0.0</td>\n",
       "      <td>organic</td>\n",
       "      <td>2018</td>\n",
       "      <td>WestTexNewMexico</td>\n",
       "    </tr>\n",
       "    <tr>\n",
       "      <th>18245</th>\n",
       "      <td>8</td>\n",
       "      <td>2018-01-28</td>\n",
       "      <td>1.71</td>\n",
       "      <td>13888.04</td>\n",
       "      <td>1191.70</td>\n",
       "      <td>3431.50</td>\n",
       "      <td>0.00</td>\n",
       "      <td>9264.84</td>\n",
       "      <td>8940.04</td>\n",
       "      <td>324.80</td>\n",
       "      <td>0.0</td>\n",
       "      <td>organic</td>\n",
       "      <td>2018</td>\n",
       "      <td>WestTexNewMexico</td>\n",
       "    </tr>\n",
       "    <tr>\n",
       "      <th>18246</th>\n",
       "      <td>9</td>\n",
       "      <td>2018-01-21</td>\n",
       "      <td>1.87</td>\n",
       "      <td>13766.76</td>\n",
       "      <td>1191.92</td>\n",
       "      <td>2452.79</td>\n",
       "      <td>727.94</td>\n",
       "      <td>9394.11</td>\n",
       "      <td>9351.80</td>\n",
       "      <td>42.31</td>\n",
       "      <td>0.0</td>\n",
       "      <td>organic</td>\n",
       "      <td>2018</td>\n",
       "      <td>WestTexNewMexico</td>\n",
       "    </tr>\n",
       "    <tr>\n",
       "      <th>18247</th>\n",
       "      <td>10</td>\n",
       "      <td>2018-01-14</td>\n",
       "      <td>1.93</td>\n",
       "      <td>16205.22</td>\n",
       "      <td>1527.63</td>\n",
       "      <td>2981.04</td>\n",
       "      <td>727.01</td>\n",
       "      <td>10969.54</td>\n",
       "      <td>10919.54</td>\n",
       "      <td>50.00</td>\n",
       "      <td>0.0</td>\n",
       "      <td>organic</td>\n",
       "      <td>2018</td>\n",
       "      <td>WestTexNewMexico</td>\n",
       "    </tr>\n",
       "    <tr>\n",
       "      <th>18248</th>\n",
       "      <td>11</td>\n",
       "      <td>2018-01-07</td>\n",
       "      <td>1.62</td>\n",
       "      <td>17489.58</td>\n",
       "      <td>2894.77</td>\n",
       "      <td>2356.13</td>\n",
       "      <td>224.53</td>\n",
       "      <td>12014.15</td>\n",
       "      <td>11988.14</td>\n",
       "      <td>26.01</td>\n",
       "      <td>0.0</td>\n",
       "      <td>organic</td>\n",
       "      <td>2018</td>\n",
       "      <td>WestTexNewMexico</td>\n",
       "    </tr>\n",
       "  </tbody>\n",
       "</table>\n",
       "<p>18249 rows × 14 columns</p>\n",
       "</div>"
      ],
      "text/plain": [
       "       Unnamed: 0        Date  AveragePrice  Total Volume     4046       4225  \\\n",
       "0               0  2015-12-27          1.33      64236.62  1036.74   54454.85   \n",
       "1               1  2015-12-20          1.35      54876.98   674.28   44638.81   \n",
       "2               2  2015-12-13          0.93     118220.22   794.70  109149.67   \n",
       "3               3  2015-12-06          1.08      78992.15  1132.00   71976.41   \n",
       "4               4  2015-11-29          1.28      51039.60   941.48   43838.39   \n",
       "...           ...         ...           ...           ...      ...        ...   \n",
       "18244           7  2018-02-04          1.63      17074.83  2046.96    1529.20   \n",
       "18245           8  2018-01-28          1.71      13888.04  1191.70    3431.50   \n",
       "18246           9  2018-01-21          1.87      13766.76  1191.92    2452.79   \n",
       "18247          10  2018-01-14          1.93      16205.22  1527.63    2981.04   \n",
       "18248          11  2018-01-07          1.62      17489.58  2894.77    2356.13   \n",
       "\n",
       "         4770  Total Bags  Small Bags  Large Bags  XLarge Bags          type  \\\n",
       "0       48.16     8696.87     8603.62       93.25          0.0  conventional   \n",
       "1       58.33     9505.56     9408.07       97.49          0.0  conventional   \n",
       "2      130.50     8145.35     8042.21      103.14          0.0  conventional   \n",
       "3       72.58     5811.16     5677.40      133.76          0.0  conventional   \n",
       "4       75.78     6183.95     5986.26      197.69          0.0  conventional   \n",
       "...       ...         ...         ...         ...          ...           ...   \n",
       "18244    0.00    13498.67    13066.82      431.85          0.0       organic   \n",
       "18245    0.00     9264.84     8940.04      324.80          0.0       organic   \n",
       "18246  727.94     9394.11     9351.80       42.31          0.0       organic   \n",
       "18247  727.01    10969.54    10919.54       50.00          0.0       organic   \n",
       "18248  224.53    12014.15    11988.14       26.01          0.0       organic   \n",
       "\n",
       "       year            region  \n",
       "0      2015            Albany  \n",
       "1      2015            Albany  \n",
       "2      2015            Albany  \n",
       "3      2015            Albany  \n",
       "4      2015            Albany  \n",
       "...     ...               ...  \n",
       "18244  2018  WestTexNewMexico  \n",
       "18245  2018  WestTexNewMexico  \n",
       "18246  2018  WestTexNewMexico  \n",
       "18247  2018  WestTexNewMexico  \n",
       "18248  2018  WestTexNewMexico  \n",
       "\n",
       "[18249 rows x 14 columns]"
      ]
     },
     "execution_count": 3,
     "metadata": {},
     "output_type": "execute_result"
    }
   ],
   "source": [
    "avocado=pd.DataFrame(data=ds)\n",
    "avocado\n",
    "\n",
    "# Giving the Dataset the structured format with the Data Frame Function and giving it name \"avocado\""
   ]
  },
  {
   "cell_type": "code",
   "execution_count": 4,
   "metadata": {},
   "outputs": [
    {
     "data": {
      "text/plain": [
       "Index(['Unnamed: 0', 'Date', 'AveragePrice', 'Total Volume', '4046', '4225',\n",
       "       '4770', 'Total Bags', 'Small Bags', 'Large Bags', 'XLarge Bags', 'type',\n",
       "       'year', 'region'],\n",
       "      dtype='object')"
      ]
     },
     "execution_count": 4,
     "metadata": {},
     "output_type": "execute_result"
    }
   ],
   "source": [
    "avocado.columns\n",
    "\n",
    "# Displaying all the columns in the Avocado Dataset"
   ]
  },
  {
   "cell_type": "code",
   "execution_count": 5,
   "metadata": {},
   "outputs": [
    {
     "data": {
      "text/plain": [
       "(18249, 14)"
      ]
     },
     "execution_count": 5,
     "metadata": {},
     "output_type": "execute_result"
    }
   ],
   "source": [
    "avocado.shape\n",
    "\n",
    "# Displaying the Total number of Rows & Columns"
   ]
  },
  {
   "cell_type": "code",
   "execution_count": 6,
   "metadata": {},
   "outputs": [
    {
     "name": "stdout",
     "output_type": "stream",
     "text": [
      "<class 'pandas.core.frame.DataFrame'>\n",
      "RangeIndex: 18249 entries, 0 to 18248\n",
      "Data columns (total 14 columns):\n",
      " #   Column        Non-Null Count  Dtype  \n",
      "---  ------        --------------  -----  \n",
      " 0   Unnamed: 0    18249 non-null  int64  \n",
      " 1   Date          18249 non-null  object \n",
      " 2   AveragePrice  18249 non-null  float64\n",
      " 3   Total Volume  18249 non-null  float64\n",
      " 4   4046          18249 non-null  float64\n",
      " 5   4225          18249 non-null  float64\n",
      " 6   4770          18249 non-null  float64\n",
      " 7   Total Bags    18249 non-null  float64\n",
      " 8   Small Bags    18249 non-null  float64\n",
      " 9   Large Bags    18249 non-null  float64\n",
      " 10  XLarge Bags   18249 non-null  float64\n",
      " 11  type          18249 non-null  object \n",
      " 12  year          18249 non-null  int64  \n",
      " 13  region        18249 non-null  object \n",
      "dtypes: float64(9), int64(2), object(3)\n",
      "memory usage: 1.9+ MB\n"
     ]
    }
   ],
   "source": [
    "avocado.info()\n",
    "\n",
    "# Displaying the total missing values and Data Type of every column of the Avocado Dataset"
   ]
  },
  {
   "cell_type": "code",
   "execution_count": 7,
   "metadata": {},
   "outputs": [
    {
     "data": {
      "text/plain": [
       "Unnamed: 0      0\n",
       "Date            0\n",
       "AveragePrice    0\n",
       "Total Volume    0\n",
       "4046            0\n",
       "4225            0\n",
       "4770            0\n",
       "Total Bags      0\n",
       "Small Bags      0\n",
       "Large Bags      0\n",
       "XLarge Bags     0\n",
       "type            0\n",
       "year            0\n",
       "region          0\n",
       "dtype: int64"
      ]
     },
     "execution_count": 7,
     "metadata": {},
     "output_type": "execute_result"
    }
   ],
   "source": [
    "avocado.isnull().sum()\n",
    "\n",
    "# There are no missing values present in this Dataset"
   ]
  },
  {
   "cell_type": "code",
   "execution_count": 8,
   "metadata": {},
   "outputs": [
    {
     "data": {
      "text/plain": [
       "conventional    9126\n",
       "organic         9123\n",
       "Name: type, dtype: int64"
      ]
     },
     "execution_count": 8,
     "metadata": {},
     "output_type": "execute_result"
    }
   ],
   "source": [
    "avocado[\"type\"].value_counts()\n",
    "\n",
    "# As we can see we have almost equal amount of Conventional & Organic Avocados"
   ]
  },
  {
   "cell_type": "code",
   "execution_count": 9,
   "metadata": {},
   "outputs": [
    {
     "data": {
      "text/plain": [
       "<AxesSubplot:xlabel='type', ylabel='count'>"
      ]
     },
     "execution_count": 9,
     "metadata": {},
     "output_type": "execute_result"
    },
    {
     "data": {
      "image/png": "[encoded data removed]",
      "text/plain": [
       "<Figure size 432x288 with 1 Axes>"
      ]
     },
     "metadata": {
      "needs_background": "light"
     },
     "output_type": "display_data"
    }
   ],
   "source": [
    "sns.countplot(x=avocado[\"type\"],palette=\"rainbow\")\n",
    "\n",
    "# Graphical Representation of the count of Avocados of each category\n",
    "# It Shows that both Conventional and Organic have 9000+ Avocados each"
   ]
  },
  {
   "cell_type": "code",
   "execution_count": 10,
   "metadata": {},
   "outputs": [
    {
     "data": {
      "text/plain": [
       "<AxesSubplot:xlabel='type', ylabel='count'>"
      ]
     },
     "execution_count": 10,
     "metadata": {},
     "output_type": "execute_result"
    },
    {
     "data": {
      "image/png": "[encoded data removed]",
      "text/plain": [
       "<Figure size 432x288 with 1 Axes>"
      ]
     },
     "metadata": {
      "needs_background": "light"
     },
     "output_type": "display_data"
    }
   ],
   "source": [
    "sns.countplot(x=avocado[\"type\"],palette=\"rainbow\",hue=avocado[\"year\"])\n",
    "\n",
    "# Graphical Representation of Avocados according to the years\n",
    "# We can see that sales of Avocados was very less in the year 2018"
   ]
  },
  {
   "cell_type": "code",
   "execution_count": 11,
   "metadata": {},
   "outputs": [
    {
     "data": {
      "text/plain": [
       "Southeast              338\n",
       "Boston                 338\n",
       "Pittsburgh             338\n",
       "Albany                 338\n",
       "RaleighGreensboro      338\n",
       "NorthernNewEngland     338\n",
       "West                   338\n",
       "SouthCarolina          338\n",
       "Chicago                338\n",
       "SanFrancisco           338\n",
       "Midsouth               338\n",
       "Atlanta                338\n",
       "SouthCentral           338\n",
       "Jacksonville           338\n",
       "NewOrleansMobile       338\n",
       "Houston                338\n",
       "Philadelphia           338\n",
       "Detroit                338\n",
       "Seattle                338\n",
       "RichmondNorfolk        338\n",
       "Portland               338\n",
       "Columbus               338\n",
       "Spokane                338\n",
       "Denver                 338\n",
       "NewYork                338\n",
       "HarrisburgScranton     338\n",
       "DallasFtWorth          338\n",
       "Syracuse               338\n",
       "Nashville              338\n",
       "LosAngeles             338\n",
       "Plains                 338\n",
       "Charlotte              338\n",
       "PhoenixTucson          338\n",
       "Tampa                  338\n",
       "Indianapolis           338\n",
       "BaltimoreWashington    338\n",
       "GrandRapids            338\n",
       "Orlando                338\n",
       "Sacramento             338\n",
       "California             338\n",
       "GreatLakes             338\n",
       "TotalUS                338\n",
       "Northeast              338\n",
       "LasVegas               338\n",
       "HartfordSpringfield    338\n",
       "MiamiFtLauderdale      338\n",
       "CincinnatiDayton       338\n",
       "Boise                  338\n",
       "StLouis                338\n",
       "SanDiego               338\n",
       "Roanoke                338\n",
       "Louisville             338\n",
       "BuffaloRochester       338\n",
       "WestTexNewMexico       335\n",
       "Name: region, dtype: int64"
      ]
     },
     "execution_count": 11,
     "metadata": {},
     "output_type": "execute_result"
    }
   ],
   "source": [
    "avocado[\"region\"].value_counts()\n",
    "\n",
    "# The region consists of all the major Cities of United States of America where these Avocados are sold"
   ]
  },
  {
   "cell_type": "code",
   "execution_count": null,
   "metadata": {},
   "outputs": [],
   "source": []
  },
  {
   "cell_type": "markdown",
   "metadata": {},
   "source": [
    "### Checking Correlation:-"
   ]
  },
  {
   "cell_type": "code",
   "execution_count": 12,
   "metadata": {},
   "outputs": [
    {
     "data": {
      "text/html": [
       "<div>\n",
       "<style scoped>\n",
       "    .dataframe tbody tr th:only-of-type {\n",
       "        vertical-align: middle;\n",
       "    }\n",
       "\n",
       "    .dataframe tbody tr th {\n",
       "        vertical-align: top;\n",
       "    }\n",
       "\n",
       "    .dataframe thead th {\n",
       "        text-align: right;\n",
       "    }\n",
       "</style>\n",
       "<table border=\"1\" class=\"dataframe\">\n",
       "  <thead>\n",
       "    <tr style=\"text-align: right;\">\n",
       "      <th></th>\n",
       "      <th>Unnamed: 0</th>\n",
       "      <th>AveragePrice</th>\n",
       "      <th>Total Volume</th>\n",
       "      <th>4046</th>\n",
       "      <th>4225</th>\n",
       "      <th>4770</th>\n",
       "      <th>Total Bags</th>\n",
       "      <th>Small Bags</th>\n",
       "      <th>Large Bags</th>\n",
       "      <th>XLarge Bags</th>\n",
       "      <th>year</th>\n",
       "    </tr>\n",
       "  </thead>\n",
       "  <tbody>\n",
       "    <tr>\n",
       "      <th>Unnamed: 0</th>\n",
       "      <td>1.000000</td>\n",
       "      <td>-0.133008</td>\n",
       "      <td>0.014035</td>\n",
       "      <td>0.017628</td>\n",
       "      <td>0.019829</td>\n",
       "      <td>0.041752</td>\n",
       "      <td>-0.002219</td>\n",
       "      <td>0.000347</td>\n",
       "      <td>-0.009196</td>\n",
       "      <td>-0.011546</td>\n",
       "      <td>-0.171667</td>\n",
       "    </tr>\n",
       "    <tr>\n",
       "      <th>AveragePrice</th>\n",
       "      <td>-0.133008</td>\n",
       "      <td>1.000000</td>\n",
       "      <td>-0.192752</td>\n",
       "      <td>-0.208317</td>\n",
       "      <td>-0.172928</td>\n",
       "      <td>-0.179446</td>\n",
       "      <td>-0.177088</td>\n",
       "      <td>-0.174730</td>\n",
       "      <td>-0.172940</td>\n",
       "      <td>-0.117592</td>\n",
       "      <td>0.093197</td>\n",
       "    </tr>\n",
       "    <tr>\n",
       "      <th>Total Volume</th>\n",
       "      <td>0.014035</td>\n",
       "      <td>-0.192752</td>\n",
       "      <td>1.000000</td>\n",
       "      <td>0.977863</td>\n",
       "      <td>0.974181</td>\n",
       "      <td>0.872202</td>\n",
       "      <td>0.963047</td>\n",
       "      <td>0.967238</td>\n",
       "      <td>0.880640</td>\n",
       "      <td>0.747157</td>\n",
       "      <td>0.017193</td>\n",
       "    </tr>\n",
       "    <tr>\n",
       "      <th>4046</th>\n",
       "      <td>0.017628</td>\n",
       "      <td>-0.208317</td>\n",
       "      <td>0.977863</td>\n",
       "      <td>1.000000</td>\n",
       "      <td>0.926110</td>\n",
       "      <td>0.833389</td>\n",
       "      <td>0.920057</td>\n",
       "      <td>0.925280</td>\n",
       "      <td>0.838645</td>\n",
       "      <td>0.699377</td>\n",
       "      <td>0.003353</td>\n",
       "    </tr>\n",
       "    <tr>\n",
       "      <th>4225</th>\n",
       "      <td>0.019829</td>\n",
       "      <td>-0.172928</td>\n",
       "      <td>0.974181</td>\n",
       "      <td>0.926110</td>\n",
       "      <td>1.000000</td>\n",
       "      <td>0.887855</td>\n",
       "      <td>0.905787</td>\n",
       "      <td>0.916031</td>\n",
       "      <td>0.810015</td>\n",
       "      <td>0.688809</td>\n",
       "      <td>-0.009559</td>\n",
       "    </tr>\n",
       "    <tr>\n",
       "      <th>4770</th>\n",
       "      <td>0.041752</td>\n",
       "      <td>-0.179446</td>\n",
       "      <td>0.872202</td>\n",
       "      <td>0.833389</td>\n",
       "      <td>0.887855</td>\n",
       "      <td>1.000000</td>\n",
       "      <td>0.792314</td>\n",
       "      <td>0.802733</td>\n",
       "      <td>0.698471</td>\n",
       "      <td>0.679861</td>\n",
       "      <td>-0.036531</td>\n",
       "    </tr>\n",
       "    <tr>\n",
       "      <th>Total Bags</th>\n",
       "      <td>-0.002219</td>\n",
       "      <td>-0.177088</td>\n",
       "      <td>0.963047</td>\n",
       "      <td>0.920057</td>\n",
       "      <td>0.905787</td>\n",
       "      <td>0.792314</td>\n",
       "      <td>1.000000</td>\n",
       "      <td>0.994335</td>\n",
       "      <td>0.943009</td>\n",
       "      <td>0.804233</td>\n",
       "      <td>0.071552</td>\n",
       "    </tr>\n",
       "    <tr>\n",
       "      <th>Small Bags</th>\n",
       "      <td>0.000347</td>\n",
       "      <td>-0.174730</td>\n",
       "      <td>0.967238</td>\n",
       "      <td>0.925280</td>\n",
       "      <td>0.916031</td>\n",
       "      <td>0.802733</td>\n",
       "      <td>0.994335</td>\n",
       "      <td>1.000000</td>\n",
       "      <td>0.902589</td>\n",
       "      <td>0.806845</td>\n",
       "      <td>0.063915</td>\n",
       "    </tr>\n",
       "    <tr>\n",
       "      <th>Large Bags</th>\n",
       "      <td>-0.009196</td>\n",
       "      <td>-0.172940</td>\n",
       "      <td>0.880640</td>\n",
       "      <td>0.838645</td>\n",
       "      <td>0.810015</td>\n",
       "      <td>0.698471</td>\n",
       "      <td>0.943009</td>\n",
       "      <td>0.902589</td>\n",
       "      <td>1.000000</td>\n",
       "      <td>0.710858</td>\n",
       "      <td>0.087891</td>\n",
       "    </tr>\n",
       "    <tr>\n",
       "      <th>XLarge Bags</th>\n",
       "      <td>-0.011546</td>\n",
       "      <td>-0.117592</td>\n",
       "      <td>0.747157</td>\n",
       "      <td>0.699377</td>\n",
       "      <td>0.688809</td>\n",
       "      <td>0.679861</td>\n",
       "      <td>0.804233</td>\n",
       "      <td>0.806845</td>\n",
       "      <td>0.710858</td>\n",
       "      <td>1.000000</td>\n",
       "      <td>0.081033</td>\n",
       "    </tr>\n",
       "    <tr>\n",
       "      <th>year</th>\n",
       "      <td>-0.171667</td>\n",
       "      <td>0.093197</td>\n",
       "      <td>0.017193</td>\n",
       "      <td>0.003353</td>\n",
       "      <td>-0.009559</td>\n",
       "      <td>-0.036531</td>\n",
       "      <td>0.071552</td>\n",
       "      <td>0.063915</td>\n",
       "      <td>0.087891</td>\n",
       "      <td>0.081033</td>\n",
       "      <td>1.000000</td>\n",
       "    </tr>\n",
       "  </tbody>\n",
       "</table>\n",
       "</div>"
      ],
      "text/plain": [
       "              Unnamed: 0  AveragePrice  Total Volume      4046      4225  \\\n",
       "Unnamed: 0      1.000000     -0.133008      0.014035  0.017628  0.019829   \n",
       "AveragePrice   -0.133008      1.000000     -0.192752 -0.208317 -0.172928   \n",
       "Total Volume    0.014035     -0.192752      1.000000  0.977863  0.974181   \n",
       "4046            0.017628     -0.208317      0.977863  1.000000  0.926110   \n",
       "4225            0.019829     -0.172928      0.974181  0.926110  1.000000   \n",
       "4770            0.041752     -0.179446      0.872202  0.833389  0.887855   \n",
       "Total Bags     -0.002219     -0.177088      0.963047  0.920057  0.905787   \n",
       "Small Bags      0.000347     -0.174730      0.967238  0.925280  0.916031   \n",
       "Large Bags     -0.009196     -0.172940      0.880640  0.838645  0.810015   \n",
       "XLarge Bags    -0.011546     -0.117592      0.747157  0.699377  0.688809   \n",
       "year           -0.171667      0.093197      0.017193  0.003353 -0.009559   \n",
       "\n",
       "                  4770  Total Bags  Small Bags  Large Bags  XLarge Bags  \\\n",
       "Unnamed: 0    0.041752   -0.002219    0.000347   -0.009196    -0.011546   \n",
       "AveragePrice -0.179446   -0.177088   -0.174730   -0.172940    -0.117592   \n",
       "Total Volume  0.872202    0.963047    0.967238    0.880640     0.747157   \n",
       "4046          0.833389    0.920057    0.925280    0.838645     0.699377   \n",
       "4225          0.887855    0.905787    0.916031    0.810015     0.688809   \n",
       "4770          1.000000    0.792314    0.802733    0.698471     0.679861   \n",
       "Total Bags    0.792314    1.000000    0.994335    0.943009     0.804233   \n",
       "Small Bags    0.802733    0.994335    1.000000    0.902589     0.806845   \n",
       "Large Bags    0.698471    0.943009    0.902589    1.000000     0.710858   \n",
       "XLarge Bags   0.679861    0.804233    0.806845    0.710858     1.000000   \n",
       "year         -0.036531    0.071552    0.063915    0.087891     0.081033   \n",
       "\n",
       "                  year  \n",
       "Unnamed: 0   -0.171667  \n",
       "AveragePrice  0.093197  \n",
       "Total Volume  0.017193  \n",
       "4046          0.003353  \n",
       "4225         -0.009559  \n",
       "4770         -0.036531  \n",
       "Total Bags    0.071552  \n",
       "Small Bags    0.063915  \n",
       "Large Bags    0.087891  \n",
       "XLarge Bags   0.081033  \n",
       "year          1.000000  "
      ]
     },
     "execution_count": 12,
     "metadata": {},
     "output_type": "execute_result"
    }
   ],
   "source": [
    "avocado_corr=avocado.corr()\n",
    "avocado_corr\n",
    "\n",
    "# Displaying the Correlation of all the independent variables with the Target Variable"
   ]
  },
  {
   "cell_type": "code",
   "execution_count": 13,
   "metadata": {},
   "outputs": [
    {
     "data": {
      "text/plain": [
       "<AxesSubplot:>"
      ]
     },
     "execution_count": 13,
     "metadata": {},
     "output_type": "execute_result"
    },
    {
     "data": {
      "image/png": "[encoded data removed]",
      "text/plain": [
       "<Figure size 720x720 with 2 Axes>"
      ]
     },
     "metadata": {
      "needs_background": "light"
     },
     "output_type": "display_data"
    }
   ],
   "source": [
    "plt.figure(figsize=(10,10))\n",
    "sns.heatmap(avocado_corr, annot=True, linecolor=\"black\", linewidths=2, cmap=\"coolwarm_r\")\n",
    "\n",
    "# Graphical Representation of the Correlation of all the independent variables with the Target Variable"
   ]
  },
  {
   "cell_type": "code",
   "execution_count": null,
   "metadata": {},
   "outputs": [],
   "source": []
  },
  {
   "cell_type": "markdown",
   "metadata": {},
   "source": [
    "### Checking Outliers:-"
   ]
  },
  {
   "cell_type": "code",
   "execution_count": null,
   "metadata": {},
   "outputs": [],
   "source": []
  },
  {
   "cell_type": "code",
   "execution_count": 14,
   "metadata": {},
   "outputs": [
    {
     "data": {
      "text/html": [
       "<div>\n",
       "<style scoped>\n",
       "    .dataframe tbody tr th:only-of-type {\n",
       "        vertical-align: middle;\n",
       "    }\n",
       "\n",
       "    .dataframe tbody tr th {\n",
       "        vertical-align: top;\n",
       "    }\n",
       "\n",
       "    .dataframe thead th {\n",
       "        text-align: right;\n",
       "    }\n",
       "</style>\n",
       "<table border=\"1\" class=\"dataframe\">\n",
       "  <thead>\n",
       "    <tr style=\"text-align: right;\">\n",
       "      <th></th>\n",
       "      <th>0.05</th>\n",
       "      <th>0.10</th>\n",
       "      <th>0.20</th>\n",
       "      <th>0.25</th>\n",
       "      <th>0.30</th>\n",
       "      <th>0.40</th>\n",
       "      <th>0.50</th>\n",
       "      <th>0.60</th>\n",
       "      <th>0.70</th>\n",
       "      <th>0.75</th>\n",
       "      <th>0.80</th>\n",
       "      <th>0.90</th>\n",
       "      <th>0.95</th>\n",
       "      <th>0.96</th>\n",
       "      <th>0.97</th>\n",
       "      <th>0.98</th>\n",
       "      <th>0.99</th>\n",
       "      <th>1.00</th>\n",
       "    </tr>\n",
       "  </thead>\n",
       "  <tbody>\n",
       "    <tr>\n",
       "      <th>Unnamed: 0</th>\n",
       "      <td>2.000</td>\n",
       "      <td>4.000</td>\n",
       "      <td>8.000</td>\n",
       "      <td>10.00</td>\n",
       "      <td>12.000</td>\n",
       "      <td>18.000</td>\n",
       "      <td>24.00</td>\n",
       "      <td>29.000</td>\n",
       "      <td>35.000</td>\n",
       "      <td>38.00</td>\n",
       "      <td>41.000</td>\n",
       "      <td>46.000</td>\n",
       "      <td>49.000</td>\n",
       "      <td>5.000000e+01</td>\n",
       "      <td>5.000000e+01</td>\n",
       "      <td>5.100000e+01</td>\n",
       "      <td>5.100000e+01</td>\n",
       "      <td>52.00</td>\n",
       "    </tr>\n",
       "    <tr>\n",
       "      <th>AveragePrice</th>\n",
       "      <td>0.830</td>\n",
       "      <td>0.930</td>\n",
       "      <td>1.050</td>\n",
       "      <td>1.10</td>\n",
       "      <td>1.150</td>\n",
       "      <td>1.260</td>\n",
       "      <td>1.37</td>\n",
       "      <td>1.480</td>\n",
       "      <td>1.600</td>\n",
       "      <td>1.66</td>\n",
       "      <td>1.740</td>\n",
       "      <td>1.930</td>\n",
       "      <td>2.110</td>\n",
       "      <td>2.170000e+00</td>\n",
       "      <td>2.250000e+00</td>\n",
       "      <td>2.340000e+00</td>\n",
       "      <td>2.540000e+00</td>\n",
       "      <td>3.25</td>\n",
       "    </tr>\n",
       "    <tr>\n",
       "      <th>Total Volume</th>\n",
       "      <td>2371.862</td>\n",
       "      <td>3896.768</td>\n",
       "      <td>8168.866</td>\n",
       "      <td>10838.58</td>\n",
       "      <td>15181.304</td>\n",
       "      <td>42137.088</td>\n",
       "      <td>107376.76</td>\n",
       "      <td>192430.124</td>\n",
       "      <td>319613.142</td>\n",
       "      <td>432962.29</td>\n",
       "      <td>604868.968</td>\n",
       "      <td>1387045.760</td>\n",
       "      <td>3716315.410</td>\n",
       "      <td>4.457324e+06</td>\n",
       "      <td>5.411527e+06</td>\n",
       "      <td>6.303591e+06</td>\n",
       "      <td>8.376759e+06</td>\n",
       "      <td>62505646.52</td>\n",
       "    </tr>\n",
       "    <tr>\n",
       "      <th>4046</th>\n",
       "      <td>19.600</td>\n",
       "      <td>94.276</td>\n",
       "      <td>483.362</td>\n",
       "      <td>854.07</td>\n",
       "      <td>1368.118</td>\n",
       "      <td>3261.580</td>\n",
       "      <td>8645.30</td>\n",
       "      <td>31698.078</td>\n",
       "      <td>77991.410</td>\n",
       "      <td>111020.20</td>\n",
       "      <td>152679.068</td>\n",
       "      <td>538385.184</td>\n",
       "      <td>1263359.678</td>\n",
       "      <td>1.815998e+06</td>\n",
       "      <td>2.276946e+06</td>\n",
       "      <td>2.805307e+06</td>\n",
       "      <td>4.059374e+06</td>\n",
       "      <td>22743616.17</td>\n",
       "    </tr>\n",
       "    <tr>\n",
       "      <th>4225</th>\n",
       "      <td>103.614</td>\n",
       "      <td>367.484</td>\n",
       "      <td>1918.532</td>\n",
       "      <td>3008.78</td>\n",
       "      <td>4265.508</td>\n",
       "      <td>10961.994</td>\n",
       "      <td>29061.02</td>\n",
       "      <td>53202.052</td>\n",
       "      <td>98296.168</td>\n",
       "      <td>150206.86</td>\n",
       "      <td>222163.620</td>\n",
       "      <td>500784.552</td>\n",
       "      <td>1303657.658</td>\n",
       "      <td>1.566151e+06</td>\n",
       "      <td>1.858844e+06</td>\n",
       "      <td>2.261075e+06</td>\n",
       "      <td>3.791560e+06</td>\n",
       "      <td>20470572.61</td>\n",
       "    </tr>\n",
       "    <tr>\n",
       "      <th>4770</th>\n",
       "      <td>0.000</td>\n",
       "      <td>0.000</td>\n",
       "      <td>0.000</td>\n",
       "      <td>0.00</td>\n",
       "      <td>0.000</td>\n",
       "      <td>42.704</td>\n",
       "      <td>184.99</td>\n",
       "      <td>768.782</td>\n",
       "      <td>3466.120</td>\n",
       "      <td>6243.42</td>\n",
       "      <td>10972.600</td>\n",
       "      <td>31492.442</td>\n",
       "      <td>106156.574</td>\n",
       "      <td>1.282828e+05</td>\n",
       "      <td>1.618103e+05</td>\n",
       "      <td>2.371003e+05</td>\n",
       "      <td>4.527798e+05</td>\n",
       "      <td>2546439.11</td>\n",
       "    </tr>\n",
       "    <tr>\n",
       "      <th>Total Bags</th>\n",
       "      <td>628.890</td>\n",
       "      <td>1299.208</td>\n",
       "      <td>3347.674</td>\n",
       "      <td>5088.64</td>\n",
       "      <td>7316.634</td>\n",
       "      <td>16643.260</td>\n",
       "      <td>39743.83</td>\n",
       "      <td>62361.468</td>\n",
       "      <td>88901.748</td>\n",
       "      <td>110783.37</td>\n",
       "      <td>149306.360</td>\n",
       "      <td>442141.928</td>\n",
       "      <td>1005478.892</td>\n",
       "      <td>1.180500e+06</td>\n",
       "      <td>1.407423e+06</td>\n",
       "      <td>1.846537e+06</td>\n",
       "      <td>3.232558e+06</td>\n",
       "      <td>19373134.37</td>\n",
       "    </tr>\n",
       "    <tr>\n",
       "      <th>Small Bags</th>\n",
       "      <td>256.670</td>\n",
       "      <td>583.110</td>\n",
       "      <td>1686.086</td>\n",
       "      <td>2849.42</td>\n",
       "      <td>4761.328</td>\n",
       "      <td>11502.076</td>\n",
       "      <td>26362.82</td>\n",
       "      <td>46725.754</td>\n",
       "      <td>68884.094</td>\n",
       "      <td>83337.67</td>\n",
       "      <td>104537.112</td>\n",
       "      <td>354266.852</td>\n",
       "      <td>768147.228</td>\n",
       "      <td>9.123473e+05</td>\n",
       "      <td>1.124550e+06</td>\n",
       "      <td>1.436144e+06</td>\n",
       "      <td>2.306055e+06</td>\n",
       "      <td>13384586.80</td>\n",
       "    </tr>\n",
       "    <tr>\n",
       "      <th>Large Bags</th>\n",
       "      <td>0.000</td>\n",
       "      <td>0.000</td>\n",
       "      <td>30.918</td>\n",
       "      <td>127.47</td>\n",
       "      <td>329.944</td>\n",
       "      <td>1105.110</td>\n",
       "      <td>2647.71</td>\n",
       "      <td>6087.796</td>\n",
       "      <td>14392.206</td>\n",
       "      <td>22029.25</td>\n",
       "      <td>34350.986</td>\n",
       "      <td>94295.338</td>\n",
       "      <td>195699.768</td>\n",
       "      <td>2.527005e+05</td>\n",
       "      <td>3.420543e+05</td>\n",
       "      <td>5.232908e+05</td>\n",
       "      <td>1.053996e+06</td>\n",
       "      <td>5719096.61</td>\n",
       "    </tr>\n",
       "    <tr>\n",
       "      <th>XLarge Bags</th>\n",
       "      <td>0.000</td>\n",
       "      <td>0.000</td>\n",
       "      <td>0.000</td>\n",
       "      <td>0.00</td>\n",
       "      <td>0.000</td>\n",
       "      <td>0.000</td>\n",
       "      <td>0.00</td>\n",
       "      <td>0.000</td>\n",
       "      <td>20.252</td>\n",
       "      <td>132.50</td>\n",
       "      <td>557.114</td>\n",
       "      <td>3688.912</td>\n",
       "      <td>12058.452</td>\n",
       "      <td>1.696502e+04</td>\n",
       "      <td>2.537550e+04</td>\n",
       "      <td>3.944922e+04</td>\n",
       "      <td>6.476548e+04</td>\n",
       "      <td>551693.65</td>\n",
       "    </tr>\n",
       "    <tr>\n",
       "      <th>year</th>\n",
       "      <td>2015.000</td>\n",
       "      <td>2015.000</td>\n",
       "      <td>2015.000</td>\n",
       "      <td>2015.00</td>\n",
       "      <td>2015.000</td>\n",
       "      <td>2016.000</td>\n",
       "      <td>2016.00</td>\n",
       "      <td>2016.000</td>\n",
       "      <td>2017.000</td>\n",
       "      <td>2017.00</td>\n",
       "      <td>2017.000</td>\n",
       "      <td>2017.000</td>\n",
       "      <td>2018.000</td>\n",
       "      <td>2.018000e+03</td>\n",
       "      <td>2.018000e+03</td>\n",
       "      <td>2.018000e+03</td>\n",
       "      <td>2.018000e+03</td>\n",
       "      <td>2018.00</td>\n",
       "    </tr>\n",
       "  </tbody>\n",
       "</table>\n",
       "</div>"
      ],
      "text/plain": [
       "                  0.05      0.10      0.20      0.25       0.30       0.40  \\\n",
       "Unnamed: 0       2.000     4.000     8.000     10.00     12.000     18.000   \n",
       "AveragePrice     0.830     0.930     1.050      1.10      1.150      1.260   \n",
       "Total Volume  2371.862  3896.768  8168.866  10838.58  15181.304  42137.088   \n",
       "4046            19.600    94.276   483.362    854.07   1368.118   3261.580   \n",
       "4225           103.614   367.484  1918.532   3008.78   4265.508  10961.994   \n",
       "4770             0.000     0.000     0.000      0.00      0.000     42.704   \n",
       "Total Bags     628.890  1299.208  3347.674   5088.64   7316.634  16643.260   \n",
       "Small Bags     256.670   583.110  1686.086   2849.42   4761.328  11502.076   \n",
       "Large Bags       0.000     0.000    30.918    127.47    329.944   1105.110   \n",
       "XLarge Bags      0.000     0.000     0.000      0.00      0.000      0.000   \n",
       "year          2015.000  2015.000  2015.000   2015.00   2015.000   2016.000   \n",
       "\n",
       "                   0.50        0.60        0.70       0.75        0.80  \\\n",
       "Unnamed: 0        24.00      29.000      35.000      38.00      41.000   \n",
       "AveragePrice       1.37       1.480       1.600       1.66       1.740   \n",
       "Total Volume  107376.76  192430.124  319613.142  432962.29  604868.968   \n",
       "4046            8645.30   31698.078   77991.410  111020.20  152679.068   \n",
       "4225           29061.02   53202.052   98296.168  150206.86  222163.620   \n",
       "4770             184.99     768.782    3466.120    6243.42   10972.600   \n",
       "Total Bags     39743.83   62361.468   88901.748  110783.37  149306.360   \n",
       "Small Bags     26362.82   46725.754   68884.094   83337.67  104537.112   \n",
       "Large Bags      2647.71    6087.796   14392.206   22029.25   34350.986   \n",
       "XLarge Bags        0.00       0.000      20.252     132.50     557.114   \n",
       "year            2016.00    2016.000    2017.000    2017.00    2017.000   \n",
       "\n",
       "                     0.90         0.95          0.96          0.97  \\\n",
       "Unnamed: 0         46.000       49.000  5.000000e+01  5.000000e+01   \n",
       "AveragePrice        1.930        2.110  2.170000e+00  2.250000e+00   \n",
       "Total Volume  1387045.760  3716315.410  4.457324e+06  5.411527e+06   \n",
       "4046           538385.184  1263359.678  1.815998e+06  2.276946e+06   \n",
       "4225           500784.552  1303657.658  1.566151e+06  1.858844e+06   \n",
       "4770            31492.442   106156.574  1.282828e+05  1.618103e+05   \n",
       "Total Bags     442141.928  1005478.892  1.180500e+06  1.407423e+06   \n",
       "Small Bags     354266.852   768147.228  9.123473e+05  1.124550e+06   \n",
       "Large Bags      94295.338   195699.768  2.527005e+05  3.420543e+05   \n",
       "XLarge Bags      3688.912    12058.452  1.696502e+04  2.537550e+04   \n",
       "year             2017.000     2018.000  2.018000e+03  2.018000e+03   \n",
       "\n",
       "                      0.98          0.99         1.00  \n",
       "Unnamed: 0    5.100000e+01  5.100000e+01        52.00  \n",
       "AveragePrice  2.340000e+00  2.540000e+00         3.25  \n",
       "Total Volume  6.303591e+06  8.376759e+06  62505646.52  \n",
       "4046          2.805307e+06  4.059374e+06  22743616.17  \n",
       "4225          2.261075e+06  3.791560e+06  20470572.61  \n",
       "4770          2.371003e+05  4.527798e+05   2546439.11  \n",
       "Total Bags    1.846537e+06  3.232558e+06  19373134.37  \n",
       "Small Bags    1.436144e+06  2.306055e+06  13384586.80  \n",
       "Large Bags    5.232908e+05  1.053996e+06   5719096.61  \n",
       "XLarge Bags   3.944922e+04  6.476548e+04    551693.65  \n",
       "year          2.018000e+03  2.018000e+03      2018.00  "
      ]
     },
     "execution_count": 14,
     "metadata": {},
     "output_type": "execute_result"
    }
   ],
   "source": [
    "avocado.quantile([0.05,0.1,0.2,0.25,0.3,0.4,0.5,0.6,0.7,0.75,0.8,0.9,0.95,0.96,0.97,0.98,0.99,1]).T\n",
    "\n",
    "# Using the Percentile method to detect Outliers from 5th to 100th Percentile of the Dataset"
   ]
  },
  {
   "cell_type": "code",
   "execution_count": 15,
   "metadata": {},
   "outputs": [
    {
     "data": {
      "image/png": "[encoded data removed]",
      "text/plain": [
       "<Figure size 2160x2880 with 20 Axes>"
      ]
     },
     "metadata": {
      "needs_background": "light"
     },
     "output_type": "display_data"
    }
   ],
   "source": [
    "avocado.plot(kind=\"box\", subplots=True, layout=(5,4), figsize=(30,40), fontsize=12)\n",
    "plt.show()\n",
    "\n",
    "# Graphical Representation of Boxplots showing the presence of Outliers in different Columns of the Avocados Dataset\n",
    "# It shows the presence of many outliers present in the Dataset"
   ]
  },
  {
   "cell_type": "code",
   "execution_count": null,
   "metadata": {},
   "outputs": [],
   "source": []
  },
  {
   "cell_type": "code",
   "execution_count": null,
   "metadata": {},
   "outputs": [],
   "source": []
  },
  {
   "cell_type": "markdown",
   "metadata": {},
   "source": [
    "### Checking Skewness:-"
   ]
  },
  {
   "cell_type": "code",
   "execution_count": 16,
   "metadata": {},
   "outputs": [
    {
     "data": {
      "text/plain": [
       "Unnamed: 0       0.108334\n",
       "AveragePrice     0.580303\n",
       "Total Volume     9.007687\n",
       "4046             8.648220\n",
       "4225             8.942466\n",
       "4770            10.159396\n",
       "Total Bags       9.756072\n",
       "Small Bags       9.540660\n",
       "Large Bags       9.796455\n",
       "XLarge Bags     13.139751\n",
       "year             0.215339\n",
       "dtype: float64"
      ]
     },
     "execution_count": 16,
     "metadata": {},
     "output_type": "execute_result"
    }
   ],
   "source": [
    "avocado.skew()\n",
    "\n",
    "# Checking the Skewness present in the Avocado Dataset\n",
    "# We can see that most of the columns have a very high level of skewness"
   ]
  },
  {
   "cell_type": "code",
   "execution_count": 17,
   "metadata": {},
   "outputs": [
    {
     "data": {
      "text/plain": [
       "<AxesSubplot:xlabel='Total Volume', ylabel='Density'>"
      ]
     },
     "execution_count": 17,
     "metadata": {},
     "output_type": "execute_result"
    },
    {
     "data": {
      "image/png": "[encoded data removed]",
      "text/plain": [
       "<Figure size 432x288 with 1 Axes>"
      ]
     },
     "metadata": {
      "needs_background": "light"
     },
     "output_type": "display_data"
    }
   ],
   "source": [
    "sns.distplot(avocado[\"Total Volume\"])\n",
    "\n",
    "# The Total Volume column is displaying very high Skewness Level"
   ]
  },
  {
   "cell_type": "code",
   "execution_count": 18,
   "metadata": {},
   "outputs": [
    {
     "data": {
      "text/plain": [
       "<AxesSubplot:xlabel='4046', ylabel='Density'>"
      ]
     },
     "execution_count": 18,
     "metadata": {},
     "output_type": "execute_result"
    },
    {
     "data": {
      "image/png": "[encoded data removed]",
      "text/plain": [
       "<Figure size 432x288 with 1 Axes>"
      ]
     },
     "metadata": {
      "needs_background": "light"
     },
     "output_type": "display_data"
    }
   ],
   "source": [
    "sns.distplot(avocado[\"4046\"])\n",
    "\n",
    "# The 4046 column is displaying very high Skewness Level"
   ]
  },
  {
   "cell_type": "code",
   "execution_count": 19,
   "metadata": {},
   "outputs": [
    {
     "data": {
      "text/plain": [
       "<AxesSubplot:xlabel='4225', ylabel='Density'>"
      ]
     },
     "execution_count": 19,
     "metadata": {},
     "output_type": "execute_result"
    },
    {
     "data": {
      "image/png": "[encoded data removed]",
      "text/plain": [
       "<Figure size 432x288 with 1 Axes>"
      ]
     },
     "metadata": {
      "needs_background": "light"
     },
     "output_type": "display_data"
    }
   ],
   "source": [
    "sns.distplot(avocado[\"4225\"])\n",
    "\n",
    "# The 4225 column is displaying very high Skewness Level"
   ]
  },
  {
   "cell_type": "code",
   "execution_count": 20,
   "metadata": {},
   "outputs": [
    {
     "data": {
      "text/plain": [
       "<AxesSubplot:xlabel='4770', ylabel='Density'>"
      ]
     },
     "execution_count": 20,
     "metadata": {},
     "output_type": "execute_result"
    },
    {
     "data": {
      "image/png": "[encoded data removed]",
      "text/plain": [
       "<Figure size 432x288 with 1 Axes>"
      ]
     },
     "metadata": {
      "needs_background": "light"
     },
     "output_type": "display_data"
    }
   ],
   "source": [
    "sns.distplot(avocado[\"4770\"])\n",
    "\n",
    "# The 4770 column is displaying very high Skewness Level"
   ]
  },
  {
   "cell_type": "code",
   "execution_count": 21,
   "metadata": {},
   "outputs": [
    {
     "data": {
      "text/plain": [
       "<AxesSubplot:xlabel='Total Bags', ylabel='Density'>"
      ]
     },
     "execution_count": 21,
     "metadata": {},
     "output_type": "execute_result"
    },
    {
     "data": {
      "image/png": "[encoded data removed]",
      "text/plain": [
       "<Figure size 432x288 with 1 Axes>"
      ]
     },
     "metadata": {
      "needs_background": "light"
     },
     "output_type": "display_data"
    }
   ],
   "source": [
    "sns.distplot(avocado[\"Total Bags\"])\n",
    "\n",
    "# The Total Bags column is displaying very high Skewness Level"
   ]
  },
  {
   "cell_type": "code",
   "execution_count": null,
   "metadata": {},
   "outputs": [],
   "source": []
  },
  {
   "cell_type": "markdown",
   "metadata": {},
   "source": [
    "# Data Cleaning:-"
   ]
  },
  {
   "cell_type": "code",
   "execution_count": 22,
   "metadata": {},
   "outputs": [
    {
     "data": {
      "text/plain": [
       "Index(['Unnamed: 0', 'Date', 'AveragePrice', 'Total Volume', '4046', '4225',\n",
       "       '4770', 'Total Bags', 'Small Bags', 'Large Bags', 'XLarge Bags', 'type',\n",
       "       'year', 'region'],\n",
       "      dtype='object')"
      ]
     },
     "execution_count": 22,
     "metadata": {},
     "output_type": "execute_result"
    }
   ],
   "source": [
    "avocado.columns"
   ]
  },
  {
   "cell_type": "code",
   "execution_count": 23,
   "metadata": {},
   "outputs": [],
   "source": [
    "avocado.drop(columns=[\"Unnamed: 0\",\"Small Bags\",\"Large Bags\",\"XLarge Bags\"], inplace=True)\n",
    "\n",
    "# We are dropping these columns to avoid multicollinearity "
   ]
  },
  {
   "cell_type": "code",
   "execution_count": 24,
   "metadata": {},
   "outputs": [
    {
     "data": {
      "text/html": [
       "<div>\n",
       "<style scoped>\n",
       "    .dataframe tbody tr th:only-of-type {\n",
       "        vertical-align: middle;\n",
       "    }\n",
       "\n",
       "    .dataframe tbody tr th {\n",
       "        vertical-align: top;\n",
       "    }\n",
       "\n",
       "    .dataframe thead th {\n",
       "        text-align: right;\n",
       "    }\n",
       "</style>\n",
       "<table border=\"1\" class=\"dataframe\">\n",
       "  <thead>\n",
       "    <tr style=\"text-align: right;\">\n",
       "      <th></th>\n",
       "      <th>Date</th>\n",
       "      <th>AveragePrice</th>\n",
       "      <th>Total Volume</th>\n",
       "      <th>4046</th>\n",
       "      <th>4225</th>\n",
       "      <th>4770</th>\n",
       "      <th>Total Bags</th>\n",
       "      <th>type</th>\n",
       "      <th>year</th>\n",
       "      <th>region</th>\n",
       "    </tr>\n",
       "  </thead>\n",
       "  <tbody>\n",
       "    <tr>\n",
       "      <th>0</th>\n",
       "      <td>2015-12-27</td>\n",
       "      <td>1.33</td>\n",
       "      <td>64236.62</td>\n",
       "      <td>1036.74</td>\n",
       "      <td>54454.85</td>\n",
       "      <td>48.16</td>\n",
       "      <td>8696.87</td>\n",
       "      <td>conventional</td>\n",
       "      <td>2015</td>\n",
       "      <td>Albany</td>\n",
       "    </tr>\n",
       "    <tr>\n",
       "      <th>1</th>\n",
       "      <td>2015-12-20</td>\n",
       "      <td>1.35</td>\n",
       "      <td>54876.98</td>\n",
       "      <td>674.28</td>\n",
       "      <td>44638.81</td>\n",
       "      <td>58.33</td>\n",
       "      <td>9505.56</td>\n",
       "      <td>conventional</td>\n",
       "      <td>2015</td>\n",
       "      <td>Albany</td>\n",
       "    </tr>\n",
       "    <tr>\n",
       "      <th>2</th>\n",
       "      <td>2015-12-13</td>\n",
       "      <td>0.93</td>\n",
       "      <td>118220.22</td>\n",
       "      <td>794.70</td>\n",
       "      <td>109149.67</td>\n",
       "      <td>130.50</td>\n",
       "      <td>8145.35</td>\n",
       "      <td>conventional</td>\n",
       "      <td>2015</td>\n",
       "      <td>Albany</td>\n",
       "    </tr>\n",
       "    <tr>\n",
       "      <th>3</th>\n",
       "      <td>2015-12-06</td>\n",
       "      <td>1.08</td>\n",
       "      <td>78992.15</td>\n",
       "      <td>1132.00</td>\n",
       "      <td>71976.41</td>\n",
       "      <td>72.58</td>\n",
       "      <td>5811.16</td>\n",
       "      <td>conventional</td>\n",
       "      <td>2015</td>\n",
       "      <td>Albany</td>\n",
       "    </tr>\n",
       "    <tr>\n",
       "      <th>4</th>\n",
       "      <td>2015-11-29</td>\n",
       "      <td>1.28</td>\n",
       "      <td>51039.60</td>\n",
       "      <td>941.48</td>\n",
       "      <td>43838.39</td>\n",
       "      <td>75.78</td>\n",
       "      <td>6183.95</td>\n",
       "      <td>conventional</td>\n",
       "      <td>2015</td>\n",
       "      <td>Albany</td>\n",
       "    </tr>\n",
       "    <tr>\n",
       "      <th>...</th>\n",
       "      <td>...</td>\n",
       "      <td>...</td>\n",
       "      <td>...</td>\n",
       "      <td>...</td>\n",
       "      <td>...</td>\n",
       "      <td>...</td>\n",
       "      <td>...</td>\n",
       "      <td>...</td>\n",
       "      <td>...</td>\n",
       "      <td>...</td>\n",
       "    </tr>\n",
       "    <tr>\n",
       "      <th>18244</th>\n",
       "      <td>2018-02-04</td>\n",
       "      <td>1.63</td>\n",
       "      <td>17074.83</td>\n",
       "      <td>2046.96</td>\n",
       "      <td>1529.20</td>\n",
       "      <td>0.00</td>\n",
       "      <td>13498.67</td>\n",
       "      <td>organic</td>\n",
       "      <td>2018</td>\n",
       "      <td>WestTexNewMexico</td>\n",
       "    </tr>\n",
       "    <tr>\n",
       "      <th>18245</th>\n",
       "      <td>2018-01-28</td>\n",
       "      <td>1.71</td>\n",
       "      <td>13888.04</td>\n",
       "      <td>1191.70</td>\n",
       "      <td>3431.50</td>\n",
       "      <td>0.00</td>\n",
       "      <td>9264.84</td>\n",
       "      <td>organic</td>\n",
       "      <td>2018</td>\n",
       "      <td>WestTexNewMexico</td>\n",
       "    </tr>\n",
       "    <tr>\n",
       "      <th>18246</th>\n",
       "      <td>2018-01-21</td>\n",
       "      <td>1.87</td>\n",
       "      <td>13766.76</td>\n",
       "      <td>1191.92</td>\n",
       "      <td>2452.79</td>\n",
       "      <td>727.94</td>\n",
       "      <td>9394.11</td>\n",
       "      <td>organic</td>\n",
       "      <td>2018</td>\n",
       "      <td>WestTexNewMexico</td>\n",
       "    </tr>\n",
       "    <tr>\n",
       "      <th>18247</th>\n",
       "      <td>2018-01-14</td>\n",
       "      <td>1.93</td>\n",
       "      <td>16205.22</td>\n",
       "      <td>1527.63</td>\n",
       "      <td>2981.04</td>\n",
       "      <td>727.01</td>\n",
       "      <td>10969.54</td>\n",
       "      <td>organic</td>\n",
       "      <td>2018</td>\n",
       "      <td>WestTexNewMexico</td>\n",
       "    </tr>\n",
       "    <tr>\n",
       "      <th>18248</th>\n",
       "      <td>2018-01-07</td>\n",
       "      <td>1.62</td>\n",
       "      <td>17489.58</td>\n",
       "      <td>2894.77</td>\n",
       "      <td>2356.13</td>\n",
       "      <td>224.53</td>\n",
       "      <td>12014.15</td>\n",
       "      <td>organic</td>\n",
       "      <td>2018</td>\n",
       "      <td>WestTexNewMexico</td>\n",
       "    </tr>\n",
       "  </tbody>\n",
       "</table>\n",
       "<p>18249 rows × 10 columns</p>\n",
       "</div>"
      ],
      "text/plain": [
       "             Date  AveragePrice  Total Volume     4046       4225    4770  \\\n",
       "0      2015-12-27          1.33      64236.62  1036.74   54454.85   48.16   \n",
       "1      2015-12-20          1.35      54876.98   674.28   44638.81   58.33   \n",
       "2      2015-12-13          0.93     118220.22   794.70  109149.67  130.50   \n",
       "3      2015-12-06          1.08      78992.15  1132.00   71976.41   72.58   \n",
       "4      2015-11-29          1.28      51039.60   941.48   43838.39   75.78   \n",
       "...           ...           ...           ...      ...        ...     ...   \n",
       "18244  2018-02-04          1.63      17074.83  2046.96    1529.20    0.00   \n",
       "18245  2018-01-28          1.71      13888.04  1191.70    3431.50    0.00   \n",
       "18246  2018-01-21          1.87      13766.76  1191.92    2452.79  727.94   \n",
       "18247  2018-01-14          1.93      16205.22  1527.63    2981.04  727.01   \n",
       "18248  2018-01-07          1.62      17489.58  2894.77    2356.13  224.53   \n",
       "\n",
       "       Total Bags          type  year            region  \n",
       "0         8696.87  conventional  2015            Albany  \n",
       "1         9505.56  conventional  2015            Albany  \n",
       "2         8145.35  conventional  2015            Albany  \n",
       "3         5811.16  conventional  2015            Albany  \n",
       "4         6183.95  conventional  2015            Albany  \n",
       "...           ...           ...   ...               ...  \n",
       "18244    13498.67       organic  2018  WestTexNewMexico  \n",
       "18245     9264.84       organic  2018  WestTexNewMexico  \n",
       "18246     9394.11       organic  2018  WestTexNewMexico  \n",
       "18247    10969.54       organic  2018  WestTexNewMexico  \n",
       "18248    12014.15       organic  2018  WestTexNewMexico  \n",
       "\n",
       "[18249 rows x 10 columns]"
      ]
     },
     "execution_count": 24,
     "metadata": {},
     "output_type": "execute_result"
    }
   ],
   "source": [
    "avocado"
   ]
  },
  {
   "cell_type": "code",
   "execution_count": 25,
   "metadata": {},
   "outputs": [],
   "source": [
    "avocado['Day'] = pd.DatetimeIndex(avocado['Date']).year\n",
    "\n",
    "# Extracting Day from the Date column"
   ]
  },
  {
   "cell_type": "code",
   "execution_count": 26,
   "metadata": {},
   "outputs": [],
   "source": [
    "avocado['Month'] = pd.DatetimeIndex(avocado['Date']).month\n",
    "\n",
    "# Extracting Month from the Date column"
   ]
  },
  {
   "cell_type": "code",
   "execution_count": 27,
   "metadata": {},
   "outputs": [],
   "source": [
    "avocado[\"Year\"]=pd.DatetimeIndex(avocado['Date']).year\n",
    "\n",
    "# Extracting Year from the Date column"
   ]
  },
  {
   "cell_type": "code",
   "execution_count": 28,
   "metadata": {},
   "outputs": [
    {
     "data": {
      "text/html": [
       "<div>\n",
       "<style scoped>\n",
       "    .dataframe tbody tr th:only-of-type {\n",
       "        vertical-align: middle;\n",
       "    }\n",
       "\n",
       "    .dataframe tbody tr th {\n",
       "        vertical-align: top;\n",
       "    }\n",
       "\n",
       "    .dataframe thead th {\n",
       "        text-align: right;\n",
       "    }\n",
       "</style>\n",
       "<table border=\"1\" class=\"dataframe\">\n",
       "  <thead>\n",
       "    <tr style=\"text-align: right;\">\n",
       "      <th></th>\n",
       "      <th>Date</th>\n",
       "      <th>AveragePrice</th>\n",
       "      <th>Total Volume</th>\n",
       "      <th>4046</th>\n",
       "      <th>4225</th>\n",
       "      <th>4770</th>\n",
       "      <th>Total Bags</th>\n",
       "      <th>type</th>\n",
       "      <th>year</th>\n",
       "      <th>region</th>\n",
       "      <th>Day</th>\n",
       "      <th>Month</th>\n",
       "      <th>Year</th>\n",
       "    </tr>\n",
       "  </thead>\n",
       "  <tbody>\n",
       "    <tr>\n",
       "      <th>0</th>\n",
       "      <td>2015-12-27</td>\n",
       "      <td>1.33</td>\n",
       "      <td>64236.62</td>\n",
       "      <td>1036.74</td>\n",
       "      <td>54454.85</td>\n",
       "      <td>48.16</td>\n",
       "      <td>8696.87</td>\n",
       "      <td>conventional</td>\n",
       "      <td>2015</td>\n",
       "      <td>Albany</td>\n",
       "      <td>2015</td>\n",
       "      <td>12</td>\n",
       "      <td>2015</td>\n",
       "    </tr>\n",
       "    <tr>\n",
       "      <th>1</th>\n",
       "      <td>2015-12-20</td>\n",
       "      <td>1.35</td>\n",
       "      <td>54876.98</td>\n",
       "      <td>674.28</td>\n",
       "      <td>44638.81</td>\n",
       "      <td>58.33</td>\n",
       "      <td>9505.56</td>\n",
       "      <td>conventional</td>\n",
       "      <td>2015</td>\n",
       "      <td>Albany</td>\n",
       "      <td>2015</td>\n",
       "      <td>12</td>\n",
       "      <td>2015</td>\n",
       "    </tr>\n",
       "    <tr>\n",
       "      <th>2</th>\n",
       "      <td>2015-12-13</td>\n",
       "      <td>0.93</td>\n",
       "      <td>118220.22</td>\n",
       "      <td>794.70</td>\n",
       "      <td>109149.67</td>\n",
       "      <td>130.50</td>\n",
       "      <td>8145.35</td>\n",
       "      <td>conventional</td>\n",
       "      <td>2015</td>\n",
       "      <td>Albany</td>\n",
       "      <td>2015</td>\n",
       "      <td>12</td>\n",
       "      <td>2015</td>\n",
       "    </tr>\n",
       "    <tr>\n",
       "      <th>3</th>\n",
       "      <td>2015-12-06</td>\n",
       "      <td>1.08</td>\n",
       "      <td>78992.15</td>\n",
       "      <td>1132.00</td>\n",
       "      <td>71976.41</td>\n",
       "      <td>72.58</td>\n",
       "      <td>5811.16</td>\n",
       "      <td>conventional</td>\n",
       "      <td>2015</td>\n",
       "      <td>Albany</td>\n",
       "      <td>2015</td>\n",
       "      <td>12</td>\n",
       "      <td>2015</td>\n",
       "    </tr>\n",
       "    <tr>\n",
       "      <th>4</th>\n",
       "      <td>2015-11-29</td>\n",
       "      <td>1.28</td>\n",
       "      <td>51039.60</td>\n",
       "      <td>941.48</td>\n",
       "      <td>43838.39</td>\n",
       "      <td>75.78</td>\n",
       "      <td>6183.95</td>\n",
       "      <td>conventional</td>\n",
       "      <td>2015</td>\n",
       "      <td>Albany</td>\n",
       "      <td>2015</td>\n",
       "      <td>11</td>\n",
       "      <td>2015</td>\n",
       "    </tr>\n",
       "    <tr>\n",
       "      <th>...</th>\n",
       "      <td>...</td>\n",
       "      <td>...</td>\n",
       "      <td>...</td>\n",
       "      <td>...</td>\n",
       "      <td>...</td>\n",
       "      <td>...</td>\n",
       "      <td>...</td>\n",
       "      <td>...</td>\n",
       "      <td>...</td>\n",
       "      <td>...</td>\n",
       "      <td>...</td>\n",
       "      <td>...</td>\n",
       "      <td>...</td>\n",
       "    </tr>\n",
       "    <tr>\n",
       "      <th>18244</th>\n",
       "      <td>2018-02-04</td>\n",
       "      <td>1.63</td>\n",
       "      <td>17074.83</td>\n",
       "      <td>2046.96</td>\n",
       "      <td>1529.20</td>\n",
       "      <td>0.00</td>\n",
       "      <td>13498.67</td>\n",
       "      <td>organic</td>\n",
       "      <td>2018</td>\n",
       "      <td>WestTexNewMexico</td>\n",
       "      <td>2018</td>\n",
       "      <td>2</td>\n",
       "      <td>2018</td>\n",
       "    </tr>\n",
       "    <tr>\n",
       "      <th>18245</th>\n",
       "      <td>2018-01-28</td>\n",
       "      <td>1.71</td>\n",
       "      <td>13888.04</td>\n",
       "      <td>1191.70</td>\n",
       "      <td>3431.50</td>\n",
       "      <td>0.00</td>\n",
       "      <td>9264.84</td>\n",
       "      <td>organic</td>\n",
       "      <td>2018</td>\n",
       "      <td>WestTexNewMexico</td>\n",
       "      <td>2018</td>\n",
       "      <td>1</td>\n",
       "      <td>2018</td>\n",
       "    </tr>\n",
       "    <tr>\n",
       "      <th>18246</th>\n",
       "      <td>2018-01-21</td>\n",
       "      <td>1.87</td>\n",
       "      <td>13766.76</td>\n",
       "      <td>1191.92</td>\n",
       "      <td>2452.79</td>\n",
       "      <td>727.94</td>\n",
       "      <td>9394.11</td>\n",
       "      <td>organic</td>\n",
       "      <td>2018</td>\n",
       "      <td>WestTexNewMexico</td>\n",
       "      <td>2018</td>\n",
       "      <td>1</td>\n",
       "      <td>2018</td>\n",
       "    </tr>\n",
       "    <tr>\n",
       "      <th>18247</th>\n",
       "      <td>2018-01-14</td>\n",
       "      <td>1.93</td>\n",
       "      <td>16205.22</td>\n",
       "      <td>1527.63</td>\n",
       "      <td>2981.04</td>\n",
       "      <td>727.01</td>\n",
       "      <td>10969.54</td>\n",
       "      <td>organic</td>\n",
       "      <td>2018</td>\n",
       "      <td>WestTexNewMexico</td>\n",
       "      <td>2018</td>\n",
       "      <td>1</td>\n",
       "      <td>2018</td>\n",
       "    </tr>\n",
       "    <tr>\n",
       "      <th>18248</th>\n",
       "      <td>2018-01-07</td>\n",
       "      <td>1.62</td>\n",
       "      <td>17489.58</td>\n",
       "      <td>2894.77</td>\n",
       "      <td>2356.13</td>\n",
       "      <td>224.53</td>\n",
       "      <td>12014.15</td>\n",
       "      <td>organic</td>\n",
       "      <td>2018</td>\n",
       "      <td>WestTexNewMexico</td>\n",
       "      <td>2018</td>\n",
       "      <td>1</td>\n",
       "      <td>2018</td>\n",
       "    </tr>\n",
       "  </tbody>\n",
       "</table>\n",
       "<p>18249 rows × 13 columns</p>\n",
       "</div>"
      ],
      "text/plain": [
       "             Date  AveragePrice  Total Volume     4046       4225    4770  \\\n",
       "0      2015-12-27          1.33      64236.62  1036.74   54454.85   48.16   \n",
       "1      2015-12-20          1.35      54876.98   674.28   44638.81   58.33   \n",
       "2      2015-12-13          0.93     118220.22   794.70  109149.67  130.50   \n",
       "3      2015-12-06          1.08      78992.15  1132.00   71976.41   72.58   \n",
       "4      2015-11-29          1.28      51039.60   941.48   43838.39   75.78   \n",
       "...           ...           ...           ...      ...        ...     ...   \n",
       "18244  2018-02-04          1.63      17074.83  2046.96    1529.20    0.00   \n",
       "18245  2018-01-28          1.71      13888.04  1191.70    3431.50    0.00   \n",
       "18246  2018-01-21          1.87      13766.76  1191.92    2452.79  727.94   \n",
       "18247  2018-01-14          1.93      16205.22  1527.63    2981.04  727.01   \n",
       "18248  2018-01-07          1.62      17489.58  2894.77    2356.13  224.53   \n",
       "\n",
       "       Total Bags          type  year            region   Day  Month  Year  \n",
       "0         8696.87  conventional  2015            Albany  2015     12  2015  \n",
       "1         9505.56  conventional  2015            Albany  2015     12  2015  \n",
       "2         8145.35  conventional  2015            Albany  2015     12  2015  \n",
       "3         5811.16  conventional  2015            Albany  2015     12  2015  \n",
       "4         6183.95  conventional  2015            Albany  2015     11  2015  \n",
       "...           ...           ...   ...               ...   ...    ...   ...  \n",
       "18244    13498.67       organic  2018  WestTexNewMexico  2018      2  2018  \n",
       "18245     9264.84       organic  2018  WestTexNewMexico  2018      1  2018  \n",
       "18246     9394.11       organic  2018  WestTexNewMexico  2018      1  2018  \n",
       "18247    10969.54       organic  2018  WestTexNewMexico  2018      1  2018  \n",
       "18248    12014.15       organic  2018  WestTexNewMexico  2018      1  2018  \n",
       "\n",
       "[18249 rows x 13 columns]"
      ]
     },
     "execution_count": 28,
     "metadata": {},
     "output_type": "execute_result"
    }
   ],
   "source": [
    "avocado"
   ]
  },
  {
   "cell_type": "code",
   "execution_count": 29,
   "metadata": {},
   "outputs": [],
   "source": [
    "avocado.drop(columns=[\"Date\",\"year\"],inplace=True)\n",
    "\n",
    "# Dropping Date & Year to avoid multicollinearity as we have created Day, Month & Year column out of it"
   ]
  },
  {
   "cell_type": "code",
   "execution_count": 30,
   "metadata": {},
   "outputs": [
    {
     "data": {
      "text/html": [
       "<div>\n",
       "<style scoped>\n",
       "    .dataframe tbody tr th:only-of-type {\n",
       "        vertical-align: middle;\n",
       "    }\n",
       "\n",
       "    .dataframe tbody tr th {\n",
       "        vertical-align: top;\n",
       "    }\n",
       "\n",
       "    .dataframe thead th {\n",
       "        text-align: right;\n",
       "    }\n",
       "</style>\n",
       "<table border=\"1\" class=\"dataframe\">\n",
       "  <thead>\n",
       "    <tr style=\"text-align: right;\">\n",
       "      <th></th>\n",
       "      <th>AveragePrice</th>\n",
       "      <th>Total Volume</th>\n",
       "      <th>4046</th>\n",
       "      <th>4225</th>\n",
       "      <th>4770</th>\n",
       "      <th>Total Bags</th>\n",
       "      <th>type</th>\n",
       "      <th>region</th>\n",
       "      <th>Day</th>\n",
       "      <th>Month</th>\n",
       "      <th>Year</th>\n",
       "    </tr>\n",
       "  </thead>\n",
       "  <tbody>\n",
       "    <tr>\n",
       "      <th>0</th>\n",
       "      <td>1.33</td>\n",
       "      <td>64236.62</td>\n",
       "      <td>1036.74</td>\n",
       "      <td>54454.85</td>\n",
       "      <td>48.16</td>\n",
       "      <td>8696.87</td>\n",
       "      <td>conventional</td>\n",
       "      <td>Albany</td>\n",
       "      <td>2015</td>\n",
       "      <td>12</td>\n",
       "      <td>2015</td>\n",
       "    </tr>\n",
       "    <tr>\n",
       "      <th>1</th>\n",
       "      <td>1.35</td>\n",
       "      <td>54876.98</td>\n",
       "      <td>674.28</td>\n",
       "      <td>44638.81</td>\n",
       "      <td>58.33</td>\n",
       "      <td>9505.56</td>\n",
       "      <td>conventional</td>\n",
       "      <td>Albany</td>\n",
       "      <td>2015</td>\n",
       "      <td>12</td>\n",
       "      <td>2015</td>\n",
       "    </tr>\n",
       "    <tr>\n",
       "      <th>2</th>\n",
       "      <td>0.93</td>\n",
       "      <td>118220.22</td>\n",
       "      <td>794.70</td>\n",
       "      <td>109149.67</td>\n",
       "      <td>130.50</td>\n",
       "      <td>8145.35</td>\n",
       "      <td>conventional</td>\n",
       "      <td>Albany</td>\n",
       "      <td>2015</td>\n",
       "      <td>12</td>\n",
       "      <td>2015</td>\n",
       "    </tr>\n",
       "    <tr>\n",
       "      <th>3</th>\n",
       "      <td>1.08</td>\n",
       "      <td>78992.15</td>\n",
       "      <td>1132.00</td>\n",
       "      <td>71976.41</td>\n",
       "      <td>72.58</td>\n",
       "      <td>5811.16</td>\n",
       "      <td>conventional</td>\n",
       "      <td>Albany</td>\n",
       "      <td>2015</td>\n",
       "      <td>12</td>\n",
       "      <td>2015</td>\n",
       "    </tr>\n",
       "    <tr>\n",
       "      <th>4</th>\n",
       "      <td>1.28</td>\n",
       "      <td>51039.60</td>\n",
       "      <td>941.48</td>\n",
       "      <td>43838.39</td>\n",
       "      <td>75.78</td>\n",
       "      <td>6183.95</td>\n",
       "      <td>conventional</td>\n",
       "      <td>Albany</td>\n",
       "      <td>2015</td>\n",
       "      <td>11</td>\n",
       "      <td>2015</td>\n",
       "    </tr>\n",
       "    <tr>\n",
       "      <th>...</th>\n",
       "      <td>...</td>\n",
       "      <td>...</td>\n",
       "      <td>...</td>\n",
       "      <td>...</td>\n",
       "      <td>...</td>\n",
       "      <td>...</td>\n",
       "      <td>...</td>\n",
       "      <td>...</td>\n",
       "      <td>...</td>\n",
       "      <td>...</td>\n",
       "      <td>...</td>\n",
       "    </tr>\n",
       "    <tr>\n",
       "      <th>18244</th>\n",
       "      <td>1.63</td>\n",
       "      <td>17074.83</td>\n",
       "      <td>2046.96</td>\n",
       "      <td>1529.20</td>\n",
       "      <td>0.00</td>\n",
       "      <td>13498.67</td>\n",
       "      <td>organic</td>\n",
       "      <td>WestTexNewMexico</td>\n",
       "      <td>2018</td>\n",
       "      <td>2</td>\n",
       "      <td>2018</td>\n",
       "    </tr>\n",
       "    <tr>\n",
       "      <th>18245</th>\n",
       "      <td>1.71</td>\n",
       "      <td>13888.04</td>\n",
       "      <td>1191.70</td>\n",
       "      <td>3431.50</td>\n",
       "      <td>0.00</td>\n",
       "      <td>9264.84</td>\n",
       "      <td>organic</td>\n",
       "      <td>WestTexNewMexico</td>\n",
       "      <td>2018</td>\n",
       "      <td>1</td>\n",
       "      <td>2018</td>\n",
       "    </tr>\n",
       "    <tr>\n",
       "      <th>18246</th>\n",
       "      <td>1.87</td>\n",
       "      <td>13766.76</td>\n",
       "      <td>1191.92</td>\n",
       "      <td>2452.79</td>\n",
       "      <td>727.94</td>\n",
       "      <td>9394.11</td>\n",
       "      <td>organic</td>\n",
       "      <td>WestTexNewMexico</td>\n",
       "      <td>2018</td>\n",
       "      <td>1</td>\n",
       "      <td>2018</td>\n",
       "    </tr>\n",
       "    <tr>\n",
       "      <th>18247</th>\n",
       "      <td>1.93</td>\n",
       "      <td>16205.22</td>\n",
       "      <td>1527.63</td>\n",
       "      <td>2981.04</td>\n",
       "      <td>727.01</td>\n",
       "      <td>10969.54</td>\n",
       "      <td>organic</td>\n",
       "      <td>WestTexNewMexico</td>\n",
       "      <td>2018</td>\n",
       "      <td>1</td>\n",
       "      <td>2018</td>\n",
       "    </tr>\n",
       "    <tr>\n",
       "      <th>18248</th>\n",
       "      <td>1.62</td>\n",
       "      <td>17489.58</td>\n",
       "      <td>2894.77</td>\n",
       "      <td>2356.13</td>\n",
       "      <td>224.53</td>\n",
       "      <td>12014.15</td>\n",
       "      <td>organic</td>\n",
       "      <td>WestTexNewMexico</td>\n",
       "      <td>2018</td>\n",
       "      <td>1</td>\n",
       "      <td>2018</td>\n",
       "    </tr>\n",
       "  </tbody>\n",
       "</table>\n",
       "<p>18249 rows × 11 columns</p>\n",
       "</div>"
      ],
      "text/plain": [
       "       AveragePrice  Total Volume     4046       4225    4770  Total Bags  \\\n",
       "0              1.33      64236.62  1036.74   54454.85   48.16     8696.87   \n",
       "1              1.35      54876.98   674.28   44638.81   58.33     9505.56   \n",
       "2              0.93     118220.22   794.70  109149.67  130.50     8145.35   \n",
       "3              1.08      78992.15  1132.00   71976.41   72.58     5811.16   \n",
       "4              1.28      51039.60   941.48   43838.39   75.78     6183.95   \n",
       "...             ...           ...      ...        ...     ...         ...   \n",
       "18244          1.63      17074.83  2046.96    1529.20    0.00    13498.67   \n",
       "18245          1.71      13888.04  1191.70    3431.50    0.00     9264.84   \n",
       "18246          1.87      13766.76  1191.92    2452.79  727.94     9394.11   \n",
       "18247          1.93      16205.22  1527.63    2981.04  727.01    10969.54   \n",
       "18248          1.62      17489.58  2894.77    2356.13  224.53    12014.15   \n",
       "\n",
       "               type            region   Day  Month  Year  \n",
       "0      conventional            Albany  2015     12  2015  \n",
       "1      conventional            Albany  2015     12  2015  \n",
       "2      conventional            Albany  2015     12  2015  \n",
       "3      conventional            Albany  2015     12  2015  \n",
       "4      conventional            Albany  2015     11  2015  \n",
       "...             ...               ...   ...    ...   ...  \n",
       "18244       organic  WestTexNewMexico  2018      2  2018  \n",
       "18245       organic  WestTexNewMexico  2018      1  2018  \n",
       "18246       organic  WestTexNewMexico  2018      1  2018  \n",
       "18247       organic  WestTexNewMexico  2018      1  2018  \n",
       "18248       organic  WestTexNewMexico  2018      1  2018  \n",
       "\n",
       "[18249 rows x 11 columns]"
      ]
     },
     "execution_count": 30,
     "metadata": {},
     "output_type": "execute_result"
    }
   ],
   "source": [
    "avocado"
   ]
  },
  {
   "cell_type": "code",
   "execution_count": null,
   "metadata": {},
   "outputs": [],
   "source": []
  },
  {
   "cell_type": "code",
   "execution_count": 31,
   "metadata": {},
   "outputs": [],
   "source": [
    "from sklearn.preprocessing import LabelEncoder\n",
    "\n",
    "# Importing Ordinal Encoder from sklearn Library"
   ]
  },
  {
   "cell_type": "code",
   "execution_count": 32,
   "metadata": {},
   "outputs": [],
   "source": [
    "lab=LabelEncoder()"
   ]
  },
  {
   "cell_type": "code",
   "execution_count": 33,
   "metadata": {},
   "outputs": [],
   "source": [
    "for i in avocado.columns:\n",
    "    if avocado[i].dtypes==\"object\":\n",
    "        avocado[i]=lab.fit_transform(avocado[i].values.reshape(-1,1))\n",
    "        \n",
    "# Running a for loop to give numeric values to strings using the Label Encoder in training data"
   ]
  },
  {
   "cell_type": "code",
   "execution_count": 34,
   "metadata": {},
   "outputs": [
    {
     "data": {
      "text/html": [
       "<div>\n",
       "<style scoped>\n",
       "    .dataframe tbody tr th:only-of-type {\n",
       "        vertical-align: middle;\n",
       "    }\n",
       "\n",
       "    .dataframe tbody tr th {\n",
       "        vertical-align: top;\n",
       "    }\n",
       "\n",
       "    .dataframe thead th {\n",
       "        text-align: right;\n",
       "    }\n",
       "</style>\n",
       "<table border=\"1\" class=\"dataframe\">\n",
       "  <thead>\n",
       "    <tr style=\"text-align: right;\">\n",
       "      <th></th>\n",
       "      <th>AveragePrice</th>\n",
       "      <th>Total Volume</th>\n",
       "      <th>4046</th>\n",
       "      <th>4225</th>\n",
       "      <th>4770</th>\n",
       "      <th>Total Bags</th>\n",
       "      <th>type</th>\n",
       "      <th>region</th>\n",
       "      <th>Day</th>\n",
       "      <th>Month</th>\n",
       "      <th>Year</th>\n",
       "    </tr>\n",
       "  </thead>\n",
       "  <tbody>\n",
       "    <tr>\n",
       "      <th>0</th>\n",
       "      <td>1.33</td>\n",
       "      <td>64236.62</td>\n",
       "      <td>1036.74</td>\n",
       "      <td>54454.85</td>\n",
       "      <td>48.16</td>\n",
       "      <td>8696.87</td>\n",
       "      <td>0</td>\n",
       "      <td>0</td>\n",
       "      <td>2015</td>\n",
       "      <td>12</td>\n",
       "      <td>2015</td>\n",
       "    </tr>\n",
       "    <tr>\n",
       "      <th>1</th>\n",
       "      <td>1.35</td>\n",
       "      <td>54876.98</td>\n",
       "      <td>674.28</td>\n",
       "      <td>44638.81</td>\n",
       "      <td>58.33</td>\n",
       "      <td>9505.56</td>\n",
       "      <td>0</td>\n",
       "      <td>0</td>\n",
       "      <td>2015</td>\n",
       "      <td>12</td>\n",
       "      <td>2015</td>\n",
       "    </tr>\n",
       "    <tr>\n",
       "      <th>2</th>\n",
       "      <td>0.93</td>\n",
       "      <td>118220.22</td>\n",
       "      <td>794.70</td>\n",
       "      <td>109149.67</td>\n",
       "      <td>130.50</td>\n",
       "      <td>8145.35</td>\n",
       "      <td>0</td>\n",
       "      <td>0</td>\n",
       "      <td>2015</td>\n",
       "      <td>12</td>\n",
       "      <td>2015</td>\n",
       "    </tr>\n",
       "    <tr>\n",
       "      <th>3</th>\n",
       "      <td>1.08</td>\n",
       "      <td>78992.15</td>\n",
       "      <td>1132.00</td>\n",
       "      <td>71976.41</td>\n",
       "      <td>72.58</td>\n",
       "      <td>5811.16</td>\n",
       "      <td>0</td>\n",
       "      <td>0</td>\n",
       "      <td>2015</td>\n",
       "      <td>12</td>\n",
       "      <td>2015</td>\n",
       "    </tr>\n",
       "    <tr>\n",
       "      <th>4</th>\n",
       "      <td>1.28</td>\n",
       "      <td>51039.60</td>\n",
       "      <td>941.48</td>\n",
       "      <td>43838.39</td>\n",
       "      <td>75.78</td>\n",
       "      <td>6183.95</td>\n",
       "      <td>0</td>\n",
       "      <td>0</td>\n",
       "      <td>2015</td>\n",
       "      <td>11</td>\n",
       "      <td>2015</td>\n",
       "    </tr>\n",
       "    <tr>\n",
       "      <th>...</th>\n",
       "      <td>...</td>\n",
       "      <td>...</td>\n",
       "      <td>...</td>\n",
       "      <td>...</td>\n",
       "      <td>...</td>\n",
       "      <td>...</td>\n",
       "      <td>...</td>\n",
       "      <td>...</td>\n",
       "      <td>...</td>\n",
       "      <td>...</td>\n",
       "      <td>...</td>\n",
       "    </tr>\n",
       "    <tr>\n",
       "      <th>18244</th>\n",
       "      <td>1.63</td>\n",
       "      <td>17074.83</td>\n",
       "      <td>2046.96</td>\n",
       "      <td>1529.20</td>\n",
       "      <td>0.00</td>\n",
       "      <td>13498.67</td>\n",
       "      <td>1</td>\n",
       "      <td>53</td>\n",
       "      <td>2018</td>\n",
       "      <td>2</td>\n",
       "      <td>2018</td>\n",
       "    </tr>\n",
       "    <tr>\n",
       "      <th>18245</th>\n",
       "      <td>1.71</td>\n",
       "      <td>13888.04</td>\n",
       "      <td>1191.70</td>\n",
       "      <td>3431.50</td>\n",
       "      <td>0.00</td>\n",
       "      <td>9264.84</td>\n",
       "      <td>1</td>\n",
       "      <td>53</td>\n",
       "      <td>2018</td>\n",
       "      <td>1</td>\n",
       "      <td>2018</td>\n",
       "    </tr>\n",
       "    <tr>\n",
       "      <th>18246</th>\n",
       "      <td>1.87</td>\n",
       "      <td>13766.76</td>\n",
       "      <td>1191.92</td>\n",
       "      <td>2452.79</td>\n",
       "      <td>727.94</td>\n",
       "      <td>9394.11</td>\n",
       "      <td>1</td>\n",
       "      <td>53</td>\n",
       "      <td>2018</td>\n",
       "      <td>1</td>\n",
       "      <td>2018</td>\n",
       "    </tr>\n",
       "    <tr>\n",
       "      <th>18247</th>\n",
       "      <td>1.93</td>\n",
       "      <td>16205.22</td>\n",
       "      <td>1527.63</td>\n",
       "      <td>2981.04</td>\n",
       "      <td>727.01</td>\n",
       "      <td>10969.54</td>\n",
       "      <td>1</td>\n",
       "      <td>53</td>\n",
       "      <td>2018</td>\n",
       "      <td>1</td>\n",
       "      <td>2018</td>\n",
       "    </tr>\n",
       "    <tr>\n",
       "      <th>18248</th>\n",
       "      <td>1.62</td>\n",
       "      <td>17489.58</td>\n",
       "      <td>2894.77</td>\n",
       "      <td>2356.13</td>\n",
       "      <td>224.53</td>\n",
       "      <td>12014.15</td>\n",
       "      <td>1</td>\n",
       "      <td>53</td>\n",
       "      <td>2018</td>\n",
       "      <td>1</td>\n",
       "      <td>2018</td>\n",
       "    </tr>\n",
       "  </tbody>\n",
       "</table>\n",
       "<p>18249 rows × 11 columns</p>\n",
       "</div>"
      ],
      "text/plain": [
       "       AveragePrice  Total Volume     4046       4225    4770  Total Bags  \\\n",
       "0              1.33      64236.62  1036.74   54454.85   48.16     8696.87   \n",
       "1              1.35      54876.98   674.28   44638.81   58.33     9505.56   \n",
       "2              0.93     118220.22   794.70  109149.67  130.50     8145.35   \n",
       "3              1.08      78992.15  1132.00   71976.41   72.58     5811.16   \n",
       "4              1.28      51039.60   941.48   43838.39   75.78     6183.95   \n",
       "...             ...           ...      ...        ...     ...         ...   \n",
       "18244          1.63      17074.83  2046.96    1529.20    0.00    13498.67   \n",
       "18245          1.71      13888.04  1191.70    3431.50    0.00     9264.84   \n",
       "18246          1.87      13766.76  1191.92    2452.79  727.94     9394.11   \n",
       "18247          1.93      16205.22  1527.63    2981.04  727.01    10969.54   \n",
       "18248          1.62      17489.58  2894.77    2356.13  224.53    12014.15   \n",
       "\n",
       "       type  region   Day  Month  Year  \n",
       "0         0       0  2015     12  2015  \n",
       "1         0       0  2015     12  2015  \n",
       "2         0       0  2015     12  2015  \n",
       "3         0       0  2015     12  2015  \n",
       "4         0       0  2015     11  2015  \n",
       "...     ...     ...   ...    ...   ...  \n",
       "18244     1      53  2018      2  2018  \n",
       "18245     1      53  2018      1  2018  \n",
       "18246     1      53  2018      1  2018  \n",
       "18247     1      53  2018      1  2018  \n",
       "18248     1      53  2018      1  2018  \n",
       "\n",
       "[18249 rows x 11 columns]"
      ]
     },
     "execution_count": 34,
     "metadata": {},
     "output_type": "execute_result"
    }
   ],
   "source": [
    "avocado"
   ]
  },
  {
   "cell_type": "code",
   "execution_count": null,
   "metadata": {},
   "outputs": [],
   "source": []
  },
  {
   "cell_type": "markdown",
   "metadata": {},
   "source": [
    "### Outlier Treatment:-"
   ]
  },
  {
   "cell_type": "code",
   "execution_count": 35,
   "metadata": {},
   "outputs": [
    {
     "data": {
      "image/png": "[encoded data removed]",
      "text/plain": [
       "<Figure size 2160x2880 with 20 Axes>"
      ]
     },
     "metadata": {
      "needs_background": "light"
     },
     "output_type": "display_data"
    }
   ],
   "source": [
    "avocado.plot(kind=\"box\", subplots=True, layout=(5,4), figsize=(30,40), fontsize=12)\n",
    "plt.show()\n",
    "\n",
    "# Graphical Representation of Boxplots of all the columns\n",
    "# Few columns represent many outliers present in the dataset"
   ]
  },
  {
   "cell_type": "code",
   "execution_count": 36,
   "metadata": {},
   "outputs": [],
   "source": [
    "from scipy.stats import zscore\n",
    "\n",
    "# Importing the Zscore from the Scipy Library"
   ]
  },
  {
   "cell_type": "code",
   "execution_count": 85,
   "metadata": {},
   "outputs": [
    {
     "data": {
      "text/plain": [
       "array([[0.18868864, 0.22771641, 0.23081597, ..., 1.22128204, 1.64763162,\n",
       "        1.22128204],\n",
       "       [0.13901962, 0.23042664, 0.23110251, ..., 1.22128204, 1.64763162,\n",
       "        1.22128204],\n",
       "       [1.18206895, 0.21208462, 0.23100731, ..., 1.22128204, 1.64763162,\n",
       "        1.22128204],\n",
       "       ...,\n",
       "       [1.15237477, 0.24233073, 0.2306933 , ..., 1.97050371, 1.46495942,\n",
       "        1.97050371],\n",
       "       [1.30138182, 0.24162464, 0.2304279 , ..., 1.97050371, 1.46495942,\n",
       "        1.97050371],\n",
       "       [0.53151208, 0.24125273, 0.22934712, ..., 1.97050371, 1.46495942,\n",
       "        1.97050371]])"
      ]
     },
     "execution_count": 85,
     "metadata": {},
     "output_type": "execute_result"
    }
   ],
   "source": [
    "z=np.abs(zscore(avocado))\n",
    "z\n",
    "\n",
    "# We are taking the absolute of the zscore so all the values will be displayed in positive standard Deviation"
   ]
  },
  {
   "cell_type": "code",
   "execution_count": 38,
   "metadata": {},
   "outputs": [
    {
     "name": "stdout",
     "output_type": "stream",
     "text": [
      "(array([  346,   359,   783, ..., 17304, 17402, 17428], dtype=int64), array([2, 2, 4, ..., 0, 0, 0], dtype=int64))\n"
     ]
    }
   ],
   "source": [
    "print(np.where(z>3))\n",
    "\n",
    "# Printing the integer location of all the values that have Standard Deviation greater than +3\n",
    "# These points determine the point of outliers"
   ]
  },
  {
   "cell_type": "code",
   "execution_count": 39,
   "metadata": {},
   "outputs": [
    {
     "data": {
      "text/html": [
       "<div>\n",
       "<style scoped>\n",
       "    .dataframe tbody tr th:only-of-type {\n",
       "        vertical-align: middle;\n",
       "    }\n",
       "\n",
       "    .dataframe tbody tr th {\n",
       "        vertical-align: top;\n",
       "    }\n",
       "\n",
       "    .dataframe thead th {\n",
       "        text-align: right;\n",
       "    }\n",
       "</style>\n",
       "<table border=\"1\" class=\"dataframe\">\n",
       "  <thead>\n",
       "    <tr style=\"text-align: right;\">\n",
       "      <th></th>\n",
       "      <th>AveragePrice</th>\n",
       "      <th>Total Volume</th>\n",
       "      <th>4046</th>\n",
       "      <th>4225</th>\n",
       "      <th>4770</th>\n",
       "      <th>Total Bags</th>\n",
       "      <th>type</th>\n",
       "      <th>region</th>\n",
       "      <th>Day</th>\n",
       "      <th>Month</th>\n",
       "      <th>Year</th>\n",
       "    </tr>\n",
       "  </thead>\n",
       "  <tbody>\n",
       "    <tr>\n",
       "      <th>0</th>\n",
       "      <td>1.33</td>\n",
       "      <td>64236.62</td>\n",
       "      <td>1036.74</td>\n",
       "      <td>54454.85</td>\n",
       "      <td>48.16</td>\n",
       "      <td>8696.87</td>\n",
       "      <td>0</td>\n",
       "      <td>0</td>\n",
       "      <td>2015</td>\n",
       "      <td>12</td>\n",
       "      <td>2015</td>\n",
       "    </tr>\n",
       "    <tr>\n",
       "      <th>1</th>\n",
       "      <td>1.35</td>\n",
       "      <td>54876.98</td>\n",
       "      <td>674.28</td>\n",
       "      <td>44638.81</td>\n",
       "      <td>58.33</td>\n",
       "      <td>9505.56</td>\n",
       "      <td>0</td>\n",
       "      <td>0</td>\n",
       "      <td>2015</td>\n",
       "      <td>12</td>\n",
       "      <td>2015</td>\n",
       "    </tr>\n",
       "    <tr>\n",
       "      <th>2</th>\n",
       "      <td>0.93</td>\n",
       "      <td>118220.22</td>\n",
       "      <td>794.70</td>\n",
       "      <td>109149.67</td>\n",
       "      <td>130.50</td>\n",
       "      <td>8145.35</td>\n",
       "      <td>0</td>\n",
       "      <td>0</td>\n",
       "      <td>2015</td>\n",
       "      <td>12</td>\n",
       "      <td>2015</td>\n",
       "    </tr>\n",
       "    <tr>\n",
       "      <th>3</th>\n",
       "      <td>1.08</td>\n",
       "      <td>78992.15</td>\n",
       "      <td>1132.00</td>\n",
       "      <td>71976.41</td>\n",
       "      <td>72.58</td>\n",
       "      <td>5811.16</td>\n",
       "      <td>0</td>\n",
       "      <td>0</td>\n",
       "      <td>2015</td>\n",
       "      <td>12</td>\n",
       "      <td>2015</td>\n",
       "    </tr>\n",
       "    <tr>\n",
       "      <th>4</th>\n",
       "      <td>1.28</td>\n",
       "      <td>51039.60</td>\n",
       "      <td>941.48</td>\n",
       "      <td>43838.39</td>\n",
       "      <td>75.78</td>\n",
       "      <td>6183.95</td>\n",
       "      <td>0</td>\n",
       "      <td>0</td>\n",
       "      <td>2015</td>\n",
       "      <td>11</td>\n",
       "      <td>2015</td>\n",
       "    </tr>\n",
       "    <tr>\n",
       "      <th>...</th>\n",
       "      <td>...</td>\n",
       "      <td>...</td>\n",
       "      <td>...</td>\n",
       "      <td>...</td>\n",
       "      <td>...</td>\n",
       "      <td>...</td>\n",
       "      <td>...</td>\n",
       "      <td>...</td>\n",
       "      <td>...</td>\n",
       "      <td>...</td>\n",
       "      <td>...</td>\n",
       "    </tr>\n",
       "    <tr>\n",
       "      <th>18244</th>\n",
       "      <td>1.63</td>\n",
       "      <td>17074.83</td>\n",
       "      <td>2046.96</td>\n",
       "      <td>1529.20</td>\n",
       "      <td>0.00</td>\n",
       "      <td>13498.67</td>\n",
       "      <td>1</td>\n",
       "      <td>53</td>\n",
       "      <td>2018</td>\n",
       "      <td>2</td>\n",
       "      <td>2018</td>\n",
       "    </tr>\n",
       "    <tr>\n",
       "      <th>18245</th>\n",
       "      <td>1.71</td>\n",
       "      <td>13888.04</td>\n",
       "      <td>1191.70</td>\n",
       "      <td>3431.50</td>\n",
       "      <td>0.00</td>\n",
       "      <td>9264.84</td>\n",
       "      <td>1</td>\n",
       "      <td>53</td>\n",
       "      <td>2018</td>\n",
       "      <td>1</td>\n",
       "      <td>2018</td>\n",
       "    </tr>\n",
       "    <tr>\n",
       "      <th>18246</th>\n",
       "      <td>1.87</td>\n",
       "      <td>13766.76</td>\n",
       "      <td>1191.92</td>\n",
       "      <td>2452.79</td>\n",
       "      <td>727.94</td>\n",
       "      <td>9394.11</td>\n",
       "      <td>1</td>\n",
       "      <td>53</td>\n",
       "      <td>2018</td>\n",
       "      <td>1</td>\n",
       "      <td>2018</td>\n",
       "    </tr>\n",
       "    <tr>\n",
       "      <th>18247</th>\n",
       "      <td>1.93</td>\n",
       "      <td>16205.22</td>\n",
       "      <td>1527.63</td>\n",
       "      <td>2981.04</td>\n",
       "      <td>727.01</td>\n",
       "      <td>10969.54</td>\n",
       "      <td>1</td>\n",
       "      <td>53</td>\n",
       "      <td>2018</td>\n",
       "      <td>1</td>\n",
       "      <td>2018</td>\n",
       "    </tr>\n",
       "    <tr>\n",
       "      <th>18248</th>\n",
       "      <td>1.62</td>\n",
       "      <td>17489.58</td>\n",
       "      <td>2894.77</td>\n",
       "      <td>2356.13</td>\n",
       "      <td>224.53</td>\n",
       "      <td>12014.15</td>\n",
       "      <td>1</td>\n",
       "      <td>53</td>\n",
       "      <td>2018</td>\n",
       "      <td>1</td>\n",
       "      <td>2018</td>\n",
       "    </tr>\n",
       "  </tbody>\n",
       "</table>\n",
       "<p>17823 rows × 11 columns</p>\n",
       "</div>"
      ],
      "text/plain": [
       "       AveragePrice  Total Volume     4046       4225    4770  Total Bags  \\\n",
       "0              1.33      64236.62  1036.74   54454.85   48.16     8696.87   \n",
       "1              1.35      54876.98   674.28   44638.81   58.33     9505.56   \n",
       "2              0.93     118220.22   794.70  109149.67  130.50     8145.35   \n",
       "3              1.08      78992.15  1132.00   71976.41   72.58     5811.16   \n",
       "4              1.28      51039.60   941.48   43838.39   75.78     6183.95   \n",
       "...             ...           ...      ...        ...     ...         ...   \n",
       "18244          1.63      17074.83  2046.96    1529.20    0.00    13498.67   \n",
       "18245          1.71      13888.04  1191.70    3431.50    0.00     9264.84   \n",
       "18246          1.87      13766.76  1191.92    2452.79  727.94     9394.11   \n",
       "18247          1.93      16205.22  1527.63    2981.04  727.01    10969.54   \n",
       "18248          1.62      17489.58  2894.77    2356.13  224.53    12014.15   \n",
       "\n",
       "       type  region   Day  Month  Year  \n",
       "0         0       0  2015     12  2015  \n",
       "1         0       0  2015     12  2015  \n",
       "2         0       0  2015     12  2015  \n",
       "3         0       0  2015     12  2015  \n",
       "4         0       0  2015     11  2015  \n",
       "...     ...     ...   ...    ...   ...  \n",
       "18244     1      53  2018      2  2018  \n",
       "18245     1      53  2018      1  2018  \n",
       "18246     1      53  2018      1  2018  \n",
       "18247     1      53  2018      1  2018  \n",
       "18248     1      53  2018      1  2018  \n",
       "\n",
       "[17823 rows x 11 columns]"
      ]
     },
     "execution_count": 39,
     "metadata": {},
     "output_type": "execute_result"
    }
   ],
   "source": [
    "avocado_new=avocado[(z<3).all(axis=1)] \n",
    "avocado_new\n",
    "\n",
    "# Taking all the values within +3 Standard Deviation and saving it in another DataFrame \"avocado_new\"\n",
    "# This new Dataset formed is without the outliers"
   ]
  },
  {
   "cell_type": "code",
   "execution_count": 40,
   "metadata": {},
   "outputs": [
    {
     "data": {
      "text/plain": [
       "(18249, 11)"
      ]
     },
     "execution_count": 40,
     "metadata": {},
     "output_type": "execute_result"
    }
   ],
   "source": [
    "avocado.shape"
   ]
  },
  {
   "cell_type": "code",
   "execution_count": 41,
   "metadata": {},
   "outputs": [
    {
     "data": {
      "text/plain": [
       "(17823, 11)"
      ]
     },
     "execution_count": 41,
     "metadata": {},
     "output_type": "execute_result"
    }
   ],
   "source": [
    "avocado_new.shape"
   ]
  },
  {
   "cell_type": "code",
   "execution_count": 42,
   "metadata": {},
   "outputs": [
    {
     "data": {
      "text/plain": [
       "2.3343744862732203"
      ]
     },
     "execution_count": 42,
     "metadata": {},
     "output_type": "execute_result"
    }
   ],
   "source": [
    "data_loss=((18249-17823)/18249)*100\n",
    "data_loss\n",
    "\n",
    "# The Data Loss is 2.33% which is less than 5%, Therefore we will drop the outliers"
   ]
  },
  {
   "cell_type": "code",
   "execution_count": 43,
   "metadata": {},
   "outputs": [
    {
     "data": {
      "text/html": [
       "<div>\n",
       "<style scoped>\n",
       "    .dataframe tbody tr th:only-of-type {\n",
       "        vertical-align: middle;\n",
       "    }\n",
       "\n",
       "    .dataframe tbody tr th {\n",
       "        vertical-align: top;\n",
       "    }\n",
       "\n",
       "    .dataframe thead th {\n",
       "        text-align: right;\n",
       "    }\n",
       "</style>\n",
       "<table border=\"1\" class=\"dataframe\">\n",
       "  <thead>\n",
       "    <tr style=\"text-align: right;\">\n",
       "      <th></th>\n",
       "      <th>AveragePrice</th>\n",
       "      <th>Total Volume</th>\n",
       "      <th>4046</th>\n",
       "      <th>4225</th>\n",
       "      <th>4770</th>\n",
       "      <th>Total Bags</th>\n",
       "      <th>type</th>\n",
       "      <th>region</th>\n",
       "      <th>Day</th>\n",
       "      <th>Month</th>\n",
       "      <th>Year</th>\n",
       "    </tr>\n",
       "  </thead>\n",
       "  <tbody>\n",
       "    <tr>\n",
       "      <th>0</th>\n",
       "      <td>1.33</td>\n",
       "      <td>64236.62</td>\n",
       "      <td>1036.74</td>\n",
       "      <td>54454.85</td>\n",
       "      <td>48.16</td>\n",
       "      <td>8696.87</td>\n",
       "      <td>0</td>\n",
       "      <td>0</td>\n",
       "      <td>2015</td>\n",
       "      <td>12</td>\n",
       "      <td>2015</td>\n",
       "    </tr>\n",
       "    <tr>\n",
       "      <th>1</th>\n",
       "      <td>1.35</td>\n",
       "      <td>54876.98</td>\n",
       "      <td>674.28</td>\n",
       "      <td>44638.81</td>\n",
       "      <td>58.33</td>\n",
       "      <td>9505.56</td>\n",
       "      <td>0</td>\n",
       "      <td>0</td>\n",
       "      <td>2015</td>\n",
       "      <td>12</td>\n",
       "      <td>2015</td>\n",
       "    </tr>\n",
       "    <tr>\n",
       "      <th>2</th>\n",
       "      <td>0.93</td>\n",
       "      <td>118220.22</td>\n",
       "      <td>794.70</td>\n",
       "      <td>109149.67</td>\n",
       "      <td>130.50</td>\n",
       "      <td>8145.35</td>\n",
       "      <td>0</td>\n",
       "      <td>0</td>\n",
       "      <td>2015</td>\n",
       "      <td>12</td>\n",
       "      <td>2015</td>\n",
       "    </tr>\n",
       "    <tr>\n",
       "      <th>3</th>\n",
       "      <td>1.08</td>\n",
       "      <td>78992.15</td>\n",
       "      <td>1132.00</td>\n",
       "      <td>71976.41</td>\n",
       "      <td>72.58</td>\n",
       "      <td>5811.16</td>\n",
       "      <td>0</td>\n",
       "      <td>0</td>\n",
       "      <td>2015</td>\n",
       "      <td>12</td>\n",
       "      <td>2015</td>\n",
       "    </tr>\n",
       "    <tr>\n",
       "      <th>4</th>\n",
       "      <td>1.28</td>\n",
       "      <td>51039.60</td>\n",
       "      <td>941.48</td>\n",
       "      <td>43838.39</td>\n",
       "      <td>75.78</td>\n",
       "      <td>6183.95</td>\n",
       "      <td>0</td>\n",
       "      <td>0</td>\n",
       "      <td>2015</td>\n",
       "      <td>11</td>\n",
       "      <td>2015</td>\n",
       "    </tr>\n",
       "    <tr>\n",
       "      <th>...</th>\n",
       "      <td>...</td>\n",
       "      <td>...</td>\n",
       "      <td>...</td>\n",
       "      <td>...</td>\n",
       "      <td>...</td>\n",
       "      <td>...</td>\n",
       "      <td>...</td>\n",
       "      <td>...</td>\n",
       "      <td>...</td>\n",
       "      <td>...</td>\n",
       "      <td>...</td>\n",
       "    </tr>\n",
       "    <tr>\n",
       "      <th>18244</th>\n",
       "      <td>1.63</td>\n",
       "      <td>17074.83</td>\n",
       "      <td>2046.96</td>\n",
       "      <td>1529.20</td>\n",
       "      <td>0.00</td>\n",
       "      <td>13498.67</td>\n",
       "      <td>1</td>\n",
       "      <td>53</td>\n",
       "      <td>2018</td>\n",
       "      <td>2</td>\n",
       "      <td>2018</td>\n",
       "    </tr>\n",
       "    <tr>\n",
       "      <th>18245</th>\n",
       "      <td>1.71</td>\n",
       "      <td>13888.04</td>\n",
       "      <td>1191.70</td>\n",
       "      <td>3431.50</td>\n",
       "      <td>0.00</td>\n",
       "      <td>9264.84</td>\n",
       "      <td>1</td>\n",
       "      <td>53</td>\n",
       "      <td>2018</td>\n",
       "      <td>1</td>\n",
       "      <td>2018</td>\n",
       "    </tr>\n",
       "    <tr>\n",
       "      <th>18246</th>\n",
       "      <td>1.87</td>\n",
       "      <td>13766.76</td>\n",
       "      <td>1191.92</td>\n",
       "      <td>2452.79</td>\n",
       "      <td>727.94</td>\n",
       "      <td>9394.11</td>\n",
       "      <td>1</td>\n",
       "      <td>53</td>\n",
       "      <td>2018</td>\n",
       "      <td>1</td>\n",
       "      <td>2018</td>\n",
       "    </tr>\n",
       "    <tr>\n",
       "      <th>18247</th>\n",
       "      <td>1.93</td>\n",
       "      <td>16205.22</td>\n",
       "      <td>1527.63</td>\n",
       "      <td>2981.04</td>\n",
       "      <td>727.01</td>\n",
       "      <td>10969.54</td>\n",
       "      <td>1</td>\n",
       "      <td>53</td>\n",
       "      <td>2018</td>\n",
       "      <td>1</td>\n",
       "      <td>2018</td>\n",
       "    </tr>\n",
       "    <tr>\n",
       "      <th>18248</th>\n",
       "      <td>1.62</td>\n",
       "      <td>17489.58</td>\n",
       "      <td>2894.77</td>\n",
       "      <td>2356.13</td>\n",
       "      <td>224.53</td>\n",
       "      <td>12014.15</td>\n",
       "      <td>1</td>\n",
       "      <td>53</td>\n",
       "      <td>2018</td>\n",
       "      <td>1</td>\n",
       "      <td>2018</td>\n",
       "    </tr>\n",
       "  </tbody>\n",
       "</table>\n",
       "<p>17823 rows × 11 columns</p>\n",
       "</div>"
      ],
      "text/plain": [
       "       AveragePrice  Total Volume     4046       4225    4770  Total Bags  \\\n",
       "0              1.33      64236.62  1036.74   54454.85   48.16     8696.87   \n",
       "1              1.35      54876.98   674.28   44638.81   58.33     9505.56   \n",
       "2              0.93     118220.22   794.70  109149.67  130.50     8145.35   \n",
       "3              1.08      78992.15  1132.00   71976.41   72.58     5811.16   \n",
       "4              1.28      51039.60   941.48   43838.39   75.78     6183.95   \n",
       "...             ...           ...      ...        ...     ...         ...   \n",
       "18244          1.63      17074.83  2046.96    1529.20    0.00    13498.67   \n",
       "18245          1.71      13888.04  1191.70    3431.50    0.00     9264.84   \n",
       "18246          1.87      13766.76  1191.92    2452.79  727.94     9394.11   \n",
       "18247          1.93      16205.22  1527.63    2981.04  727.01    10969.54   \n",
       "18248          1.62      17489.58  2894.77    2356.13  224.53    12014.15   \n",
       "\n",
       "       type  region   Day  Month  Year  \n",
       "0         0       0  2015     12  2015  \n",
       "1         0       0  2015     12  2015  \n",
       "2         0       0  2015     12  2015  \n",
       "3         0       0  2015     12  2015  \n",
       "4         0       0  2015     11  2015  \n",
       "...     ...     ...   ...    ...   ...  \n",
       "18244     1      53  2018      2  2018  \n",
       "18245     1      53  2018      1  2018  \n",
       "18246     1      53  2018      1  2018  \n",
       "18247     1      53  2018      1  2018  \n",
       "18248     1      53  2018      1  2018  \n",
       "\n",
       "[17823 rows x 11 columns]"
      ]
     },
     "execution_count": 43,
     "metadata": {},
     "output_type": "execute_result"
    }
   ],
   "source": [
    "avocado_new"
   ]
  },
  {
   "cell_type": "code",
   "execution_count": null,
   "metadata": {},
   "outputs": [],
   "source": []
  },
  {
   "cell_type": "code",
   "execution_count": null,
   "metadata": {},
   "outputs": [],
   "source": []
  },
  {
   "cell_type": "markdown",
   "metadata": {},
   "source": [
    "### Skewness Treatment:-"
   ]
  },
  {
   "cell_type": "code",
   "execution_count": null,
   "metadata": {},
   "outputs": [],
   "source": []
  },
  {
   "cell_type": "code",
   "execution_count": 44,
   "metadata": {},
   "outputs": [
    {
     "data": {
      "text/plain": [
       "AveragePrice    0.384974\n",
       "Total Volume    3.638205\n",
       "4046            4.450558\n",
       "4225            4.128335\n",
       "4770            4.792655\n",
       "Total Bags      4.330215\n",
       "type           -0.018069\n",
       "region          0.012571\n",
       "Day             0.221932\n",
       "Month           0.111072\n",
       "Year            0.221932\n",
       "dtype: float64"
      ]
     },
     "execution_count": 44,
     "metadata": {},
     "output_type": "execute_result"
    }
   ],
   "source": [
    "avocado_new.skew()\n",
    "\n",
    "# Checking the Skewness of the Dataset"
   ]
  },
  {
   "cell_type": "code",
   "execution_count": 45,
   "metadata": {},
   "outputs": [],
   "source": [
    "from sklearn.preprocessing import power_transform\n",
    "\n",
    "# Importing Power Transform function to treat the skewness in the Dataset"
   ]
  },
  {
   "cell_type": "code",
   "execution_count": 46,
   "metadata": {},
   "outputs": [],
   "source": [
    "x_new=power_transform(avocado_new)\n",
    "df_new=pd.DataFrame(x_new,columns=avocado_new.columns)\n",
    "\n",
    "# Applying Power Transform function and the skewness treated data has been saved under df_new variable"
   ]
  },
  {
   "cell_type": "code",
   "execution_count": 47,
   "metadata": {},
   "outputs": [
    {
     "data": {
      "text/plain": [
       "AveragePrice    0.000982\n",
       "Total Volume   -0.005321\n",
       "4046           -0.037545\n",
       "4225           -0.044071\n",
       "4770            0.021688\n",
       "Total Bags     -0.017007\n",
       "type           -0.018069\n",
       "region         -0.257902\n",
       "Day             0.000000\n",
       "Month          -0.145426\n",
       "Year            0.000000\n",
       "dtype: float64"
      ]
     },
     "execution_count": 47,
     "metadata": {},
     "output_type": "execute_result"
    }
   ],
   "source": [
    "df_new.skew()\n",
    "\n",
    "# Now we get the treated data with skewness within range of +0.5 to -0.5"
   ]
  },
  {
   "cell_type": "code",
   "execution_count": 48,
   "metadata": {},
   "outputs": [
    {
     "data": {
      "text/plain": [
       "AveragePrice    0.384974\n",
       "Total Volume    3.638205\n",
       "4046            4.450558\n",
       "4225            4.128335\n",
       "4770            4.792655\n",
       "Total Bags      4.330215\n",
       "type           -0.018069\n",
       "region          0.012571\n",
       "Day             0.221932\n",
       "Month           0.111072\n",
       "Year            0.221932\n",
       "dtype: float64"
      ]
     },
     "execution_count": 48,
     "metadata": {},
     "output_type": "execute_result"
    }
   ],
   "source": [
    "avocado_new.skew()"
   ]
  },
  {
   "cell_type": "code",
   "execution_count": 49,
   "metadata": {},
   "outputs": [],
   "source": [
    "avocado_new=df_new"
   ]
  },
  {
   "cell_type": "code",
   "execution_count": 50,
   "metadata": {},
   "outputs": [
    {
     "data": {
      "text/plain": [
       "AveragePrice    0.000982\n",
       "Total Volume   -0.005321\n",
       "4046           -0.037545\n",
       "4225           -0.044071\n",
       "4770            0.021688\n",
       "Total Bags     -0.017007\n",
       "type           -0.018069\n",
       "region         -0.257902\n",
       "Day             0.000000\n",
       "Month          -0.145426\n",
       "Year            0.000000\n",
       "dtype: float64"
      ]
     },
     "execution_count": 50,
     "metadata": {},
     "output_type": "execute_result"
    }
   ],
   "source": [
    "avocado_new.skew()\n",
    "\n",
    "# Tranfered the df_new data into avocado_new"
   ]
  },
  {
   "cell_type": "markdown",
   "metadata": {},
   "source": [
    "# Splitting the Data into Train & Test:-"
   ]
  },
  {
   "cell_type": "markdown",
   "metadata": {},
   "source": [
    "### Model Building using Linear Regression:-"
   ]
  },
  {
   "cell_type": "code",
   "execution_count": 51,
   "metadata": {},
   "outputs": [],
   "source": [
    "from sklearn.model_selection import train_test_split\n",
    "from sklearn.linear_model import LinearRegression\n",
    "from sklearn.metrics import r2_score, mean_absolute_error, mean_squared_error\n",
    "\n",
    "# Importing the Algorithms & Evolution Matrix"
   ]
  },
  {
   "cell_type": "code",
   "execution_count": 52,
   "metadata": {},
   "outputs": [
    {
     "data": {
      "text/html": [
       "<div>\n",
       "<style scoped>\n",
       "    .dataframe tbody tr th:only-of-type {\n",
       "        vertical-align: middle;\n",
       "    }\n",
       "\n",
       "    .dataframe tbody tr th {\n",
       "        vertical-align: top;\n",
       "    }\n",
       "\n",
       "    .dataframe thead th {\n",
       "        text-align: right;\n",
       "    }\n",
       "</style>\n",
       "<table border=\"1\" class=\"dataframe\">\n",
       "  <thead>\n",
       "    <tr style=\"text-align: right;\">\n",
       "      <th></th>\n",
       "      <th>Total Volume</th>\n",
       "      <th>4046</th>\n",
       "      <th>4225</th>\n",
       "      <th>4770</th>\n",
       "      <th>Total Bags</th>\n",
       "      <th>type</th>\n",
       "      <th>region</th>\n",
       "      <th>Day</th>\n",
       "      <th>Month</th>\n",
       "      <th>Year</th>\n",
       "    </tr>\n",
       "  </thead>\n",
       "  <tbody>\n",
       "    <tr>\n",
       "      <th>0</th>\n",
       "      <td>-0.088243</td>\n",
       "      <td>-0.664613</td>\n",
       "      <td>0.331500</td>\n",
       "      <td>-0.238449</td>\n",
       "      <td>-0.540677</td>\n",
       "      <td>-1.009074</td>\n",
       "      <td>-2.011151</td>\n",
       "      <td>0.0</td>\n",
       "      <td>1.493047</td>\n",
       "      <td>0.0</td>\n",
       "    </tr>\n",
       "    <tr>\n",
       "      <th>1</th>\n",
       "      <td>-0.159469</td>\n",
       "      <td>-0.783404</td>\n",
       "      <td>0.250795</td>\n",
       "      <td>-0.191497</td>\n",
       "      <td>-0.501737</td>\n",
       "      <td>-1.009074</td>\n",
       "      <td>-2.011151</td>\n",
       "      <td>0.0</td>\n",
       "      <td>1.493047</td>\n",
       "      <td>0.0</td>\n",
       "    </tr>\n",
       "    <tr>\n",
       "      <th>2</th>\n",
       "      <td>0.188448</td>\n",
       "      <td>-0.738354</td>\n",
       "      <td>0.624691</td>\n",
       "      <td>0.006138</td>\n",
       "      <td>-0.569238</td>\n",
       "      <td>-1.009074</td>\n",
       "      <td>-2.011151</td>\n",
       "      <td>0.0</td>\n",
       "      <td>1.493047</td>\n",
       "      <td>0.0</td>\n",
       "    </tr>\n",
       "    <tr>\n",
       "      <th>3</th>\n",
       "      <td>0.005408</td>\n",
       "      <td>-0.640000</td>\n",
       "      <td>0.447069</td>\n",
       "      <td>-0.137869</td>\n",
       "      <td>-0.714684</td>\n",
       "      <td>-1.009074</td>\n",
       "      <td>-2.011151</td>\n",
       "      <td>0.0</td>\n",
       "      <td>1.493047</td>\n",
       "      <td>0.0</td>\n",
       "    </tr>\n",
       "    <tr>\n",
       "      <th>4</th>\n",
       "      <td>-0.192228</td>\n",
       "      <td>-0.691467</td>\n",
       "      <td>0.243515</td>\n",
       "      <td>-0.127278</td>\n",
       "      <td>-0.688122</td>\n",
       "      <td>-1.009074</td>\n",
       "      <td>-2.011151</td>\n",
       "      <td>0.0</td>\n",
       "      <td>1.278036</td>\n",
       "      <td>0.0</td>\n",
       "    </tr>\n",
       "    <tr>\n",
       "      <th>...</th>\n",
       "      <td>...</td>\n",
       "      <td>...</td>\n",
       "      <td>...</td>\n",
       "      <td>...</td>\n",
       "      <td>...</td>\n",
       "      <td>...</td>\n",
       "      <td>...</td>\n",
       "      <td>...</td>\n",
       "      <td>...</td>\n",
       "      <td>...</td>\n",
       "    </tr>\n",
       "    <tr>\n",
       "      <th>17818</th>\n",
       "      <td>-0.684855</td>\n",
       "      <td>-0.471099</td>\n",
       "      <td>-0.931684</td>\n",
       "      <td>-1.233817</td>\n",
       "      <td>-0.346113</td>\n",
       "      <td>0.991007</td>\n",
       "      <td>1.567022</td>\n",
       "      <td>0.0</td>\n",
       "      <td>-1.218095</td>\n",
       "      <td>0.0</td>\n",
       "    </tr>\n",
       "    <tr>\n",
       "      <th>17819</th>\n",
       "      <td>-0.777331</td>\n",
       "      <td>-0.625556</td>\n",
       "      <td>-0.678256</td>\n",
       "      <td>-1.233817</td>\n",
       "      <td>-0.512992</td>\n",
       "      <td>0.991007</td>\n",
       "      <td>1.567022</td>\n",
       "      <td>0.0</td>\n",
       "      <td>-1.640840</td>\n",
       "      <td>0.0</td>\n",
       "    </tr>\n",
       "    <tr>\n",
       "      <th>17820</th>\n",
       "      <td>-0.781254</td>\n",
       "      <td>-0.625504</td>\n",
       "      <td>-0.785644</td>\n",
       "      <td>0.425431</td>\n",
       "      <td>-0.506914</td>\n",
       "      <td>0.991007</td>\n",
       "      <td>1.567022</td>\n",
       "      <td>0.0</td>\n",
       "      <td>-1.640840</td>\n",
       "      <td>0.0</td>\n",
       "    </tr>\n",
       "    <tr>\n",
       "      <th>17821</th>\n",
       "      <td>-0.708269</td>\n",
       "      <td>-0.555204</td>\n",
       "      <td>-0.723634</td>\n",
       "      <td>0.425121</td>\n",
       "      <td>-0.438567</td>\n",
       "      <td>0.991007</td>\n",
       "      <td>1.567022</td>\n",
       "      <td>0.0</td>\n",
       "      <td>-1.640840</td>\n",
       "      <td>0.0</td>\n",
       "    </tr>\n",
       "    <tr>\n",
       "      <th>17822</th>\n",
       "      <td>-0.674102</td>\n",
       "      <td>-0.369797</td>\n",
       "      <td>-0.798299</td>\n",
       "      <td>0.139087</td>\n",
       "      <td>-0.398172</td>\n",
       "      <td>0.991007</td>\n",
       "      <td>1.567022</td>\n",
       "      <td>0.0</td>\n",
       "      <td>-1.640840</td>\n",
       "      <td>0.0</td>\n",
       "    </tr>\n",
       "  </tbody>\n",
       "</table>\n",
       "<p>17823 rows × 10 columns</p>\n",
       "</div>"
      ],
      "text/plain": [
       "       Total Volume      4046      4225      4770  Total Bags      type  \\\n",
       "0         -0.088243 -0.664613  0.331500 -0.238449   -0.540677 -1.009074   \n",
       "1         -0.159469 -0.783404  0.250795 -0.191497   -0.501737 -1.009074   \n",
       "2          0.188448 -0.738354  0.624691  0.006138   -0.569238 -1.009074   \n",
       "3          0.005408 -0.640000  0.447069 -0.137869   -0.714684 -1.009074   \n",
       "4         -0.192228 -0.691467  0.243515 -0.127278   -0.688122 -1.009074   \n",
       "...             ...       ...       ...       ...         ...       ...   \n",
       "17818     -0.684855 -0.471099 -0.931684 -1.233817   -0.346113  0.991007   \n",
       "17819     -0.777331 -0.625556 -0.678256 -1.233817   -0.512992  0.991007   \n",
       "17820     -0.781254 -0.625504 -0.785644  0.425431   -0.506914  0.991007   \n",
       "17821     -0.708269 -0.555204 -0.723634  0.425121   -0.438567  0.991007   \n",
       "17822     -0.674102 -0.369797 -0.798299  0.139087   -0.398172  0.991007   \n",
       "\n",
       "         region  Day     Month  Year  \n",
       "0     -2.011151  0.0  1.493047   0.0  \n",
       "1     -2.011151  0.0  1.493047   0.0  \n",
       "2     -2.011151  0.0  1.493047   0.0  \n",
       "3     -2.011151  0.0  1.493047   0.0  \n",
       "4     -2.011151  0.0  1.278036   0.0  \n",
       "...         ...  ...       ...   ...  \n",
       "17818  1.567022  0.0 -1.218095   0.0  \n",
       "17819  1.567022  0.0 -1.640840   0.0  \n",
       "17820  1.567022  0.0 -1.640840   0.0  \n",
       "17821  1.567022  0.0 -1.640840   0.0  \n",
       "17822  1.567022  0.0 -1.640840   0.0  \n",
       "\n",
       "[17823 rows x 10 columns]"
      ]
     },
     "execution_count": 52,
     "metadata": {},
     "output_type": "execute_result"
    }
   ],
   "source": [
    "x=avocado_new.iloc[:,1:]\n",
    "x\n",
    "\n",
    "# Taking all the independent variables into x"
   ]
  },
  {
   "cell_type": "code",
   "execution_count": 86,
   "metadata": {},
   "outputs": [
    {
     "data": {
      "text/plain": [
       "0       -0.107394\n",
       "1       -0.053940\n",
       "2       -1.289950\n",
       "3       -0.818956\n",
       "4       -0.243144\n",
       "           ...   \n",
       "17818    0.648388\n",
       "17819    0.834814\n",
       "17820    1.191084\n",
       "17821    1.319388\n",
       "17822    0.624671\n",
       "Name: AveragePrice, Length: 17823, dtype: float64"
      ]
     },
     "execution_count": 86,
     "metadata": {},
     "output_type": "execute_result"
    }
   ],
   "source": [
    "y=avocado_new.iloc[:,0]\n",
    "y\n",
    "\n",
    "# Taking the target variable into y"
   ]
  },
  {
   "cell_type": "code",
   "execution_count": 54,
   "metadata": {},
   "outputs": [
    {
     "name": "stdout",
     "output_type": "stream",
     "text": [
      "Best Accuracy is  0.5140497816694727 on Random State  117\n"
     ]
    }
   ],
   "source": [
    "MaxAccu=0\n",
    "MaxRS=0\n",
    "\n",
    "for i in range (1,500):\n",
    "    x_train,x_test,y_train,y_test=train_test_split(x,y,test_size=0.2,random_state=i)\n",
    "    lr=LinearRegression()\n",
    "    lr.fit(x_train,y_train)\n",
    "    predlr_train=lr.predict(x_train)\n",
    "    predlr_test=lr.predict(x_test)\n",
    "    acc=r2_score(y_test,predlr_test)\n",
    "    if acc>MaxAccu:\n",
    "        MaxAccu=acc\n",
    "        MaxRS=i\n",
    "print(\"Best Accuracy is \", MaxAccu, \"on Random State \", MaxRS)\n",
    "\n",
    "# Finding the Best Random State with Maximum Accuracy"
   ]
  },
  {
   "cell_type": "code",
   "execution_count": 55,
   "metadata": {},
   "outputs": [],
   "source": [
    "x_train,x_test,y_train,y_test=train_test_split(x,y,test_size=0.2,random_state=458)"
   ]
  },
  {
   "cell_type": "code",
   "execution_count": 56,
   "metadata": {},
   "outputs": [
    {
     "data": {
      "text/plain": [
       "LinearRegression()"
      ]
     },
     "execution_count": 56,
     "metadata": {},
     "output_type": "execute_result"
    }
   ],
   "source": [
    "lr=LinearRegression()\n",
    "lr.fit(x_train,y_train)\n",
    "\n",
    "# Training the Linear Regression Model"
   ]
  },
  {
   "cell_type": "code",
   "execution_count": 57,
   "metadata": {},
   "outputs": [
    {
     "data": {
      "text/plain": [
       "array([ 0.28801737,  0.81522619, -0.26722713, ...,  0.71488775,\n",
       "        0.65664465, -0.6857898 ])"
      ]
     },
     "execution_count": 57,
     "metadata": {},
     "output_type": "execute_result"
    }
   ],
   "source": [
    "lr_pred=lr.predict(x_test)\n",
    "lr_pred\n",
    "\n",
    "# The Linear Regression Model predicting the values based on training"
   ]
  },
  {
   "cell_type": "code",
   "execution_count": 58,
   "metadata": {},
   "outputs": [
    {
     "name": "stdout",
     "output_type": "stream",
     "text": [
      "0.5058449764212267\n"
     ]
    }
   ],
   "source": [
    "print(r2_score(y_test,lr_pred))\n",
    "\n",
    "# The R2 Accuracy Score of Linear Regression Model"
   ]
  },
  {
   "cell_type": "code",
   "execution_count": null,
   "metadata": {},
   "outputs": [],
   "source": []
  },
  {
   "cell_type": "code",
   "execution_count": null,
   "metadata": {},
   "outputs": [],
   "source": []
  },
  {
   "cell_type": "markdown",
   "metadata": {},
   "source": [
    "### Model Building Using other Regressors:-"
   ]
  },
  {
   "cell_type": "code",
   "execution_count": null,
   "metadata": {},
   "outputs": [],
   "source": []
  },
  {
   "cell_type": "markdown",
   "metadata": {},
   "source": [
    "### Decision Tree Regressor:-"
   ]
  },
  {
   "cell_type": "code",
   "execution_count": 59,
   "metadata": {},
   "outputs": [],
   "source": [
    "from sklearn.tree import DecisionTreeRegressor\n",
    "\n",
    "# Importing Decision Tree Regressor Model"
   ]
  },
  {
   "cell_type": "code",
   "execution_count": 60,
   "metadata": {},
   "outputs": [
    {
     "name": "stdout",
     "output_type": "stream",
     "text": [
      "Best Accuracy is  0.7156450139163502 on Random State  145\n"
     ]
    }
   ],
   "source": [
    "MaxAccu=0\n",
    "MaxRS=0\n",
    "\n",
    "for i in range (1,500):\n",
    "    x_train,x_test,y_train,y_test=train_test_split(x,y,test_size=0.2,random_state=i)\n",
    "    dtr=DecisionTreeRegressor()\n",
    "    dtr.fit(x_train,y_train)\n",
    "    preddtr_train=dtr.predict(x_train)\n",
    "    preddtr_test=dtr.predict(x_test)\n",
    "    acc=r2_score(y_test,preddtr_test)\n",
    "    if acc>MaxAccu:\n",
    "        MaxAccu=acc\n",
    "        MaxRS=i\n",
    "print(\"Best Accuracy is \", MaxAccu, \"on Random State \", MaxRS)\n",
    "\n",
    "# Finding the Best Random State with Maximum Accuracy"
   ]
  },
  {
   "cell_type": "code",
   "execution_count": 61,
   "metadata": {},
   "outputs": [],
   "source": [
    "x_train,x_test,y_train,y_test=train_test_split(x,y,test_size=0.2,random_state=145)"
   ]
  },
  {
   "cell_type": "code",
   "execution_count": 62,
   "metadata": {},
   "outputs": [
    {
     "data": {
      "text/plain": [
       "DecisionTreeRegressor()"
      ]
     },
     "execution_count": 62,
     "metadata": {},
     "output_type": "execute_result"
    }
   ],
   "source": [
    "dtr=DecisionTreeRegressor()\n",
    "dtr.fit(x_train,y_train)\n",
    "\n",
    "# Training the Decision Tree Regressor Model"
   ]
  },
  {
   "cell_type": "code",
   "execution_count": 63,
   "metadata": {},
   "outputs": [
    {
     "data": {
      "text/plain": [
       "array([-0.94101357,  0.67201117, -0.16132702, ..., -0.32608811,\n",
       "        0.97091687,  1.46566777])"
      ]
     },
     "execution_count": 63,
     "metadata": {},
     "output_type": "execute_result"
    }
   ],
   "source": [
    "dtr_pred=dtr.predict(x_test)\n",
    "dtr_pred\n",
    "\n",
    "# The Decision Tree Regressor Model is predicting the values based on training"
   ]
  },
  {
   "cell_type": "code",
   "execution_count": 64,
   "metadata": {},
   "outputs": [
    {
     "name": "stdout",
     "output_type": "stream",
     "text": [
      "0.7167954447181775\n"
     ]
    }
   ],
   "source": [
    "print(r2_score(y_test,dtr_pred))\n",
    "\n",
    "# The R2 Accuracy Score of Decision Tree Regressor Model"
   ]
  },
  {
   "cell_type": "code",
   "execution_count": null,
   "metadata": {},
   "outputs": [],
   "source": []
  },
  {
   "cell_type": "markdown",
   "metadata": {},
   "source": [
    "### Extra Trees Regressor:-"
   ]
  },
  {
   "cell_type": "code",
   "execution_count": 65,
   "metadata": {},
   "outputs": [],
   "source": [
    "from sklearn.ensemble import ExtraTreesRegressor\n",
    "\n",
    "# Importing the Extra Trees Regressor Model"
   ]
  },
  {
   "cell_type": "code",
   "execution_count": 66,
   "metadata": {},
   "outputs": [
    {
     "name": "stdout",
     "output_type": "stream",
     "text": [
      "Best Accuracy is  0.8832753211170905 on Random State  117\n"
     ]
    }
   ],
   "source": [
    "MaxAccu=0\n",
    "MaxRS=0\n",
    "\n",
    "for i in range (1,500):\n",
    "    x_train,x_test,y_train,y_test=train_test_split(x,y,test_size=0.2,random_state=i)\n",
    "    etr=ExtraTreesRegressor()\n",
    "    etr.fit(x_train,y_train)\n",
    "    predetr_train=etr.predict(x_train)\n",
    "    predetr_test=etr.predict(x_test)\n",
    "    acc=r2_score(y_test,predetr_test)\n",
    "    if acc>MaxAccu:\n",
    "        MaxAccu=acc\n",
    "        MaxRS=i\n",
    "print(\"Best Accuracy is \", MaxAccu, \"on Random State \", MaxRS)\n",
    "\n",
    "# Finding the Best Random State with Maximum Accuracy"
   ]
  },
  {
   "cell_type": "code",
   "execution_count": 67,
   "metadata": {},
   "outputs": [],
   "source": [
    "x_train,x_test,y_train,y_test=train_test_split(x,y,test_size=0.2,random_state=409)"
   ]
  },
  {
   "cell_type": "code",
   "execution_count": 68,
   "metadata": {},
   "outputs": [
    {
     "data": {
      "text/plain": [
       "ExtraTreesRegressor()"
      ]
     },
     "execution_count": 68,
     "metadata": {},
     "output_type": "execute_result"
    }
   ],
   "source": [
    "etr=ExtraTreesRegressor()\n",
    "etr.fit(x_train,y_train)\n",
    "\n",
    "# Training the Extra Trees Regressor Model"
   ]
  },
  {
   "cell_type": "code",
   "execution_count": 69,
   "metadata": {},
   "outputs": [
    {
     "data": {
      "text/plain": [
       "array([-0.53045322,  1.2509614 , -0.06064265, ..., -0.49711811,\n",
       "       -0.98040582, -0.1729608 ])"
      ]
     },
     "execution_count": 69,
     "metadata": {},
     "output_type": "execute_result"
    }
   ],
   "source": [
    "etr_pred=etr.predict(x_test)\n",
    "etr_pred\n",
    "\n",
    "# The Extra Trees Regressor Model predicting values based on training"
   ]
  },
  {
   "cell_type": "code",
   "execution_count": 70,
   "metadata": {},
   "outputs": [
    {
     "name": "stdout",
     "output_type": "stream",
     "text": [
      "0.8779870995967634\n"
     ]
    }
   ],
   "source": [
    "print(r2_score(y_test,etr_pred))\n",
    "\n",
    "# The R2 Accuracy Score of Extra Trees Regressor Model"
   ]
  },
  {
   "cell_type": "code",
   "execution_count": null,
   "metadata": {},
   "outputs": [],
   "source": []
  },
  {
   "cell_type": "code",
   "execution_count": null,
   "metadata": {},
   "outputs": [],
   "source": []
  },
  {
   "cell_type": "markdown",
   "metadata": {},
   "source": [
    "### K Neighbors Regressor:-"
   ]
  },
  {
   "cell_type": "code",
   "execution_count": 71,
   "metadata": {},
   "outputs": [],
   "source": [
    "from sklearn.neighbors import KNeighborsRegressor\n",
    "\n",
    "# Importing K Neighbors Regressor Model"
   ]
  },
  {
   "cell_type": "code",
   "execution_count": 72,
   "metadata": {},
   "outputs": [
    {
     "name": "stdout",
     "output_type": "stream",
     "text": [
      "Best Accuracy is  0.8368730759085876 on Random State  473\n"
     ]
    }
   ],
   "source": [
    "MaxAccu=0\n",
    "MaxRS=0\n",
    "\n",
    "for i in range (1,500):\n",
    "    x_train,x_test,y_train,y_test=train_test_split(x,y,test_size=0.2,random_state=i)\n",
    "    knn=KNeighborsRegressor()\n",
    "    knn.fit(x_train,y_train)\n",
    "    predknn_train=knn.predict(x_train)\n",
    "    predknn_test=knn.predict(x_test)\n",
    "    acc=r2_score(y_test,predknn_test)\n",
    "    if acc>MaxAccu:\n",
    "        MaxAccu=acc\n",
    "        MaxRS=i\n",
    "print(\"Best Accuracy is \", MaxAccu, \"on Random State \", MaxRS)\n",
    "\n",
    "# Finding the Best Random State with Maximum Accuracy"
   ]
  },
  {
   "cell_type": "code",
   "execution_count": 73,
   "metadata": {},
   "outputs": [],
   "source": [
    "x_train,x_test,y_train,y_test=train_test_split(x,y,test_size=0.2,random_state=97)"
   ]
  },
  {
   "cell_type": "code",
   "execution_count": 74,
   "metadata": {},
   "outputs": [
    {
     "data": {
      "text/plain": [
       "KNeighborsRegressor()"
      ]
     },
     "execution_count": 74,
     "metadata": {},
     "output_type": "execute_result"
    }
   ],
   "source": [
    "knn=KNeighborsRegressor()\n",
    "knn.fit(x_train,y_train)\n",
    "\n",
    "# Training the K Neighbors Regressor Model"
   ]
  },
  {
   "cell_type": "code",
   "execution_count": 75,
   "metadata": {},
   "outputs": [
    {
     "data": {
      "text/plain": [
       "array([ 0.44531817,  0.10179341, -0.62320254, ..., -0.1013382 ,\n",
       "       -0.97424795,  0.67455239])"
      ]
     },
     "execution_count": 75,
     "metadata": {},
     "output_type": "execute_result"
    }
   ],
   "source": [
    "knn_pred=knn.predict(x_test)\n",
    "knn_pred\n",
    "\n",
    "# The K Neighbors Regressor Model predicting the values based on training"
   ]
  },
  {
   "cell_type": "code",
   "execution_count": 76,
   "metadata": {},
   "outputs": [
    {
     "name": "stdout",
     "output_type": "stream",
     "text": [
      "0.8264435750749393\n"
     ]
    }
   ],
   "source": [
    "print(r2_score(y_test,knn_pred))\n",
    "\n",
    "# The R2 Accuracy Score of K Neighbors Regressor Model"
   ]
  },
  {
   "cell_type": "code",
   "execution_count": null,
   "metadata": {},
   "outputs": [],
   "source": []
  },
  {
   "cell_type": "markdown",
   "metadata": {},
   "source": [
    "# Cross Validation:-"
   ]
  },
  {
   "cell_type": "code",
   "execution_count": 87,
   "metadata": {},
   "outputs": [],
   "source": [
    "from sklearn.model_selection import cross_val_score\n",
    "\n",
    "# Importing cross validation from sklearn Library"
   ]
  },
  {
   "cell_type": "code",
   "execution_count": 88,
   "metadata": {},
   "outputs": [
    {
     "data": {
      "text/plain": [
       "array([-0.57348389,  0.11731799,  0.44290897, -0.02104782,  0.02733546])"
      ]
     },
     "execution_count": 88,
     "metadata": {},
     "output_type": "execute_result"
    }
   ],
   "source": [
    "scr1=cross_val_score(lr,x,y,cv=5)\n",
    "scr1"
   ]
  },
  {
   "cell_type": "code",
   "execution_count": 89,
   "metadata": {},
   "outputs": [
    {
     "name": "stdout",
     "output_type": "stream",
     "text": [
      "The Cross Validation Score of Linear Regression Model is : -0.0013938585879490705\n"
     ]
    }
   ],
   "source": [
    "print(\"The Cross Validation Score of Linear Regression Model is :\", scr1.mean())\n",
    "\n",
    "# The Cross Validation Score of Linear Regression Model is : -0.0013938585879490705"
   ]
  },
  {
   "cell_type": "code",
   "execution_count": 90,
   "metadata": {},
   "outputs": [
    {
     "data": {
      "text/plain": [
       "array([-1.30044207,  0.06640463,  0.18690272, -0.58812408, -0.69586351])"
      ]
     },
     "execution_count": 90,
     "metadata": {},
     "output_type": "execute_result"
    }
   ],
   "source": [
    "scr2=cross_val_score(dtr,x,y,cv=5)\n",
    "scr2"
   ]
  },
  {
   "cell_type": "code",
   "execution_count": 91,
   "metadata": {},
   "outputs": [
    {
     "name": "stdout",
     "output_type": "stream",
     "text": [
      "The Cross Validation Score of Decision Tree Regressor Model is : -0.4662244617878465\n"
     ]
    }
   ],
   "source": [
    "print(\"The Cross Validation Score of Decision Tree Regressor Model is :\", scr2.mean())\n",
    "\n",
    "# The Cross Validation Score of Decision Tree Regressor Model is : -0.4662244617878465"
   ]
  },
  {
   "cell_type": "code",
   "execution_count": 92,
   "metadata": {},
   "outputs": [
    {
     "data": {
      "text/plain": [
       "array([-0.55624453,  0.38116723,  0.51586044, -0.07681516, -0.15649742])"
      ]
     },
     "execution_count": 92,
     "metadata": {},
     "output_type": "execute_result"
    }
   ],
   "source": [
    "scr3=cross_val_score(etr,x,y,cv=5)\n",
    "scr3"
   ]
  },
  {
   "cell_type": "code",
   "execution_count": 93,
   "metadata": {},
   "outputs": [
    {
     "name": "stdout",
     "output_type": "stream",
     "text": [
      "The Cross Validation Score of Extra Trees Regressor Model is : 0.02149410975782946\n"
     ]
    }
   ],
   "source": [
    "print(\"The Cross Validation Score of Extra Trees Regressor Model is :\", scr3.mean())\n",
    "\n",
    "# The Cross Validation Score of Extra Trees Regressor Model is : 0.02149410975782946"
   ]
  },
  {
   "cell_type": "code",
   "execution_count": 94,
   "metadata": {},
   "outputs": [
    {
     "data": {
      "text/plain": [
       "array([-0.99957198,  0.20404651,  0.43794347, -0.34183516, -0.2116518 ])"
      ]
     },
     "execution_count": 94,
     "metadata": {},
     "output_type": "execute_result"
    }
   ],
   "source": [
    "scr4=cross_val_score(knn,x,y,cv=5)\n",
    "scr4"
   ]
  },
  {
   "cell_type": "code",
   "execution_count": 95,
   "metadata": {},
   "outputs": [
    {
     "name": "stdout",
     "output_type": "stream",
     "text": [
      "The Cross Validation Score of K Neighbors Regressor Model is : -0.18221379225983136\n"
     ]
    }
   ],
   "source": [
    "print(\"The Cross Validation Score of K Neighbors Regressor Model is :\", scr4.mean())\n",
    "\n",
    "# The Cross Validation Score of Extra Trees Regressor Model is : 0.02149410975782946"
   ]
  },
  {
   "cell_type": "code",
   "execution_count": null,
   "metadata": {},
   "outputs": [],
   "source": []
  },
  {
   "cell_type": "raw",
   "metadata": {},
   "source": [
    "# We are getting the Cross Validation in Negative as the Data Size is getting split into 5 parts and the datasize is not dimensionally very big."
   ]
  },
  {
   "cell_type": "code",
   "execution_count": null,
   "metadata": {},
   "outputs": [],
   "source": []
  },
  {
   "cell_type": "code",
   "execution_count": null,
   "metadata": {},
   "outputs": [],
   "source": []
  },
  {
   "cell_type": "markdown",
   "metadata": {},
   "source": [
    "# Hyper Parameter Tuning:-"
   ]
  },
  {
   "cell_type": "code",
   "execution_count": 79,
   "metadata": {},
   "outputs": [],
   "source": [
    "from sklearn.model_selection import GridSearchCV\n",
    "\n",
    "# Importing Grid Search CV to perform Hyper Parameter Tuning"
   ]
  },
  {
   "cell_type": "code",
   "execution_count": 80,
   "metadata": {},
   "outputs": [],
   "source": [
    "parameter={\"max_depth\":np.arange(2,10), \n",
    "           \"criterion\":[\"mse\"],\n",
    "          \"min_samples_split\":np.arange(2,10),\n",
    "          \"n_estimators\":np.arange(2,10),\n",
    "          \"min_samples_leaf\":np.arange(2,10)}\n",
    "\n",
    "# Taking all the parameters to find the best R2 Score "
   ]
  },
  {
   "cell_type": "code",
   "execution_count": 81,
   "metadata": {},
   "outputs": [],
   "source": [
    "GCV=GridSearchCV(ExtraTreesRegressor(),parameter,cv=5)"
   ]
  },
  {
   "cell_type": "code",
   "execution_count": 82,
   "metadata": {},
   "outputs": [
    {
     "data": {
      "text/plain": [
       "GridSearchCV(cv=5, estimator=ExtraTreesRegressor(),\n",
       "             param_grid={'criterion': ['mse'],\n",
       "                         'max_depth': array([2, 3, 4, 5, 6, 7, 8, 9]),\n",
       "                         'min_samples_leaf': array([2, 3, 4, 5, 6, 7, 8, 9]),\n",
       "                         'min_samples_split': array([2, 3, 4, 5, 6, 7, 8, 9]),\n",
       "                         'n_estimators': array([2, 3, 4, 5, 6, 7, 8, 9])})"
      ]
     },
     "execution_count": 82,
     "metadata": {},
     "output_type": "execute_result"
    }
   ],
   "source": [
    "GCV.fit(x_train,y_train)\n",
    "\n",
    "# Training the GridSearchCV model"
   ]
  },
  {
   "cell_type": "code",
   "execution_count": 83,
   "metadata": {},
   "outputs": [
    {
     "data": {
      "text/plain": [
       "{'criterion': 'mse',\n",
       " 'max_depth': 9,\n",
       " 'min_samples_leaf': 2,\n",
       " 'min_samples_split': 2,\n",
       " 'n_estimators': 9}"
      ]
     },
     "execution_count": 83,
     "metadata": {},
     "output_type": "execute_result"
    }
   ],
   "source": [
    "GCV.best_params_\n",
    "\n",
    "# Getting the Best Parameters with Best Accuracy at {'criterion': 'mse',\n",
    "#  'max_depth': 9,\n",
    "#  'min_samples_leaf': 2,\n",
    "#  'min_samples_split': 2,\n",
    "#  'n_estimators': 9}"
   ]
  },
  {
   "cell_type": "code",
   "execution_count": 84,
   "metadata": {},
   "outputs": [
    {
     "name": "stdout",
     "output_type": "stream",
     "text": [
      "64.79787212754951\n"
     ]
    }
   ],
   "source": [
    "final_model=ExtraTreesRegressor(criterion=\"mse\", max_depth=9, min_samples_leaf=2, min_samples_split=6,n_estimators=9)\n",
    "final_model.fit(x_train,y_train)\n",
    "final_model_pred=final_model.predict(x_test)\n",
    "acc=r2_score(y_test,final_model_pred)\n",
    "print(acc*100)\n",
    "\n",
    "\n",
    "# The Best R2 Accuracy Score is 64.79787212754951"
   ]
  },
  {
   "cell_type": "code",
   "execution_count": null,
   "metadata": {},
   "outputs": [],
   "source": []
  },
  {
   "cell_type": "code",
   "execution_count": null,
   "metadata": {},
   "outputs": [],
   "source": []
  },
  {
   "cell_type": "markdown",
   "metadata": {},
   "source": [
    "# Saving the Model (Serialization):-"
   ]
  },
  {
   "cell_type": "code",
   "execution_count": 96,
   "metadata": {},
   "outputs": [],
   "source": [
    "import joblib\n",
    "\n",
    "# importing the Joblib function to perform Serialization"
   ]
  },
  {
   "cell_type": "code",
   "execution_count": 97,
   "metadata": {},
   "outputs": [
    {
     "data": {
      "text/plain": [
       "['Avocado_Model.obj']"
      ]
     },
     "execution_count": 97,
     "metadata": {},
     "output_type": "execute_result"
    }
   ],
   "source": [
    "joblib.dump(final_model,\"Avocado_Model.obj\")\n",
    "\n",
    "# Dumping the Final model for deployment into the object file \"Avocado_Model.obj\""
   ]
  },
  {
   "cell_type": "code",
   "execution_count": null,
   "metadata": {},
   "outputs": [],
   "source": []
  }
 ],
 "metadata": {
  "kernelspec": {
   "display_name": "Python 3",
   "language": "python",
   "name": "python3"
  },
  "language_info": {
   "codemirror_mode": {
    "name": "ipython",
    "version": 3
   },
   "file_extension": ".py",
   "mimetype": "text/x-python",
   "name": "python",
   "nbconvert_exporter": "python",
   "pygments_lexer": "ipython3",
   "version": "3.8.5"
  }
 },
 "nbformat": 4,
 "nbformat_minor": 4
}
