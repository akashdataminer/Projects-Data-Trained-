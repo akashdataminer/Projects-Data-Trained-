{
 "cells": [
  {
   "cell_type": "raw",
   "metadata": {},
   "source": [
    "# DATA DESCRIPTION:-\n",
    "\n",
    "In this Dataset we have to build a machine learning model that can predict the Customer Churn of Telecom Company at the end of the year so that the company can monitor and work on methods to reduce the customer churn. Customer retention is very important for company's long growth and survival needs. We will predict the chances of Customer Churn based on some independent variables upon which the Customer Churn depends."
   ]
  },
  {
   "cell_type": "code",
   "execution_count": 1,
   "metadata": {},
   "outputs": [],
   "source": [
    "import numpy as np\n",
    "import pandas as pd\n",
    "import matplotlib.pyplot as plt\n",
    "import seaborn as sns\n",
    "import os\n",
    "import warnings\n",
    "warnings.filterwarnings(\"ignore\")\n",
    "\n",
    "# Importing the required Libraries to perform EDA"
   ]
  },
  {
   "cell_type": "code",
   "execution_count": 2,
   "metadata": {},
   "outputs": [
    {
     "data": {
      "text/html": [
       "<div>\n",
       "<style scoped>\n",
       "    .dataframe tbody tr th:only-of-type {\n",
       "        vertical-align: middle;\n",
       "    }\n",
       "\n",
       "    .dataframe tbody tr th {\n",
       "        vertical-align: top;\n",
       "    }\n",
       "\n",
       "    .dataframe thead th {\n",
       "        text-align: right;\n",
       "    }\n",
       "</style>\n",
       "<table border=\"1\" class=\"dataframe\">\n",
       "  <thead>\n",
       "    <tr style=\"text-align: right;\">\n",
       "      <th></th>\n",
       "      <th>customerID</th>\n",
       "      <th>gender</th>\n",
       "      <th>SeniorCitizen</th>\n",
       "      <th>Partner</th>\n",
       "      <th>Dependents</th>\n",
       "      <th>tenure</th>\n",
       "      <th>PhoneService</th>\n",
       "      <th>MultipleLines</th>\n",
       "      <th>InternetService</th>\n",
       "      <th>OnlineSecurity</th>\n",
       "      <th>...</th>\n",
       "      <th>DeviceProtection</th>\n",
       "      <th>TechSupport</th>\n",
       "      <th>StreamingTV</th>\n",
       "      <th>StreamingMovies</th>\n",
       "      <th>Contract</th>\n",
       "      <th>PaperlessBilling</th>\n",
       "      <th>PaymentMethod</th>\n",
       "      <th>MonthlyCharges</th>\n",
       "      <th>TotalCharges</th>\n",
       "      <th>Churn</th>\n",
       "    </tr>\n",
       "  </thead>\n",
       "  <tbody>\n",
       "    <tr>\n",
       "      <th>0</th>\n",
       "      <td>7590-VHVEG</td>\n",
       "      <td>Female</td>\n",
       "      <td>0</td>\n",
       "      <td>Yes</td>\n",
       "      <td>No</td>\n",
       "      <td>1</td>\n",
       "      <td>No</td>\n",
       "      <td>No phone service</td>\n",
       "      <td>DSL</td>\n",
       "      <td>No</td>\n",
       "      <td>...</td>\n",
       "      <td>No</td>\n",
       "      <td>No</td>\n",
       "      <td>No</td>\n",
       "      <td>No</td>\n",
       "      <td>Month-to-month</td>\n",
       "      <td>Yes</td>\n",
       "      <td>Electronic check</td>\n",
       "      <td>29.85</td>\n",
       "      <td>29.85</td>\n",
       "      <td>No</td>\n",
       "    </tr>\n",
       "    <tr>\n",
       "      <th>1</th>\n",
       "      <td>5575-GNVDE</td>\n",
       "      <td>Male</td>\n",
       "      <td>0</td>\n",
       "      <td>No</td>\n",
       "      <td>No</td>\n",
       "      <td>34</td>\n",
       "      <td>Yes</td>\n",
       "      <td>No</td>\n",
       "      <td>DSL</td>\n",
       "      <td>Yes</td>\n",
       "      <td>...</td>\n",
       "      <td>Yes</td>\n",
       "      <td>No</td>\n",
       "      <td>No</td>\n",
       "      <td>No</td>\n",
       "      <td>One year</td>\n",
       "      <td>No</td>\n",
       "      <td>Mailed check</td>\n",
       "      <td>56.95</td>\n",
       "      <td>1889.50</td>\n",
       "      <td>No</td>\n",
       "    </tr>\n",
       "    <tr>\n",
       "      <th>2</th>\n",
       "      <td>3668-QPYBK</td>\n",
       "      <td>Male</td>\n",
       "      <td>0</td>\n",
       "      <td>No</td>\n",
       "      <td>No</td>\n",
       "      <td>2</td>\n",
       "      <td>Yes</td>\n",
       "      <td>No</td>\n",
       "      <td>DSL</td>\n",
       "      <td>Yes</td>\n",
       "      <td>...</td>\n",
       "      <td>No</td>\n",
       "      <td>No</td>\n",
       "      <td>No</td>\n",
       "      <td>No</td>\n",
       "      <td>Month-to-month</td>\n",
       "      <td>Yes</td>\n",
       "      <td>Mailed check</td>\n",
       "      <td>53.85</td>\n",
       "      <td>108.15</td>\n",
       "      <td>Yes</td>\n",
       "    </tr>\n",
       "    <tr>\n",
       "      <th>3</th>\n",
       "      <td>7795-CFOCW</td>\n",
       "      <td>Male</td>\n",
       "      <td>0</td>\n",
       "      <td>No</td>\n",
       "      <td>No</td>\n",
       "      <td>45</td>\n",
       "      <td>No</td>\n",
       "      <td>No phone service</td>\n",
       "      <td>DSL</td>\n",
       "      <td>Yes</td>\n",
       "      <td>...</td>\n",
       "      <td>Yes</td>\n",
       "      <td>Yes</td>\n",
       "      <td>No</td>\n",
       "      <td>No</td>\n",
       "      <td>One year</td>\n",
       "      <td>No</td>\n",
       "      <td>Bank transfer (automatic)</td>\n",
       "      <td>42.30</td>\n",
       "      <td>1840.75</td>\n",
       "      <td>No</td>\n",
       "    </tr>\n",
       "    <tr>\n",
       "      <th>4</th>\n",
       "      <td>9237-HQITU</td>\n",
       "      <td>Female</td>\n",
       "      <td>0</td>\n",
       "      <td>No</td>\n",
       "      <td>No</td>\n",
       "      <td>2</td>\n",
       "      <td>Yes</td>\n",
       "      <td>No</td>\n",
       "      <td>Fiber optic</td>\n",
       "      <td>No</td>\n",
       "      <td>...</td>\n",
       "      <td>No</td>\n",
       "      <td>No</td>\n",
       "      <td>No</td>\n",
       "      <td>No</td>\n",
       "      <td>Month-to-month</td>\n",
       "      <td>Yes</td>\n",
       "      <td>Electronic check</td>\n",
       "      <td>70.70</td>\n",
       "      <td>151.65</td>\n",
       "      <td>Yes</td>\n",
       "    </tr>\n",
       "    <tr>\n",
       "      <th>...</th>\n",
       "      <td>...</td>\n",
       "      <td>...</td>\n",
       "      <td>...</td>\n",
       "      <td>...</td>\n",
       "      <td>...</td>\n",
       "      <td>...</td>\n",
       "      <td>...</td>\n",
       "      <td>...</td>\n",
       "      <td>...</td>\n",
       "      <td>...</td>\n",
       "      <td>...</td>\n",
       "      <td>...</td>\n",
       "      <td>...</td>\n",
       "      <td>...</td>\n",
       "      <td>...</td>\n",
       "      <td>...</td>\n",
       "      <td>...</td>\n",
       "      <td>...</td>\n",
       "      <td>...</td>\n",
       "      <td>...</td>\n",
       "      <td>...</td>\n",
       "    </tr>\n",
       "    <tr>\n",
       "      <th>7038</th>\n",
       "      <td>6840-RESVB</td>\n",
       "      <td>Male</td>\n",
       "      <td>0</td>\n",
       "      <td>Yes</td>\n",
       "      <td>Yes</td>\n",
       "      <td>24</td>\n",
       "      <td>Yes</td>\n",
       "      <td>Yes</td>\n",
       "      <td>DSL</td>\n",
       "      <td>Yes</td>\n",
       "      <td>...</td>\n",
       "      <td>Yes</td>\n",
       "      <td>Yes</td>\n",
       "      <td>Yes</td>\n",
       "      <td>Yes</td>\n",
       "      <td>One year</td>\n",
       "      <td>Yes</td>\n",
       "      <td>Mailed check</td>\n",
       "      <td>84.80</td>\n",
       "      <td>1990.50</td>\n",
       "      <td>No</td>\n",
       "    </tr>\n",
       "    <tr>\n",
       "      <th>7039</th>\n",
       "      <td>2234-XADUH</td>\n",
       "      <td>Female</td>\n",
       "      <td>0</td>\n",
       "      <td>Yes</td>\n",
       "      <td>Yes</td>\n",
       "      <td>72</td>\n",
       "      <td>Yes</td>\n",
       "      <td>Yes</td>\n",
       "      <td>Fiber optic</td>\n",
       "      <td>No</td>\n",
       "      <td>...</td>\n",
       "      <td>Yes</td>\n",
       "      <td>No</td>\n",
       "      <td>Yes</td>\n",
       "      <td>Yes</td>\n",
       "      <td>One year</td>\n",
       "      <td>Yes</td>\n",
       "      <td>Credit card (automatic)</td>\n",
       "      <td>103.20</td>\n",
       "      <td>7362.90</td>\n",
       "      <td>No</td>\n",
       "    </tr>\n",
       "    <tr>\n",
       "      <th>7040</th>\n",
       "      <td>4801-JZAZL</td>\n",
       "      <td>Female</td>\n",
       "      <td>0</td>\n",
       "      <td>Yes</td>\n",
       "      <td>Yes</td>\n",
       "      <td>11</td>\n",
       "      <td>No</td>\n",
       "      <td>No phone service</td>\n",
       "      <td>DSL</td>\n",
       "      <td>Yes</td>\n",
       "      <td>...</td>\n",
       "      <td>No</td>\n",
       "      <td>No</td>\n",
       "      <td>No</td>\n",
       "      <td>No</td>\n",
       "      <td>Month-to-month</td>\n",
       "      <td>Yes</td>\n",
       "      <td>Electronic check</td>\n",
       "      <td>29.60</td>\n",
       "      <td>346.45</td>\n",
       "      <td>No</td>\n",
       "    </tr>\n",
       "    <tr>\n",
       "      <th>7041</th>\n",
       "      <td>8361-LTMKD</td>\n",
       "      <td>Male</td>\n",
       "      <td>1</td>\n",
       "      <td>Yes</td>\n",
       "      <td>No</td>\n",
       "      <td>4</td>\n",
       "      <td>Yes</td>\n",
       "      <td>Yes</td>\n",
       "      <td>Fiber optic</td>\n",
       "      <td>No</td>\n",
       "      <td>...</td>\n",
       "      <td>No</td>\n",
       "      <td>No</td>\n",
       "      <td>No</td>\n",
       "      <td>No</td>\n",
       "      <td>Month-to-month</td>\n",
       "      <td>Yes</td>\n",
       "      <td>Mailed check</td>\n",
       "      <td>74.40</td>\n",
       "      <td>306.60</td>\n",
       "      <td>Yes</td>\n",
       "    </tr>\n",
       "    <tr>\n",
       "      <th>7042</th>\n",
       "      <td>3186-AJIEK</td>\n",
       "      <td>Male</td>\n",
       "      <td>0</td>\n",
       "      <td>No</td>\n",
       "      <td>No</td>\n",
       "      <td>66</td>\n",
       "      <td>Yes</td>\n",
       "      <td>No</td>\n",
       "      <td>Fiber optic</td>\n",
       "      <td>Yes</td>\n",
       "      <td>...</td>\n",
       "      <td>Yes</td>\n",
       "      <td>Yes</td>\n",
       "      <td>Yes</td>\n",
       "      <td>Yes</td>\n",
       "      <td>Two year</td>\n",
       "      <td>Yes</td>\n",
       "      <td>Bank transfer (automatic)</td>\n",
       "      <td>105.65</td>\n",
       "      <td>6844.50</td>\n",
       "      <td>No</td>\n",
       "    </tr>\n",
       "  </tbody>\n",
       "</table>\n",
       "<p>7043 rows × 21 columns</p>\n",
       "</div>"
      ],
      "text/plain": [
       "      customerID  gender  SeniorCitizen Partner Dependents  tenure  \\\n",
       "0     7590-VHVEG  Female              0     Yes         No       1   \n",
       "1     5575-GNVDE    Male              0      No         No      34   \n",
       "2     3668-QPYBK    Male              0      No         No       2   \n",
       "3     7795-CFOCW    Male              0      No         No      45   \n",
       "4     9237-HQITU  Female              0      No         No       2   \n",
       "...          ...     ...            ...     ...        ...     ...   \n",
       "7038  6840-RESVB    Male              0     Yes        Yes      24   \n",
       "7039  2234-XADUH  Female              0     Yes        Yes      72   \n",
       "7040  4801-JZAZL  Female              0     Yes        Yes      11   \n",
       "7041  8361-LTMKD    Male              1     Yes         No       4   \n",
       "7042  3186-AJIEK    Male              0      No         No      66   \n",
       "\n",
       "     PhoneService     MultipleLines InternetService OnlineSecurity  ...  \\\n",
       "0              No  No phone service             DSL             No  ...   \n",
       "1             Yes                No             DSL            Yes  ...   \n",
       "2             Yes                No             DSL            Yes  ...   \n",
       "3              No  No phone service             DSL            Yes  ...   \n",
       "4             Yes                No     Fiber optic             No  ...   \n",
       "...           ...               ...             ...            ...  ...   \n",
       "7038          Yes               Yes             DSL            Yes  ...   \n",
       "7039          Yes               Yes     Fiber optic             No  ...   \n",
       "7040           No  No phone service             DSL            Yes  ...   \n",
       "7041          Yes               Yes     Fiber optic             No  ...   \n",
       "7042          Yes                No     Fiber optic            Yes  ...   \n",
       "\n",
       "     DeviceProtection TechSupport StreamingTV StreamingMovies        Contract  \\\n",
       "0                  No          No          No              No  Month-to-month   \n",
       "1                 Yes          No          No              No        One year   \n",
       "2                  No          No          No              No  Month-to-month   \n",
       "3                 Yes         Yes          No              No        One year   \n",
       "4                  No          No          No              No  Month-to-month   \n",
       "...               ...         ...         ...             ...             ...   \n",
       "7038              Yes         Yes         Yes             Yes        One year   \n",
       "7039              Yes          No         Yes             Yes        One year   \n",
       "7040               No          No          No              No  Month-to-month   \n",
       "7041               No          No          No              No  Month-to-month   \n",
       "7042              Yes         Yes         Yes             Yes        Two year   \n",
       "\n",
       "     PaperlessBilling              PaymentMethod MonthlyCharges  TotalCharges  \\\n",
       "0                 Yes           Electronic check          29.85         29.85   \n",
       "1                  No               Mailed check          56.95       1889.50   \n",
       "2                 Yes               Mailed check          53.85        108.15   \n",
       "3                  No  Bank transfer (automatic)          42.30       1840.75   \n",
       "4                 Yes           Electronic check          70.70        151.65   \n",
       "...               ...                        ...            ...           ...   \n",
       "7038              Yes               Mailed check          84.80       1990.50   \n",
       "7039              Yes    Credit card (automatic)         103.20       7362.90   \n",
       "7040              Yes           Electronic check          29.60        346.45   \n",
       "7041              Yes               Mailed check          74.40        306.60   \n",
       "7042              Yes  Bank transfer (automatic)         105.65       6844.50   \n",
       "\n",
       "      Churn  \n",
       "0        No  \n",
       "1        No  \n",
       "2       Yes  \n",
       "3        No  \n",
       "4       Yes  \n",
       "...     ...  \n",
       "7038     No  \n",
       "7039     No  \n",
       "7040     No  \n",
       "7041    Yes  \n",
       "7042     No  \n",
       "\n",
       "[7043 rows x 21 columns]"
      ]
     },
     "execution_count": 2,
     "metadata": {},
     "output_type": "execute_result"
    }
   ],
   "source": [
    "ds=pd.read_csv(\"Customer_Churn_Analysis.csv\")\n",
    "ds\n",
    "\n",
    "# Importing the Dataset into Python from the system"
   ]
  },
  {
   "cell_type": "code",
   "execution_count": 3,
   "metadata": {},
   "outputs": [
    {
     "data": {
      "text/html": [
       "<div>\n",
       "<style scoped>\n",
       "    .dataframe tbody tr th:only-of-type {\n",
       "        vertical-align: middle;\n",
       "    }\n",
       "\n",
       "    .dataframe tbody tr th {\n",
       "        vertical-align: top;\n",
       "    }\n",
       "\n",
       "    .dataframe thead th {\n",
       "        text-align: right;\n",
       "    }\n",
       "</style>\n",
       "<table border=\"1\" class=\"dataframe\">\n",
       "  <thead>\n",
       "    <tr style=\"text-align: right;\">\n",
       "      <th></th>\n",
       "      <th>customerID</th>\n",
       "      <th>gender</th>\n",
       "      <th>SeniorCitizen</th>\n",
       "      <th>Partner</th>\n",
       "      <th>Dependents</th>\n",
       "      <th>tenure</th>\n",
       "      <th>PhoneService</th>\n",
       "      <th>MultipleLines</th>\n",
       "      <th>InternetService</th>\n",
       "      <th>OnlineSecurity</th>\n",
       "      <th>...</th>\n",
       "      <th>DeviceProtection</th>\n",
       "      <th>TechSupport</th>\n",
       "      <th>StreamingTV</th>\n",
       "      <th>StreamingMovies</th>\n",
       "      <th>Contract</th>\n",
       "      <th>PaperlessBilling</th>\n",
       "      <th>PaymentMethod</th>\n",
       "      <th>MonthlyCharges</th>\n",
       "      <th>TotalCharges</th>\n",
       "      <th>Churn</th>\n",
       "    </tr>\n",
       "  </thead>\n",
       "  <tbody>\n",
       "    <tr>\n",
       "      <th>0</th>\n",
       "      <td>7590-VHVEG</td>\n",
       "      <td>Female</td>\n",
       "      <td>0</td>\n",
       "      <td>Yes</td>\n",
       "      <td>No</td>\n",
       "      <td>1</td>\n",
       "      <td>No</td>\n",
       "      <td>No phone service</td>\n",
       "      <td>DSL</td>\n",
       "      <td>No</td>\n",
       "      <td>...</td>\n",
       "      <td>No</td>\n",
       "      <td>No</td>\n",
       "      <td>No</td>\n",
       "      <td>No</td>\n",
       "      <td>Month-to-month</td>\n",
       "      <td>Yes</td>\n",
       "      <td>Electronic check</td>\n",
       "      <td>29.85</td>\n",
       "      <td>29.85</td>\n",
       "      <td>No</td>\n",
       "    </tr>\n",
       "    <tr>\n",
       "      <th>1</th>\n",
       "      <td>5575-GNVDE</td>\n",
       "      <td>Male</td>\n",
       "      <td>0</td>\n",
       "      <td>No</td>\n",
       "      <td>No</td>\n",
       "      <td>34</td>\n",
       "      <td>Yes</td>\n",
       "      <td>No</td>\n",
       "      <td>DSL</td>\n",
       "      <td>Yes</td>\n",
       "      <td>...</td>\n",
       "      <td>Yes</td>\n",
       "      <td>No</td>\n",
       "      <td>No</td>\n",
       "      <td>No</td>\n",
       "      <td>One year</td>\n",
       "      <td>No</td>\n",
       "      <td>Mailed check</td>\n",
       "      <td>56.95</td>\n",
       "      <td>1889.50</td>\n",
       "      <td>No</td>\n",
       "    </tr>\n",
       "    <tr>\n",
       "      <th>2</th>\n",
       "      <td>3668-QPYBK</td>\n",
       "      <td>Male</td>\n",
       "      <td>0</td>\n",
       "      <td>No</td>\n",
       "      <td>No</td>\n",
       "      <td>2</td>\n",
       "      <td>Yes</td>\n",
       "      <td>No</td>\n",
       "      <td>DSL</td>\n",
       "      <td>Yes</td>\n",
       "      <td>...</td>\n",
       "      <td>No</td>\n",
       "      <td>No</td>\n",
       "      <td>No</td>\n",
       "      <td>No</td>\n",
       "      <td>Month-to-month</td>\n",
       "      <td>Yes</td>\n",
       "      <td>Mailed check</td>\n",
       "      <td>53.85</td>\n",
       "      <td>108.15</td>\n",
       "      <td>Yes</td>\n",
       "    </tr>\n",
       "    <tr>\n",
       "      <th>3</th>\n",
       "      <td>7795-CFOCW</td>\n",
       "      <td>Male</td>\n",
       "      <td>0</td>\n",
       "      <td>No</td>\n",
       "      <td>No</td>\n",
       "      <td>45</td>\n",
       "      <td>No</td>\n",
       "      <td>No phone service</td>\n",
       "      <td>DSL</td>\n",
       "      <td>Yes</td>\n",
       "      <td>...</td>\n",
       "      <td>Yes</td>\n",
       "      <td>Yes</td>\n",
       "      <td>No</td>\n",
       "      <td>No</td>\n",
       "      <td>One year</td>\n",
       "      <td>No</td>\n",
       "      <td>Bank transfer (automatic)</td>\n",
       "      <td>42.30</td>\n",
       "      <td>1840.75</td>\n",
       "      <td>No</td>\n",
       "    </tr>\n",
       "    <tr>\n",
       "      <th>4</th>\n",
       "      <td>9237-HQITU</td>\n",
       "      <td>Female</td>\n",
       "      <td>0</td>\n",
       "      <td>No</td>\n",
       "      <td>No</td>\n",
       "      <td>2</td>\n",
       "      <td>Yes</td>\n",
       "      <td>No</td>\n",
       "      <td>Fiber optic</td>\n",
       "      <td>No</td>\n",
       "      <td>...</td>\n",
       "      <td>No</td>\n",
       "      <td>No</td>\n",
       "      <td>No</td>\n",
       "      <td>No</td>\n",
       "      <td>Month-to-month</td>\n",
       "      <td>Yes</td>\n",
       "      <td>Electronic check</td>\n",
       "      <td>70.70</td>\n",
       "      <td>151.65</td>\n",
       "      <td>Yes</td>\n",
       "    </tr>\n",
       "    <tr>\n",
       "      <th>...</th>\n",
       "      <td>...</td>\n",
       "      <td>...</td>\n",
       "      <td>...</td>\n",
       "      <td>...</td>\n",
       "      <td>...</td>\n",
       "      <td>...</td>\n",
       "      <td>...</td>\n",
       "      <td>...</td>\n",
       "      <td>...</td>\n",
       "      <td>...</td>\n",
       "      <td>...</td>\n",
       "      <td>...</td>\n",
       "      <td>...</td>\n",
       "      <td>...</td>\n",
       "      <td>...</td>\n",
       "      <td>...</td>\n",
       "      <td>...</td>\n",
       "      <td>...</td>\n",
       "      <td>...</td>\n",
       "      <td>...</td>\n",
       "      <td>...</td>\n",
       "    </tr>\n",
       "    <tr>\n",
       "      <th>7038</th>\n",
       "      <td>6840-RESVB</td>\n",
       "      <td>Male</td>\n",
       "      <td>0</td>\n",
       "      <td>Yes</td>\n",
       "      <td>Yes</td>\n",
       "      <td>24</td>\n",
       "      <td>Yes</td>\n",
       "      <td>Yes</td>\n",
       "      <td>DSL</td>\n",
       "      <td>Yes</td>\n",
       "      <td>...</td>\n",
       "      <td>Yes</td>\n",
       "      <td>Yes</td>\n",
       "      <td>Yes</td>\n",
       "      <td>Yes</td>\n",
       "      <td>One year</td>\n",
       "      <td>Yes</td>\n",
       "      <td>Mailed check</td>\n",
       "      <td>84.80</td>\n",
       "      <td>1990.50</td>\n",
       "      <td>No</td>\n",
       "    </tr>\n",
       "    <tr>\n",
       "      <th>7039</th>\n",
       "      <td>2234-XADUH</td>\n",
       "      <td>Female</td>\n",
       "      <td>0</td>\n",
       "      <td>Yes</td>\n",
       "      <td>Yes</td>\n",
       "      <td>72</td>\n",
       "      <td>Yes</td>\n",
       "      <td>Yes</td>\n",
       "      <td>Fiber optic</td>\n",
       "      <td>No</td>\n",
       "      <td>...</td>\n",
       "      <td>Yes</td>\n",
       "      <td>No</td>\n",
       "      <td>Yes</td>\n",
       "      <td>Yes</td>\n",
       "      <td>One year</td>\n",
       "      <td>Yes</td>\n",
       "      <td>Credit card (automatic)</td>\n",
       "      <td>103.20</td>\n",
       "      <td>7362.90</td>\n",
       "      <td>No</td>\n",
       "    </tr>\n",
       "    <tr>\n",
       "      <th>7040</th>\n",
       "      <td>4801-JZAZL</td>\n",
       "      <td>Female</td>\n",
       "      <td>0</td>\n",
       "      <td>Yes</td>\n",
       "      <td>Yes</td>\n",
       "      <td>11</td>\n",
       "      <td>No</td>\n",
       "      <td>No phone service</td>\n",
       "      <td>DSL</td>\n",
       "      <td>Yes</td>\n",
       "      <td>...</td>\n",
       "      <td>No</td>\n",
       "      <td>No</td>\n",
       "      <td>No</td>\n",
       "      <td>No</td>\n",
       "      <td>Month-to-month</td>\n",
       "      <td>Yes</td>\n",
       "      <td>Electronic check</td>\n",
       "      <td>29.60</td>\n",
       "      <td>346.45</td>\n",
       "      <td>No</td>\n",
       "    </tr>\n",
       "    <tr>\n",
       "      <th>7041</th>\n",
       "      <td>8361-LTMKD</td>\n",
       "      <td>Male</td>\n",
       "      <td>1</td>\n",
       "      <td>Yes</td>\n",
       "      <td>No</td>\n",
       "      <td>4</td>\n",
       "      <td>Yes</td>\n",
       "      <td>Yes</td>\n",
       "      <td>Fiber optic</td>\n",
       "      <td>No</td>\n",
       "      <td>...</td>\n",
       "      <td>No</td>\n",
       "      <td>No</td>\n",
       "      <td>No</td>\n",
       "      <td>No</td>\n",
       "      <td>Month-to-month</td>\n",
       "      <td>Yes</td>\n",
       "      <td>Mailed check</td>\n",
       "      <td>74.40</td>\n",
       "      <td>306.60</td>\n",
       "      <td>Yes</td>\n",
       "    </tr>\n",
       "    <tr>\n",
       "      <th>7042</th>\n",
       "      <td>3186-AJIEK</td>\n",
       "      <td>Male</td>\n",
       "      <td>0</td>\n",
       "      <td>No</td>\n",
       "      <td>No</td>\n",
       "      <td>66</td>\n",
       "      <td>Yes</td>\n",
       "      <td>No</td>\n",
       "      <td>Fiber optic</td>\n",
       "      <td>Yes</td>\n",
       "      <td>...</td>\n",
       "      <td>Yes</td>\n",
       "      <td>Yes</td>\n",
       "      <td>Yes</td>\n",
       "      <td>Yes</td>\n",
       "      <td>Two year</td>\n",
       "      <td>Yes</td>\n",
       "      <td>Bank transfer (automatic)</td>\n",
       "      <td>105.65</td>\n",
       "      <td>6844.50</td>\n",
       "      <td>No</td>\n",
       "    </tr>\n",
       "  </tbody>\n",
       "</table>\n",
       "<p>7043 rows × 21 columns</p>\n",
       "</div>"
      ],
      "text/plain": [
       "      customerID  gender  SeniorCitizen Partner Dependents  tenure  \\\n",
       "0     7590-VHVEG  Female              0     Yes         No       1   \n",
       "1     5575-GNVDE    Male              0      No         No      34   \n",
       "2     3668-QPYBK    Male              0      No         No       2   \n",
       "3     7795-CFOCW    Male              0      No         No      45   \n",
       "4     9237-HQITU  Female              0      No         No       2   \n",
       "...          ...     ...            ...     ...        ...     ...   \n",
       "7038  6840-RESVB    Male              0     Yes        Yes      24   \n",
       "7039  2234-XADUH  Female              0     Yes        Yes      72   \n",
       "7040  4801-JZAZL  Female              0     Yes        Yes      11   \n",
       "7041  8361-LTMKD    Male              1     Yes         No       4   \n",
       "7042  3186-AJIEK    Male              0      No         No      66   \n",
       "\n",
       "     PhoneService     MultipleLines InternetService OnlineSecurity  ...  \\\n",
       "0              No  No phone service             DSL             No  ...   \n",
       "1             Yes                No             DSL            Yes  ...   \n",
       "2             Yes                No             DSL            Yes  ...   \n",
       "3              No  No phone service             DSL            Yes  ...   \n",
       "4             Yes                No     Fiber optic             No  ...   \n",
       "...           ...               ...             ...            ...  ...   \n",
       "7038          Yes               Yes             DSL            Yes  ...   \n",
       "7039          Yes               Yes     Fiber optic             No  ...   \n",
       "7040           No  No phone service             DSL            Yes  ...   \n",
       "7041          Yes               Yes     Fiber optic             No  ...   \n",
       "7042          Yes                No     Fiber optic            Yes  ...   \n",
       "\n",
       "     DeviceProtection TechSupport StreamingTV StreamingMovies        Contract  \\\n",
       "0                  No          No          No              No  Month-to-month   \n",
       "1                 Yes          No          No              No        One year   \n",
       "2                  No          No          No              No  Month-to-month   \n",
       "3                 Yes         Yes          No              No        One year   \n",
       "4                  No          No          No              No  Month-to-month   \n",
       "...               ...         ...         ...             ...             ...   \n",
       "7038              Yes         Yes         Yes             Yes        One year   \n",
       "7039              Yes          No         Yes             Yes        One year   \n",
       "7040               No          No          No              No  Month-to-month   \n",
       "7041               No          No          No              No  Month-to-month   \n",
       "7042              Yes         Yes         Yes             Yes        Two year   \n",
       "\n",
       "     PaperlessBilling              PaymentMethod MonthlyCharges  TotalCharges  \\\n",
       "0                 Yes           Electronic check          29.85         29.85   \n",
       "1                  No               Mailed check          56.95       1889.50   \n",
       "2                 Yes               Mailed check          53.85        108.15   \n",
       "3                  No  Bank transfer (automatic)          42.30       1840.75   \n",
       "4                 Yes           Electronic check          70.70        151.65   \n",
       "...               ...                        ...            ...           ...   \n",
       "7038              Yes               Mailed check          84.80       1990.50   \n",
       "7039              Yes    Credit card (automatic)         103.20       7362.90   \n",
       "7040              Yes           Electronic check          29.60        346.45   \n",
       "7041              Yes               Mailed check          74.40        306.60   \n",
       "7042              Yes  Bank transfer (automatic)         105.65       6844.50   \n",
       "\n",
       "      Churn  \n",
       "0        No  \n",
       "1        No  \n",
       "2       Yes  \n",
       "3        No  \n",
       "4       Yes  \n",
       "...     ...  \n",
       "7038     No  \n",
       "7039     No  \n",
       "7040     No  \n",
       "7041    Yes  \n",
       "7042     No  \n",
       "\n",
       "[7043 rows x 21 columns]"
      ]
     },
     "execution_count": 3,
     "metadata": {},
     "output_type": "execute_result"
    }
   ],
   "source": [
    "churn=pd.DataFrame(data=ds)\n",
    "churn\n",
    "\n",
    "# Making a structured dataframe and giving it name \"churn\""
   ]
  },
  {
   "cell_type": "code",
   "execution_count": null,
   "metadata": {},
   "outputs": [],
   "source": []
  },
  {
   "cell_type": "markdown",
   "metadata": {},
   "source": [
    "# EDA (Exploratory Data Analysis):-"
   ]
  },
  {
   "cell_type": "code",
   "execution_count": 4,
   "metadata": {},
   "outputs": [
    {
     "data": {
      "text/plain": [
       "Index(['customerID', 'gender', 'SeniorCitizen', 'Partner', 'Dependents',\n",
       "       'tenure', 'PhoneService', 'MultipleLines', 'InternetService',\n",
       "       'OnlineSecurity', 'OnlineBackup', 'DeviceProtection', 'TechSupport',\n",
       "       'StreamingTV', 'StreamingMovies', 'Contract', 'PaperlessBilling',\n",
       "       'PaymentMethod', 'MonthlyCharges', 'TotalCharges', 'Churn'],\n",
       "      dtype='object')"
      ]
     },
     "execution_count": 4,
     "metadata": {},
     "output_type": "execute_result"
    }
   ],
   "source": [
    "churn.columns\n",
    "\n",
    "# Displaying all the column names of the churn Dataset"
   ]
  },
  {
   "cell_type": "code",
   "execution_count": 5,
   "metadata": {},
   "outputs": [
    {
     "name": "stdout",
     "output_type": "stream",
     "text": [
      "<class 'pandas.core.frame.DataFrame'>\n",
      "RangeIndex: 7043 entries, 0 to 7042\n",
      "Data columns (total 21 columns):\n",
      " #   Column            Non-Null Count  Dtype  \n",
      "---  ------            --------------  -----  \n",
      " 0   customerID        7043 non-null   object \n",
      " 1   gender            7043 non-null   object \n",
      " 2   SeniorCitizen     7043 non-null   int64  \n",
      " 3   Partner           7043 non-null   object \n",
      " 4   Dependents        7043 non-null   object \n",
      " 5   tenure            7043 non-null   int64  \n",
      " 6   PhoneService      7043 non-null   object \n",
      " 7   MultipleLines     7043 non-null   object \n",
      " 8   InternetService   7043 non-null   object \n",
      " 9   OnlineSecurity    7043 non-null   object \n",
      " 10  OnlineBackup      7043 non-null   object \n",
      " 11  DeviceProtection  7043 non-null   object \n",
      " 12  TechSupport       7043 non-null   object \n",
      " 13  StreamingTV       7043 non-null   object \n",
      " 14  StreamingMovies   7043 non-null   object \n",
      " 15  Contract          7043 non-null   object \n",
      " 16  PaperlessBilling  7043 non-null   object \n",
      " 17  PaymentMethod     7043 non-null   object \n",
      " 18  MonthlyCharges    7043 non-null   float64\n",
      " 19  TotalCharges      7043 non-null   float64\n",
      " 20  Churn             7043 non-null   object \n",
      "dtypes: float64(2), int64(2), object(17)\n",
      "memory usage: 1.1+ MB\n"
     ]
    }
   ],
   "source": [
    "churn.info()\n",
    "\n",
    "# Displaying the information relating to the null values and Data type of each columns of the Churn Dataset\n",
    "# As, we can see that there are mostly object data type columns present in the Dataset\n",
    "# Our Target Variable is object type and therefore, we will use Classifiers to build our Machine Learning Models"
   ]
  },
  {
   "cell_type": "code",
   "execution_count": 6,
   "metadata": {},
   "outputs": [
    {
     "data": {
      "text/plain": [
       "customerID          0\n",
       "gender              0\n",
       "SeniorCitizen       0\n",
       "Partner             0\n",
       "Dependents          0\n",
       "tenure              0\n",
       "PhoneService        0\n",
       "MultipleLines       0\n",
       "InternetService     0\n",
       "OnlineSecurity      0\n",
       "OnlineBackup        0\n",
       "DeviceProtection    0\n",
       "TechSupport         0\n",
       "StreamingTV         0\n",
       "StreamingMovies     0\n",
       "Contract            0\n",
       "PaperlessBilling    0\n",
       "PaymentMethod       0\n",
       "MonthlyCharges      0\n",
       "TotalCharges        0\n",
       "Churn               0\n",
       "dtype: int64"
      ]
     },
     "execution_count": 6,
     "metadata": {},
     "output_type": "execute_result"
    }
   ],
   "source": [
    "churn.isnull().sum()\n",
    "\n",
    "# There is no missing value present in Churn Dataset"
   ]
  },
  {
   "cell_type": "code",
   "execution_count": 7,
   "metadata": {},
   "outputs": [
    {
     "data": {
      "text/plain": [
       "<AxesSubplot:xlabel='gender', ylabel='count'>"
      ]
     },
     "execution_count": 7,
     "metadata": {},
     "output_type": "execute_result"
    },
    {
     "data": {
      "image/png": "[encoded data removed]",
      "text/plain": [
       "<Figure size 432x288 with 1 Axes>"
      ]
     },
     "metadata": {
      "needs_background": "light"
     },
     "output_type": "display_data"
    }
   ],
   "source": [
    "sns.countplot(churn[\"gender\"])\n",
    " \n",
    "# The graph shows that there are almost equal number of male and female customers present in the Dataset"
   ]
  },
  {
   "cell_type": "code",
   "execution_count": 8,
   "metadata": {},
   "outputs": [
    {
     "data": {
      "text/plain": [
       "<AxesSubplot:xlabel='SeniorCitizen', ylabel='count'>"
      ]
     },
     "execution_count": 8,
     "metadata": {},
     "output_type": "execute_result"
    },
    {
     "data": {
      "image/png": "[encoded data removed]",
      "text/plain": [
       "<Figure size 432x288 with 1 Axes>"
      ]
     },
     "metadata": {
      "needs_background": "light"
     },
     "output_type": "display_data"
    }
   ],
   "source": [
    "sns.countplot(churn[\"SeniorCitizen\"])\n",
    "\n",
    "# The Graph shows that very few customers in the Dataset are Senior Citizens"
   ]
  },
  {
   "cell_type": "code",
   "execution_count": 9,
   "metadata": {},
   "outputs": [
    {
     "data": {
      "text/plain": [
       "<AxesSubplot:xlabel='Partner', ylabel='count'>"
      ]
     },
     "execution_count": 9,
     "metadata": {},
     "output_type": "execute_result"
    },
    {
     "data": {
      "image/png": "[encoded data removed]",
      "text/plain": [
       "<Figure size 432x288 with 1 Axes>"
      ]
     },
     "metadata": {
      "needs_background": "light"
     },
     "output_type": "display_data"
    }
   ],
   "source": [
    "sns.countplot(churn[\"Partner\"])\n",
    "\n",
    "# The graph shows that there are almost equal number of people with and without life partners"
   ]
  },
  {
   "cell_type": "code",
   "execution_count": 10,
   "metadata": {},
   "outputs": [
    {
     "data": {
      "text/plain": [
       "<AxesSubplot:xlabel='Dependents', ylabel='count'>"
      ]
     },
     "execution_count": 10,
     "metadata": {},
     "output_type": "execute_result"
    },
    {
     "data": {
      "image/png": "[encoded data removed]",
      "text/plain": [
       "<Figure size 432x288 with 1 Axes>"
      ]
     },
     "metadata": {
      "needs_background": "light"
     },
     "output_type": "display_data"
    }
   ],
   "source": [
    "sns.countplot(churn[\"Dependents\"])\n",
    "\n",
    "# The graph shows that most customers in the Dataset do not have any dependents while few customers have dependents"
   ]
  },
  {
   "cell_type": "code",
   "execution_count": 11,
   "metadata": {},
   "outputs": [
    {
     "data": {
      "text/plain": [
       "<AxesSubplot:xlabel='PhoneService', ylabel='count'>"
      ]
     },
     "execution_count": 11,
     "metadata": {},
     "output_type": "execute_result"
    },
    {
     "data": {
      "image/png": "[encoded data removed]",
      "text/plain": [
       "<Figure size 432x288 with 1 Axes>"
      ]
     },
     "metadata": {
      "needs_background": "light"
     },
     "output_type": "display_data"
    }
   ],
   "source": [
    "sns.countplot(churn[\"PhoneService\"])\n",
    "\n",
    "# The Graph shows most customers have Phonme services while very few customers do not take phone services"
   ]
  },
  {
   "cell_type": "code",
   "execution_count": 12,
   "metadata": {},
   "outputs": [
    {
     "data": {
      "text/plain": [
       "<AxesSubplot:xlabel='InternetService', ylabel='count'>"
      ]
     },
     "execution_count": 12,
     "metadata": {},
     "output_type": "execute_result"
    },
    {
     "data": {
      "image/png": "[encoded data removed]",
      "text/plain": [
       "<Figure size 432x288 with 1 Axes>"
      ]
     },
     "metadata": {
      "needs_background": "light"
     },
     "output_type": "display_data"
    }
   ],
   "source": [
    "sns.countplot(churn[\"InternetService\"])\n",
    "\n",
    "# The Graph shows that most customers have fiber optic internet service while few customers do not take internet services "
   ]
  },
  {
   "cell_type": "code",
   "execution_count": 13,
   "metadata": {},
   "outputs": [
    {
     "data": {
      "text/plain": [
       "<AxesSubplot:xlabel='MultipleLines', ylabel='count'>"
      ]
     },
     "execution_count": 13,
     "metadata": {},
     "output_type": "execute_result"
    },
    {
     "data": {
      "image/png": "[encoded data removed]",
      "text/plain": [
       "<Figure size 432x288 with 1 Axes>"
      ]
     },
     "metadata": {
      "needs_background": "light"
     },
     "output_type": "display_data"
    }
   ],
   "source": [
    "sns.countplot(churn[\"MultipleLines\"])\n",
    "\n",
    "# The Graph shows that some customers with phone servies have opted for multiple lines "
   ]
  },
  {
   "cell_type": "code",
   "execution_count": 14,
   "metadata": {},
   "outputs": [
    {
     "data": {
      "text/plain": [
       "<AxesSubplot:xlabel='OnlineSecurity', ylabel='count'>"
      ]
     },
     "execution_count": 14,
     "metadata": {},
     "output_type": "execute_result"
    },
    {
     "data": {
      "image/png": "[encoded data removed]",
      "text/plain": [
       "<Figure size 432x288 with 1 Axes>"
      ]
     },
     "metadata": {
      "needs_background": "light"
     },
     "output_type": "display_data"
    }
   ],
   "source": [
    "sns.countplot(churn[\"OnlineSecurity\"])\n",
    "\n",
    "# The Graph shows that few customers who have opted for internet services have also opted for online security services"
   ]
  },
  {
   "cell_type": "code",
   "execution_count": 15,
   "metadata": {},
   "outputs": [
    {
     "data": {
      "text/plain": [
       "<AxesSubplot:xlabel='OnlineBackup', ylabel='count'>"
      ]
     },
     "execution_count": 15,
     "metadata": {},
     "output_type": "execute_result"
    },
    {
     "data": {
      "image/png": "[encoded data removed]",
      "text/plain": [
       "<Figure size 432x288 with 1 Axes>"
      ]
     },
     "metadata": {
      "needs_background": "light"
     },
     "output_type": "display_data"
    }
   ],
   "source": [
    "sns.countplot(churn[\"OnlineBackup\"])\n",
    "\n",
    "# The Graph shows that few customers who have opted for internet services have also opted for online backup services"
   ]
  },
  {
   "cell_type": "code",
   "execution_count": 16,
   "metadata": {},
   "outputs": [
    {
     "data": {
      "text/plain": [
       "<AxesSubplot:xlabel='DeviceProtection', ylabel='count'>"
      ]
     },
     "execution_count": 16,
     "metadata": {},
     "output_type": "execute_result"
    },
    {
     "data": {
      "image/png": "[encoded data removed]",
      "text/plain": [
       "<Figure size 432x288 with 1 Axes>"
      ]
     },
     "metadata": {
      "needs_background": "light"
     },
     "output_type": "display_data"
    }
   ],
   "source": [
    "sns.countplot(churn[\"DeviceProtection\"])\n",
    "\n",
    "# The Graph shows that some customers who have opted for internet services have also opted for device protection services"
   ]
  },
  {
   "cell_type": "code",
   "execution_count": 17,
   "metadata": {},
   "outputs": [
    {
     "data": {
      "text/plain": [
       "<AxesSubplot:xlabel='TechSupport', ylabel='count'>"
      ]
     },
     "execution_count": 17,
     "metadata": {},
     "output_type": "execute_result"
    },
    {
     "data": {
      "image/png": "[encoded data removed]",
      "text/plain": [
       "<Figure size 432x288 with 1 Axes>"
      ]
     },
     "metadata": {
      "needs_background": "light"
     },
     "output_type": "display_data"
    }
   ],
   "source": [
    "sns.countplot(churn[\"TechSupport\"])\n",
    "\n",
    "# The Graph shows that very few customers who have opted for internet services have also opted for tech support services"
   ]
  },
  {
   "cell_type": "code",
   "execution_count": 18,
   "metadata": {},
   "outputs": [
    {
     "data": {
      "text/plain": [
       "<AxesSubplot:xlabel='StreamingMovies', ylabel='count'>"
      ]
     },
     "execution_count": 18,
     "metadata": {},
     "output_type": "execute_result"
    },
    {
     "data": {
      "image/png": "[encoded data removed]",
      "text/plain": [
       "<Figure size 432x288 with 1 Axes>"
      ]
     },
     "metadata": {
      "needs_background": "light"
     },
     "output_type": "display_data"
    }
   ],
   "source": [
    "sns.countplot(churn[\"StreamingMovies\"])\n",
    "\n",
    "# The Graph shows that mostly equal number of customers are there who have and who have not opted for Movie Stream Services"
   ]
  },
  {
   "cell_type": "code",
   "execution_count": 19,
   "metadata": {},
   "outputs": [
    {
     "data": {
      "text/plain": [
       "<AxesSubplot:xlabel='StreamingTV', ylabel='count'>"
      ]
     },
     "execution_count": 19,
     "metadata": {},
     "output_type": "execute_result"
    },
    {
     "data": {
      "image/png": "[encoded data removed]",
      "text/plain": [
       "<Figure size 432x288 with 1 Axes>"
      ]
     },
     "metadata": {
      "needs_background": "light"
     },
     "output_type": "display_data"
    }
   ],
   "source": [
    "sns.countplot(churn[\"StreamingTV\"])\n",
    "\n",
    "# The Graph shows that mostly equal number of customers are there who have and who have not opted for TV Stream Services"
   ]
  },
  {
   "cell_type": "code",
   "execution_count": 20,
   "metadata": {},
   "outputs": [
    {
     "data": {
      "text/plain": [
       "<AxesSubplot:xlabel='Contract', ylabel='count'>"
      ]
     },
     "execution_count": 20,
     "metadata": {},
     "output_type": "execute_result"
    },
    {
     "data": {
      "image/png": "[encoded data removed]",
      "text/plain": [
       "<Figure size 432x288 with 1 Axes>"
      ]
     },
     "metadata": {
      "needs_background": "light"
     },
     "output_type": "display_data"
    }
   ],
   "source": [
    "sns.countplot(churn[\"Contract\"])\n",
    "\n",
    "# The Graph shows that mostly Customers prefer Month to Month payment contracts \n",
    "# While few cutomers prefer for long term payment contracts of 1 and 2 years"
   ]
  },
  {
   "cell_type": "code",
   "execution_count": 21,
   "metadata": {},
   "outputs": [
    {
     "data": {
      "text/plain": [
       "<AxesSubplot:xlabel='PaperlessBilling', ylabel='count'>"
      ]
     },
     "execution_count": 21,
     "metadata": {},
     "output_type": "execute_result"
    },
    {
     "data": {
      "image/png": "[encoded data removed]",
      "text/plain": [
       "<Figure size 432x288 with 1 Axes>"
      ]
     },
     "metadata": {
      "needs_background": "light"
     },
     "output_type": "display_data"
    }
   ],
   "source": [
    "sns.countplot(churn[\"PaperlessBilling\"])\n",
    "\n",
    "# The Graph shows that most customers have opted for paperless billing system"
   ]
  },
  {
   "cell_type": "code",
   "execution_count": 22,
   "metadata": {},
   "outputs": [
    {
     "data": {
      "text/plain": [
       "<AxesSubplot:xlabel='PaymentMethod', ylabel='count'>"
      ]
     },
     "execution_count": 22,
     "metadata": {},
     "output_type": "execute_result"
    },
    {
     "data": {
      "image/png": "[encoded data removed]",
      "text/plain": [
       "<Figure size 720x360 with 1 Axes>"
      ]
     },
     "metadata": {
      "needs_background": "light"
     },
     "output_type": "display_data"
    }
   ],
   "source": [
    "plt.figure(figsize=(10,5))\n",
    "sns.countplot(churn[\"PaymentMethod\"])\n",
    "\n",
    "# The Graph shows that most customers prefer to keep their payment mode as Electronic Check"
   ]
  },
  {
   "cell_type": "code",
   "execution_count": 23,
   "metadata": {},
   "outputs": [
    {
     "data": {
      "text/plain": [
       "<AxesSubplot:xlabel='Churn', ylabel='count'>"
      ]
     },
     "execution_count": 23,
     "metadata": {},
     "output_type": "execute_result"
    },
    {
     "data": {
      "image/png": "[encoded data removed]",
      "text/plain": [
       "<Figure size 576x360 with 1 Axes>"
      ]
     },
     "metadata": {
      "needs_background": "light"
     },
     "output_type": "display_data"
    }
   ],
   "source": [
    "plt.figure(figsize=(8,5))\n",
    "sns.countplot(churn[\"Churn\"])\n",
    "\n",
    "# The Graph shows that around 40% of customers leave the company services and therefore shows the high churn rate"
   ]
  },
  {
   "cell_type": "code",
   "execution_count": 24,
   "metadata": {},
   "outputs": [
    {
     "data": {
      "text/plain": [
       "<AxesSubplot:xlabel='Contract', ylabel='MonthlyCharges'>"
      ]
     },
     "execution_count": 24,
     "metadata": {},
     "output_type": "execute_result"
    },
    {
     "data": {
      "image/png": "[encoded data removed]",
      "text/plain": [
       "<Figure size 432x288 with 1 Axes>"
      ]
     },
     "metadata": {
      "needs_background": "light"
     },
     "output_type": "display_data"
    }
   ],
   "source": [
    "sns.barplot(x=churn[\"Contract\"], y=churn[\"MonthlyCharges\"])\n",
    "\n",
    "# The Graph shows that monthly charges are little high in month to month and slighly low in year and 2 year contract\n",
    "# It is because long term contract cost little less so that more people gets encouraged to opt for longer contract plans"
   ]
  },
  {
   "cell_type": "code",
   "execution_count": 25,
   "metadata": {},
   "outputs": [
    {
     "data": {
      "text/plain": [
       "<AxesSubplot:xlabel='Contract', ylabel='tenure'>"
      ]
     },
     "execution_count": 25,
     "metadata": {},
     "output_type": "execute_result"
    },
    {
     "data": {
      "image/png": "[encoded data removed]",
      "text/plain": [
       "<Figure size 432x288 with 1 Axes>"
      ]
     },
     "metadata": {
      "needs_background": "light"
     },
     "output_type": "display_data"
    }
   ],
   "source": [
    "sns.barplot(x=churn[\"Contract\"], y=churn[\"tenure\"])\n",
    "\n",
    "# It shows for how much tenure the customers do which kind of contract with the company"
   ]
  },
  {
   "cell_type": "code",
   "execution_count": 26,
   "metadata": {},
   "outputs": [
    {
     "data": {
      "text/plain": [
       "<AxesSubplot:xlabel='Contract', ylabel='count'>"
      ]
     },
     "execution_count": 26,
     "metadata": {},
     "output_type": "execute_result"
    },
    {
     "data": {
      "image/png": "[encoded data removed]",
      "text/plain": [
       "<Figure size 576x360 with 1 Axes>"
      ]
     },
     "metadata": {
      "needs_background": "light"
     },
     "output_type": "display_data"
    }
   ],
   "source": [
    "plt.figure(figsize=(8,5))\n",
    "sns.countplot(churn[\"Contract\"], hue=churn[\"gender\"])\n",
    "\n",
    "# It shows that there are almost equal number of male and female customers doing same kind of contracts with the company"
   ]
  },
  {
   "cell_type": "code",
   "execution_count": 27,
   "metadata": {},
   "outputs": [
    {
     "data": {
      "text/plain": [
       "<AxesSubplot:xlabel='PaymentMethod', ylabel='count'>"
      ]
     },
     "execution_count": 27,
     "metadata": {},
     "output_type": "execute_result"
    },
    {
     "data": {
      "image/png": "[encoded data removed]",
      "text/plain": [
       "<Figure size 576x360 with 1 Axes>"
      ]
     },
     "metadata": {
      "needs_background": "light"
     },
     "output_type": "display_data"
    }
   ],
   "source": [
    "plt.figure(figsize=(8,5))\n",
    "sns.countplot(churn[\"PaymentMethod\"], hue=churn[\"gender\"])\n",
    "\n",
    "# It shows that there are almost equal number of male and female customers using same kind of payment methods"
   ]
  },
  {
   "cell_type": "code",
   "execution_count": null,
   "metadata": {},
   "outputs": [],
   "source": []
  },
  {
   "cell_type": "code",
   "execution_count": null,
   "metadata": {},
   "outputs": [],
   "source": []
  },
  {
   "cell_type": "markdown",
   "metadata": {},
   "source": [
    "# Data Cleaning & Feature Engineering:-"
   ]
  },
  {
   "cell_type": "code",
   "execution_count": 28,
   "metadata": {},
   "outputs": [
    {
     "data": {
      "text/html": [
       "<div>\n",
       "<style scoped>\n",
       "    .dataframe tbody tr th:only-of-type {\n",
       "        vertical-align: middle;\n",
       "    }\n",
       "\n",
       "    .dataframe tbody tr th {\n",
       "        vertical-align: top;\n",
       "    }\n",
       "\n",
       "    .dataframe thead th {\n",
       "        text-align: right;\n",
       "    }\n",
       "</style>\n",
       "<table border=\"1\" class=\"dataframe\">\n",
       "  <thead>\n",
       "    <tr style=\"text-align: right;\">\n",
       "      <th></th>\n",
       "      <th>customerID</th>\n",
       "      <th>gender</th>\n",
       "      <th>SeniorCitizen</th>\n",
       "      <th>Partner</th>\n",
       "      <th>Dependents</th>\n",
       "      <th>tenure</th>\n",
       "      <th>PhoneService</th>\n",
       "      <th>MultipleLines</th>\n",
       "      <th>InternetService</th>\n",
       "      <th>OnlineSecurity</th>\n",
       "      <th>...</th>\n",
       "      <th>DeviceProtection</th>\n",
       "      <th>TechSupport</th>\n",
       "      <th>StreamingTV</th>\n",
       "      <th>StreamingMovies</th>\n",
       "      <th>Contract</th>\n",
       "      <th>PaperlessBilling</th>\n",
       "      <th>PaymentMethod</th>\n",
       "      <th>MonthlyCharges</th>\n",
       "      <th>TotalCharges</th>\n",
       "      <th>Churn</th>\n",
       "    </tr>\n",
       "  </thead>\n",
       "  <tbody>\n",
       "    <tr>\n",
       "      <th>0</th>\n",
       "      <td>7590-VHVEG</td>\n",
       "      <td>Female</td>\n",
       "      <td>0</td>\n",
       "      <td>Yes</td>\n",
       "      <td>No</td>\n",
       "      <td>1</td>\n",
       "      <td>No</td>\n",
       "      <td>No phone service</td>\n",
       "      <td>DSL</td>\n",
       "      <td>No</td>\n",
       "      <td>...</td>\n",
       "      <td>No</td>\n",
       "      <td>No</td>\n",
       "      <td>No</td>\n",
       "      <td>No</td>\n",
       "      <td>Month-to-month</td>\n",
       "      <td>Yes</td>\n",
       "      <td>Electronic check</td>\n",
       "      <td>29.85</td>\n",
       "      <td>29.85</td>\n",
       "      <td>No</td>\n",
       "    </tr>\n",
       "    <tr>\n",
       "      <th>1</th>\n",
       "      <td>5575-GNVDE</td>\n",
       "      <td>Male</td>\n",
       "      <td>0</td>\n",
       "      <td>No</td>\n",
       "      <td>No</td>\n",
       "      <td>34</td>\n",
       "      <td>Yes</td>\n",
       "      <td>No</td>\n",
       "      <td>DSL</td>\n",
       "      <td>Yes</td>\n",
       "      <td>...</td>\n",
       "      <td>Yes</td>\n",
       "      <td>No</td>\n",
       "      <td>No</td>\n",
       "      <td>No</td>\n",
       "      <td>One year</td>\n",
       "      <td>No</td>\n",
       "      <td>Mailed check</td>\n",
       "      <td>56.95</td>\n",
       "      <td>1889.50</td>\n",
       "      <td>No</td>\n",
       "    </tr>\n",
       "    <tr>\n",
       "      <th>2</th>\n",
       "      <td>3668-QPYBK</td>\n",
       "      <td>Male</td>\n",
       "      <td>0</td>\n",
       "      <td>No</td>\n",
       "      <td>No</td>\n",
       "      <td>2</td>\n",
       "      <td>Yes</td>\n",
       "      <td>No</td>\n",
       "      <td>DSL</td>\n",
       "      <td>Yes</td>\n",
       "      <td>...</td>\n",
       "      <td>No</td>\n",
       "      <td>No</td>\n",
       "      <td>No</td>\n",
       "      <td>No</td>\n",
       "      <td>Month-to-month</td>\n",
       "      <td>Yes</td>\n",
       "      <td>Mailed check</td>\n",
       "      <td>53.85</td>\n",
       "      <td>108.15</td>\n",
       "      <td>Yes</td>\n",
       "    </tr>\n",
       "    <tr>\n",
       "      <th>3</th>\n",
       "      <td>7795-CFOCW</td>\n",
       "      <td>Male</td>\n",
       "      <td>0</td>\n",
       "      <td>No</td>\n",
       "      <td>No</td>\n",
       "      <td>45</td>\n",
       "      <td>No</td>\n",
       "      <td>No phone service</td>\n",
       "      <td>DSL</td>\n",
       "      <td>Yes</td>\n",
       "      <td>...</td>\n",
       "      <td>Yes</td>\n",
       "      <td>Yes</td>\n",
       "      <td>No</td>\n",
       "      <td>No</td>\n",
       "      <td>One year</td>\n",
       "      <td>No</td>\n",
       "      <td>Bank transfer (automatic)</td>\n",
       "      <td>42.30</td>\n",
       "      <td>1840.75</td>\n",
       "      <td>No</td>\n",
       "    </tr>\n",
       "    <tr>\n",
       "      <th>4</th>\n",
       "      <td>9237-HQITU</td>\n",
       "      <td>Female</td>\n",
       "      <td>0</td>\n",
       "      <td>No</td>\n",
       "      <td>No</td>\n",
       "      <td>2</td>\n",
       "      <td>Yes</td>\n",
       "      <td>No</td>\n",
       "      <td>Fiber optic</td>\n",
       "      <td>No</td>\n",
       "      <td>...</td>\n",
       "      <td>No</td>\n",
       "      <td>No</td>\n",
       "      <td>No</td>\n",
       "      <td>No</td>\n",
       "      <td>Month-to-month</td>\n",
       "      <td>Yes</td>\n",
       "      <td>Electronic check</td>\n",
       "      <td>70.70</td>\n",
       "      <td>151.65</td>\n",
       "      <td>Yes</td>\n",
       "    </tr>\n",
       "    <tr>\n",
       "      <th>...</th>\n",
       "      <td>...</td>\n",
       "      <td>...</td>\n",
       "      <td>...</td>\n",
       "      <td>...</td>\n",
       "      <td>...</td>\n",
       "      <td>...</td>\n",
       "      <td>...</td>\n",
       "      <td>...</td>\n",
       "      <td>...</td>\n",
       "      <td>...</td>\n",
       "      <td>...</td>\n",
       "      <td>...</td>\n",
       "      <td>...</td>\n",
       "      <td>...</td>\n",
       "      <td>...</td>\n",
       "      <td>...</td>\n",
       "      <td>...</td>\n",
       "      <td>...</td>\n",
       "      <td>...</td>\n",
       "      <td>...</td>\n",
       "      <td>...</td>\n",
       "    </tr>\n",
       "    <tr>\n",
       "      <th>7038</th>\n",
       "      <td>6840-RESVB</td>\n",
       "      <td>Male</td>\n",
       "      <td>0</td>\n",
       "      <td>Yes</td>\n",
       "      <td>Yes</td>\n",
       "      <td>24</td>\n",
       "      <td>Yes</td>\n",
       "      <td>Yes</td>\n",
       "      <td>DSL</td>\n",
       "      <td>Yes</td>\n",
       "      <td>...</td>\n",
       "      <td>Yes</td>\n",
       "      <td>Yes</td>\n",
       "      <td>Yes</td>\n",
       "      <td>Yes</td>\n",
       "      <td>One year</td>\n",
       "      <td>Yes</td>\n",
       "      <td>Mailed check</td>\n",
       "      <td>84.80</td>\n",
       "      <td>1990.50</td>\n",
       "      <td>No</td>\n",
       "    </tr>\n",
       "    <tr>\n",
       "      <th>7039</th>\n",
       "      <td>2234-XADUH</td>\n",
       "      <td>Female</td>\n",
       "      <td>0</td>\n",
       "      <td>Yes</td>\n",
       "      <td>Yes</td>\n",
       "      <td>72</td>\n",
       "      <td>Yes</td>\n",
       "      <td>Yes</td>\n",
       "      <td>Fiber optic</td>\n",
       "      <td>No</td>\n",
       "      <td>...</td>\n",
       "      <td>Yes</td>\n",
       "      <td>No</td>\n",
       "      <td>Yes</td>\n",
       "      <td>Yes</td>\n",
       "      <td>One year</td>\n",
       "      <td>Yes</td>\n",
       "      <td>Credit card (automatic)</td>\n",
       "      <td>103.20</td>\n",
       "      <td>7362.90</td>\n",
       "      <td>No</td>\n",
       "    </tr>\n",
       "    <tr>\n",
       "      <th>7040</th>\n",
       "      <td>4801-JZAZL</td>\n",
       "      <td>Female</td>\n",
       "      <td>0</td>\n",
       "      <td>Yes</td>\n",
       "      <td>Yes</td>\n",
       "      <td>11</td>\n",
       "      <td>No</td>\n",
       "      <td>No phone service</td>\n",
       "      <td>DSL</td>\n",
       "      <td>Yes</td>\n",
       "      <td>...</td>\n",
       "      <td>No</td>\n",
       "      <td>No</td>\n",
       "      <td>No</td>\n",
       "      <td>No</td>\n",
       "      <td>Month-to-month</td>\n",
       "      <td>Yes</td>\n",
       "      <td>Electronic check</td>\n",
       "      <td>29.60</td>\n",
       "      <td>346.45</td>\n",
       "      <td>No</td>\n",
       "    </tr>\n",
       "    <tr>\n",
       "      <th>7041</th>\n",
       "      <td>8361-LTMKD</td>\n",
       "      <td>Male</td>\n",
       "      <td>1</td>\n",
       "      <td>Yes</td>\n",
       "      <td>No</td>\n",
       "      <td>4</td>\n",
       "      <td>Yes</td>\n",
       "      <td>Yes</td>\n",
       "      <td>Fiber optic</td>\n",
       "      <td>No</td>\n",
       "      <td>...</td>\n",
       "      <td>No</td>\n",
       "      <td>No</td>\n",
       "      <td>No</td>\n",
       "      <td>No</td>\n",
       "      <td>Month-to-month</td>\n",
       "      <td>Yes</td>\n",
       "      <td>Mailed check</td>\n",
       "      <td>74.40</td>\n",
       "      <td>306.60</td>\n",
       "      <td>Yes</td>\n",
       "    </tr>\n",
       "    <tr>\n",
       "      <th>7042</th>\n",
       "      <td>3186-AJIEK</td>\n",
       "      <td>Male</td>\n",
       "      <td>0</td>\n",
       "      <td>No</td>\n",
       "      <td>No</td>\n",
       "      <td>66</td>\n",
       "      <td>Yes</td>\n",
       "      <td>No</td>\n",
       "      <td>Fiber optic</td>\n",
       "      <td>Yes</td>\n",
       "      <td>...</td>\n",
       "      <td>Yes</td>\n",
       "      <td>Yes</td>\n",
       "      <td>Yes</td>\n",
       "      <td>Yes</td>\n",
       "      <td>Two year</td>\n",
       "      <td>Yes</td>\n",
       "      <td>Bank transfer (automatic)</td>\n",
       "      <td>105.65</td>\n",
       "      <td>6844.50</td>\n",
       "      <td>No</td>\n",
       "    </tr>\n",
       "  </tbody>\n",
       "</table>\n",
       "<p>7043 rows × 21 columns</p>\n",
       "</div>"
      ],
      "text/plain": [
       "      customerID  gender  SeniorCitizen Partner Dependents  tenure  \\\n",
       "0     7590-VHVEG  Female              0     Yes         No       1   \n",
       "1     5575-GNVDE    Male              0      No         No      34   \n",
       "2     3668-QPYBK    Male              0      No         No       2   \n",
       "3     7795-CFOCW    Male              0      No         No      45   \n",
       "4     9237-HQITU  Female              0      No         No       2   \n",
       "...          ...     ...            ...     ...        ...     ...   \n",
       "7038  6840-RESVB    Male              0     Yes        Yes      24   \n",
       "7039  2234-XADUH  Female              0     Yes        Yes      72   \n",
       "7040  4801-JZAZL  Female              0     Yes        Yes      11   \n",
       "7041  8361-LTMKD    Male              1     Yes         No       4   \n",
       "7042  3186-AJIEK    Male              0      No         No      66   \n",
       "\n",
       "     PhoneService     MultipleLines InternetService OnlineSecurity  ...  \\\n",
       "0              No  No phone service             DSL             No  ...   \n",
       "1             Yes                No             DSL            Yes  ...   \n",
       "2             Yes                No             DSL            Yes  ...   \n",
       "3              No  No phone service             DSL            Yes  ...   \n",
       "4             Yes                No     Fiber optic             No  ...   \n",
       "...           ...               ...             ...            ...  ...   \n",
       "7038          Yes               Yes             DSL            Yes  ...   \n",
       "7039          Yes               Yes     Fiber optic             No  ...   \n",
       "7040           No  No phone service             DSL            Yes  ...   \n",
       "7041          Yes               Yes     Fiber optic             No  ...   \n",
       "7042          Yes                No     Fiber optic            Yes  ...   \n",
       "\n",
       "     DeviceProtection TechSupport StreamingTV StreamingMovies        Contract  \\\n",
       "0                  No          No          No              No  Month-to-month   \n",
       "1                 Yes          No          No              No        One year   \n",
       "2                  No          No          No              No  Month-to-month   \n",
       "3                 Yes         Yes          No              No        One year   \n",
       "4                  No          No          No              No  Month-to-month   \n",
       "...               ...         ...         ...             ...             ...   \n",
       "7038              Yes         Yes         Yes             Yes        One year   \n",
       "7039              Yes          No         Yes             Yes        One year   \n",
       "7040               No          No          No              No  Month-to-month   \n",
       "7041               No          No          No              No  Month-to-month   \n",
       "7042              Yes         Yes         Yes             Yes        Two year   \n",
       "\n",
       "     PaperlessBilling              PaymentMethod MonthlyCharges  TotalCharges  \\\n",
       "0                 Yes           Electronic check          29.85         29.85   \n",
       "1                  No               Mailed check          56.95       1889.50   \n",
       "2                 Yes               Mailed check          53.85        108.15   \n",
       "3                  No  Bank transfer (automatic)          42.30       1840.75   \n",
       "4                 Yes           Electronic check          70.70        151.65   \n",
       "...               ...                        ...            ...           ...   \n",
       "7038              Yes               Mailed check          84.80       1990.50   \n",
       "7039              Yes    Credit card (automatic)         103.20       7362.90   \n",
       "7040              Yes           Electronic check          29.60        346.45   \n",
       "7041              Yes               Mailed check          74.40        306.60   \n",
       "7042              Yes  Bank transfer (automatic)         105.65       6844.50   \n",
       "\n",
       "      Churn  \n",
       "0        No  \n",
       "1        No  \n",
       "2       Yes  \n",
       "3        No  \n",
       "4       Yes  \n",
       "...     ...  \n",
       "7038     No  \n",
       "7039     No  \n",
       "7040     No  \n",
       "7041    Yes  \n",
       "7042     No  \n",
       "\n",
       "[7043 rows x 21 columns]"
      ]
     },
     "execution_count": 28,
     "metadata": {},
     "output_type": "execute_result"
    }
   ],
   "source": [
    "churn"
   ]
  },
  {
   "cell_type": "code",
   "execution_count": 29,
   "metadata": {},
   "outputs": [],
   "source": [
    "churn.drop(columns=[\"customerID\"],inplace=True)\n",
    "\n",
    "# Dropping the Customer ID as it is not relevent for the Model Training"
   ]
  },
  {
   "cell_type": "code",
   "execution_count": 30,
   "metadata": {},
   "outputs": [
    {
     "data": {
      "text/html": [
       "<div>\n",
       "<style scoped>\n",
       "    .dataframe tbody tr th:only-of-type {\n",
       "        vertical-align: middle;\n",
       "    }\n",
       "\n",
       "    .dataframe tbody tr th {\n",
       "        vertical-align: top;\n",
       "    }\n",
       "\n",
       "    .dataframe thead th {\n",
       "        text-align: right;\n",
       "    }\n",
       "</style>\n",
       "<table border=\"1\" class=\"dataframe\">\n",
       "  <thead>\n",
       "    <tr style=\"text-align: right;\">\n",
       "      <th></th>\n",
       "      <th>gender</th>\n",
       "      <th>SeniorCitizen</th>\n",
       "      <th>Partner</th>\n",
       "      <th>Dependents</th>\n",
       "      <th>tenure</th>\n",
       "      <th>PhoneService</th>\n",
       "      <th>MultipleLines</th>\n",
       "      <th>InternetService</th>\n",
       "      <th>OnlineSecurity</th>\n",
       "      <th>OnlineBackup</th>\n",
       "      <th>DeviceProtection</th>\n",
       "      <th>TechSupport</th>\n",
       "      <th>StreamingTV</th>\n",
       "      <th>StreamingMovies</th>\n",
       "      <th>Contract</th>\n",
       "      <th>PaperlessBilling</th>\n",
       "      <th>PaymentMethod</th>\n",
       "      <th>MonthlyCharges</th>\n",
       "      <th>TotalCharges</th>\n",
       "      <th>Churn</th>\n",
       "    </tr>\n",
       "  </thead>\n",
       "  <tbody>\n",
       "    <tr>\n",
       "      <th>0</th>\n",
       "      <td>Female</td>\n",
       "      <td>0</td>\n",
       "      <td>Yes</td>\n",
       "      <td>No</td>\n",
       "      <td>1</td>\n",
       "      <td>No</td>\n",
       "      <td>No phone service</td>\n",
       "      <td>DSL</td>\n",
       "      <td>No</td>\n",
       "      <td>Yes</td>\n",
       "      <td>No</td>\n",
       "      <td>No</td>\n",
       "      <td>No</td>\n",
       "      <td>No</td>\n",
       "      <td>Month-to-month</td>\n",
       "      <td>Yes</td>\n",
       "      <td>Electronic check</td>\n",
       "      <td>29.85</td>\n",
       "      <td>29.85</td>\n",
       "      <td>No</td>\n",
       "    </tr>\n",
       "    <tr>\n",
       "      <th>1</th>\n",
       "      <td>Male</td>\n",
       "      <td>0</td>\n",
       "      <td>No</td>\n",
       "      <td>No</td>\n",
       "      <td>34</td>\n",
       "      <td>Yes</td>\n",
       "      <td>No</td>\n",
       "      <td>DSL</td>\n",
       "      <td>Yes</td>\n",
       "      <td>No</td>\n",
       "      <td>Yes</td>\n",
       "      <td>No</td>\n",
       "      <td>No</td>\n",
       "      <td>No</td>\n",
       "      <td>One year</td>\n",
       "      <td>No</td>\n",
       "      <td>Mailed check</td>\n",
       "      <td>56.95</td>\n",
       "      <td>1889.50</td>\n",
       "      <td>No</td>\n",
       "    </tr>\n",
       "    <tr>\n",
       "      <th>2</th>\n",
       "      <td>Male</td>\n",
       "      <td>0</td>\n",
       "      <td>No</td>\n",
       "      <td>No</td>\n",
       "      <td>2</td>\n",
       "      <td>Yes</td>\n",
       "      <td>No</td>\n",
       "      <td>DSL</td>\n",
       "      <td>Yes</td>\n",
       "      <td>Yes</td>\n",
       "      <td>No</td>\n",
       "      <td>No</td>\n",
       "      <td>No</td>\n",
       "      <td>No</td>\n",
       "      <td>Month-to-month</td>\n",
       "      <td>Yes</td>\n",
       "      <td>Mailed check</td>\n",
       "      <td>53.85</td>\n",
       "      <td>108.15</td>\n",
       "      <td>Yes</td>\n",
       "    </tr>\n",
       "    <tr>\n",
       "      <th>3</th>\n",
       "      <td>Male</td>\n",
       "      <td>0</td>\n",
       "      <td>No</td>\n",
       "      <td>No</td>\n",
       "      <td>45</td>\n",
       "      <td>No</td>\n",
       "      <td>No phone service</td>\n",
       "      <td>DSL</td>\n",
       "      <td>Yes</td>\n",
       "      <td>No</td>\n",
       "      <td>Yes</td>\n",
       "      <td>Yes</td>\n",
       "      <td>No</td>\n",
       "      <td>No</td>\n",
       "      <td>One year</td>\n",
       "      <td>No</td>\n",
       "      <td>Bank transfer (automatic)</td>\n",
       "      <td>42.30</td>\n",
       "      <td>1840.75</td>\n",
       "      <td>No</td>\n",
       "    </tr>\n",
       "    <tr>\n",
       "      <th>4</th>\n",
       "      <td>Female</td>\n",
       "      <td>0</td>\n",
       "      <td>No</td>\n",
       "      <td>No</td>\n",
       "      <td>2</td>\n",
       "      <td>Yes</td>\n",
       "      <td>No</td>\n",
       "      <td>Fiber optic</td>\n",
       "      <td>No</td>\n",
       "      <td>No</td>\n",
       "      <td>No</td>\n",
       "      <td>No</td>\n",
       "      <td>No</td>\n",
       "      <td>No</td>\n",
       "      <td>Month-to-month</td>\n",
       "      <td>Yes</td>\n",
       "      <td>Electronic check</td>\n",
       "      <td>70.70</td>\n",
       "      <td>151.65</td>\n",
       "      <td>Yes</td>\n",
       "    </tr>\n",
       "    <tr>\n",
       "      <th>...</th>\n",
       "      <td>...</td>\n",
       "      <td>...</td>\n",
       "      <td>...</td>\n",
       "      <td>...</td>\n",
       "      <td>...</td>\n",
       "      <td>...</td>\n",
       "      <td>...</td>\n",
       "      <td>...</td>\n",
       "      <td>...</td>\n",
       "      <td>...</td>\n",
       "      <td>...</td>\n",
       "      <td>...</td>\n",
       "      <td>...</td>\n",
       "      <td>...</td>\n",
       "      <td>...</td>\n",
       "      <td>...</td>\n",
       "      <td>...</td>\n",
       "      <td>...</td>\n",
       "      <td>...</td>\n",
       "      <td>...</td>\n",
       "    </tr>\n",
       "    <tr>\n",
       "      <th>7038</th>\n",
       "      <td>Male</td>\n",
       "      <td>0</td>\n",
       "      <td>Yes</td>\n",
       "      <td>Yes</td>\n",
       "      <td>24</td>\n",
       "      <td>Yes</td>\n",
       "      <td>Yes</td>\n",
       "      <td>DSL</td>\n",
       "      <td>Yes</td>\n",
       "      <td>No</td>\n",
       "      <td>Yes</td>\n",
       "      <td>Yes</td>\n",
       "      <td>Yes</td>\n",
       "      <td>Yes</td>\n",
       "      <td>One year</td>\n",
       "      <td>Yes</td>\n",
       "      <td>Mailed check</td>\n",
       "      <td>84.80</td>\n",
       "      <td>1990.50</td>\n",
       "      <td>No</td>\n",
       "    </tr>\n",
       "    <tr>\n",
       "      <th>7039</th>\n",
       "      <td>Female</td>\n",
       "      <td>0</td>\n",
       "      <td>Yes</td>\n",
       "      <td>Yes</td>\n",
       "      <td>72</td>\n",
       "      <td>Yes</td>\n",
       "      <td>Yes</td>\n",
       "      <td>Fiber optic</td>\n",
       "      <td>No</td>\n",
       "      <td>Yes</td>\n",
       "      <td>Yes</td>\n",
       "      <td>No</td>\n",
       "      <td>Yes</td>\n",
       "      <td>Yes</td>\n",
       "      <td>One year</td>\n",
       "      <td>Yes</td>\n",
       "      <td>Credit card (automatic)</td>\n",
       "      <td>103.20</td>\n",
       "      <td>7362.90</td>\n",
       "      <td>No</td>\n",
       "    </tr>\n",
       "    <tr>\n",
       "      <th>7040</th>\n",
       "      <td>Female</td>\n",
       "      <td>0</td>\n",
       "      <td>Yes</td>\n",
       "      <td>Yes</td>\n",
       "      <td>11</td>\n",
       "      <td>No</td>\n",
       "      <td>No phone service</td>\n",
       "      <td>DSL</td>\n",
       "      <td>Yes</td>\n",
       "      <td>No</td>\n",
       "      <td>No</td>\n",
       "      <td>No</td>\n",
       "      <td>No</td>\n",
       "      <td>No</td>\n",
       "      <td>Month-to-month</td>\n",
       "      <td>Yes</td>\n",
       "      <td>Electronic check</td>\n",
       "      <td>29.60</td>\n",
       "      <td>346.45</td>\n",
       "      <td>No</td>\n",
       "    </tr>\n",
       "    <tr>\n",
       "      <th>7041</th>\n",
       "      <td>Male</td>\n",
       "      <td>1</td>\n",
       "      <td>Yes</td>\n",
       "      <td>No</td>\n",
       "      <td>4</td>\n",
       "      <td>Yes</td>\n",
       "      <td>Yes</td>\n",
       "      <td>Fiber optic</td>\n",
       "      <td>No</td>\n",
       "      <td>No</td>\n",
       "      <td>No</td>\n",
       "      <td>No</td>\n",
       "      <td>No</td>\n",
       "      <td>No</td>\n",
       "      <td>Month-to-month</td>\n",
       "      <td>Yes</td>\n",
       "      <td>Mailed check</td>\n",
       "      <td>74.40</td>\n",
       "      <td>306.60</td>\n",
       "      <td>Yes</td>\n",
       "    </tr>\n",
       "    <tr>\n",
       "      <th>7042</th>\n",
       "      <td>Male</td>\n",
       "      <td>0</td>\n",
       "      <td>No</td>\n",
       "      <td>No</td>\n",
       "      <td>66</td>\n",
       "      <td>Yes</td>\n",
       "      <td>No</td>\n",
       "      <td>Fiber optic</td>\n",
       "      <td>Yes</td>\n",
       "      <td>No</td>\n",
       "      <td>Yes</td>\n",
       "      <td>Yes</td>\n",
       "      <td>Yes</td>\n",
       "      <td>Yes</td>\n",
       "      <td>Two year</td>\n",
       "      <td>Yes</td>\n",
       "      <td>Bank transfer (automatic)</td>\n",
       "      <td>105.65</td>\n",
       "      <td>6844.50</td>\n",
       "      <td>No</td>\n",
       "    </tr>\n",
       "  </tbody>\n",
       "</table>\n",
       "<p>7043 rows × 20 columns</p>\n",
       "</div>"
      ],
      "text/plain": [
       "      gender  SeniorCitizen Partner Dependents  tenure PhoneService  \\\n",
       "0     Female              0     Yes         No       1           No   \n",
       "1       Male              0      No         No      34          Yes   \n",
       "2       Male              0      No         No       2          Yes   \n",
       "3       Male              0      No         No      45           No   \n",
       "4     Female              0      No         No       2          Yes   \n",
       "...      ...            ...     ...        ...     ...          ...   \n",
       "7038    Male              0     Yes        Yes      24          Yes   \n",
       "7039  Female              0     Yes        Yes      72          Yes   \n",
       "7040  Female              0     Yes        Yes      11           No   \n",
       "7041    Male              1     Yes         No       4          Yes   \n",
       "7042    Male              0      No         No      66          Yes   \n",
       "\n",
       "         MultipleLines InternetService OnlineSecurity OnlineBackup  \\\n",
       "0     No phone service             DSL             No          Yes   \n",
       "1                   No             DSL            Yes           No   \n",
       "2                   No             DSL            Yes          Yes   \n",
       "3     No phone service             DSL            Yes           No   \n",
       "4                   No     Fiber optic             No           No   \n",
       "...                ...             ...            ...          ...   \n",
       "7038               Yes             DSL            Yes           No   \n",
       "7039               Yes     Fiber optic             No          Yes   \n",
       "7040  No phone service             DSL            Yes           No   \n",
       "7041               Yes     Fiber optic             No           No   \n",
       "7042                No     Fiber optic            Yes           No   \n",
       "\n",
       "     DeviceProtection TechSupport StreamingTV StreamingMovies        Contract  \\\n",
       "0                  No          No          No              No  Month-to-month   \n",
       "1                 Yes          No          No              No        One year   \n",
       "2                  No          No          No              No  Month-to-month   \n",
       "3                 Yes         Yes          No              No        One year   \n",
       "4                  No          No          No              No  Month-to-month   \n",
       "...               ...         ...         ...             ...             ...   \n",
       "7038              Yes         Yes         Yes             Yes        One year   \n",
       "7039              Yes          No         Yes             Yes        One year   \n",
       "7040               No          No          No              No  Month-to-month   \n",
       "7041               No          No          No              No  Month-to-month   \n",
       "7042              Yes         Yes         Yes             Yes        Two year   \n",
       "\n",
       "     PaperlessBilling              PaymentMethod  MonthlyCharges  \\\n",
       "0                 Yes           Electronic check           29.85   \n",
       "1                  No               Mailed check           56.95   \n",
       "2                 Yes               Mailed check           53.85   \n",
       "3                  No  Bank transfer (automatic)           42.30   \n",
       "4                 Yes           Electronic check           70.70   \n",
       "...               ...                        ...             ...   \n",
       "7038              Yes               Mailed check           84.80   \n",
       "7039              Yes    Credit card (automatic)          103.20   \n",
       "7040              Yes           Electronic check           29.60   \n",
       "7041              Yes               Mailed check           74.40   \n",
       "7042              Yes  Bank transfer (automatic)          105.65   \n",
       "\n",
       "      TotalCharges Churn  \n",
       "0            29.85    No  \n",
       "1          1889.50    No  \n",
       "2           108.15   Yes  \n",
       "3          1840.75    No  \n",
       "4           151.65   Yes  \n",
       "...            ...   ...  \n",
       "7038       1990.50    No  \n",
       "7039       7362.90    No  \n",
       "7040        346.45    No  \n",
       "7041        306.60   Yes  \n",
       "7042       6844.50    No  \n",
       "\n",
       "[7043 rows x 20 columns]"
      ]
     },
     "execution_count": 30,
     "metadata": {},
     "output_type": "execute_result"
    }
   ],
   "source": [
    "churn"
   ]
  },
  {
   "cell_type": "code",
   "execution_count": 31,
   "metadata": {},
   "outputs": [],
   "source": [
    "from sklearn.preprocessing import LabelEncoder\n",
    "\n",
    "# Importing the Label Encoder from Sklearn Library"
   ]
  },
  {
   "cell_type": "code",
   "execution_count": 32,
   "metadata": {},
   "outputs": [],
   "source": [
    "le=LabelEncoder()"
   ]
  },
  {
   "cell_type": "code",
   "execution_count": 33,
   "metadata": {},
   "outputs": [],
   "source": [
    "for i in churn.columns:\n",
    "    if churn[i].dtypes==\"object\":\n",
    "        churn[i]=le.fit_transform(churn[i].values.reshape(-1,1))\n",
    "        \n",
    "# Running a for loop to give numeric values to strings using the Label Encoder in churn dataset"
   ]
  },
  {
   "cell_type": "code",
   "execution_count": 34,
   "metadata": {},
   "outputs": [
    {
     "data": {
      "text/html": [
       "<div>\n",
       "<style scoped>\n",
       "    .dataframe tbody tr th:only-of-type {\n",
       "        vertical-align: middle;\n",
       "    }\n",
       "\n",
       "    .dataframe tbody tr th {\n",
       "        vertical-align: top;\n",
       "    }\n",
       "\n",
       "    .dataframe thead th {\n",
       "        text-align: right;\n",
       "    }\n",
       "</style>\n",
       "<table border=\"1\" class=\"dataframe\">\n",
       "  <thead>\n",
       "    <tr style=\"text-align: right;\">\n",
       "      <th></th>\n",
       "      <th>gender</th>\n",
       "      <th>SeniorCitizen</th>\n",
       "      <th>Partner</th>\n",
       "      <th>Dependents</th>\n",
       "      <th>tenure</th>\n",
       "      <th>PhoneService</th>\n",
       "      <th>MultipleLines</th>\n",
       "      <th>InternetService</th>\n",
       "      <th>OnlineSecurity</th>\n",
       "      <th>OnlineBackup</th>\n",
       "      <th>DeviceProtection</th>\n",
       "      <th>TechSupport</th>\n",
       "      <th>StreamingTV</th>\n",
       "      <th>StreamingMovies</th>\n",
       "      <th>Contract</th>\n",
       "      <th>PaperlessBilling</th>\n",
       "      <th>PaymentMethod</th>\n",
       "      <th>MonthlyCharges</th>\n",
       "      <th>TotalCharges</th>\n",
       "      <th>Churn</th>\n",
       "    </tr>\n",
       "  </thead>\n",
       "  <tbody>\n",
       "    <tr>\n",
       "      <th>0</th>\n",
       "      <td>0</td>\n",
       "      <td>0</td>\n",
       "      <td>1</td>\n",
       "      <td>0</td>\n",
       "      <td>1</td>\n",
       "      <td>0</td>\n",
       "      <td>1</td>\n",
       "      <td>0</td>\n",
       "      <td>0</td>\n",
       "      <td>2</td>\n",
       "      <td>0</td>\n",
       "      <td>0</td>\n",
       "      <td>0</td>\n",
       "      <td>0</td>\n",
       "      <td>0</td>\n",
       "      <td>1</td>\n",
       "      <td>2</td>\n",
       "      <td>29.85</td>\n",
       "      <td>29.85</td>\n",
       "      <td>0</td>\n",
       "    </tr>\n",
       "    <tr>\n",
       "      <th>1</th>\n",
       "      <td>1</td>\n",
       "      <td>0</td>\n",
       "      <td>0</td>\n",
       "      <td>0</td>\n",
       "      <td>34</td>\n",
       "      <td>1</td>\n",
       "      <td>0</td>\n",
       "      <td>0</td>\n",
       "      <td>2</td>\n",
       "      <td>0</td>\n",
       "      <td>2</td>\n",
       "      <td>0</td>\n",
       "      <td>0</td>\n",
       "      <td>0</td>\n",
       "      <td>1</td>\n",
       "      <td>0</td>\n",
       "      <td>3</td>\n",
       "      <td>56.95</td>\n",
       "      <td>1889.50</td>\n",
       "      <td>0</td>\n",
       "    </tr>\n",
       "    <tr>\n",
       "      <th>2</th>\n",
       "      <td>1</td>\n",
       "      <td>0</td>\n",
       "      <td>0</td>\n",
       "      <td>0</td>\n",
       "      <td>2</td>\n",
       "      <td>1</td>\n",
       "      <td>0</td>\n",
       "      <td>0</td>\n",
       "      <td>2</td>\n",
       "      <td>2</td>\n",
       "      <td>0</td>\n",
       "      <td>0</td>\n",
       "      <td>0</td>\n",
       "      <td>0</td>\n",
       "      <td>0</td>\n",
       "      <td>1</td>\n",
       "      <td>3</td>\n",
       "      <td>53.85</td>\n",
       "      <td>108.15</td>\n",
       "      <td>1</td>\n",
       "    </tr>\n",
       "    <tr>\n",
       "      <th>3</th>\n",
       "      <td>1</td>\n",
       "      <td>0</td>\n",
       "      <td>0</td>\n",
       "      <td>0</td>\n",
       "      <td>45</td>\n",
       "      <td>0</td>\n",
       "      <td>1</td>\n",
       "      <td>0</td>\n",
       "      <td>2</td>\n",
       "      <td>0</td>\n",
       "      <td>2</td>\n",
       "      <td>2</td>\n",
       "      <td>0</td>\n",
       "      <td>0</td>\n",
       "      <td>1</td>\n",
       "      <td>0</td>\n",
       "      <td>0</td>\n",
       "      <td>42.30</td>\n",
       "      <td>1840.75</td>\n",
       "      <td>0</td>\n",
       "    </tr>\n",
       "    <tr>\n",
       "      <th>4</th>\n",
       "      <td>0</td>\n",
       "      <td>0</td>\n",
       "      <td>0</td>\n",
       "      <td>0</td>\n",
       "      <td>2</td>\n",
       "      <td>1</td>\n",
       "      <td>0</td>\n",
       "      <td>1</td>\n",
       "      <td>0</td>\n",
       "      <td>0</td>\n",
       "      <td>0</td>\n",
       "      <td>0</td>\n",
       "      <td>0</td>\n",
       "      <td>0</td>\n",
       "      <td>0</td>\n",
       "      <td>1</td>\n",
       "      <td>2</td>\n",
       "      <td>70.70</td>\n",
       "      <td>151.65</td>\n",
       "      <td>1</td>\n",
       "    </tr>\n",
       "    <tr>\n",
       "      <th>...</th>\n",
       "      <td>...</td>\n",
       "      <td>...</td>\n",
       "      <td>...</td>\n",
       "      <td>...</td>\n",
       "      <td>...</td>\n",
       "      <td>...</td>\n",
       "      <td>...</td>\n",
       "      <td>...</td>\n",
       "      <td>...</td>\n",
       "      <td>...</td>\n",
       "      <td>...</td>\n",
       "      <td>...</td>\n",
       "      <td>...</td>\n",
       "      <td>...</td>\n",
       "      <td>...</td>\n",
       "      <td>...</td>\n",
       "      <td>...</td>\n",
       "      <td>...</td>\n",
       "      <td>...</td>\n",
       "      <td>...</td>\n",
       "    </tr>\n",
       "    <tr>\n",
       "      <th>7038</th>\n",
       "      <td>1</td>\n",
       "      <td>0</td>\n",
       "      <td>1</td>\n",
       "      <td>1</td>\n",
       "      <td>24</td>\n",
       "      <td>1</td>\n",
       "      <td>2</td>\n",
       "      <td>0</td>\n",
       "      <td>2</td>\n",
       "      <td>0</td>\n",
       "      <td>2</td>\n",
       "      <td>2</td>\n",
       "      <td>2</td>\n",
       "      <td>2</td>\n",
       "      <td>1</td>\n",
       "      <td>1</td>\n",
       "      <td>3</td>\n",
       "      <td>84.80</td>\n",
       "      <td>1990.50</td>\n",
       "      <td>0</td>\n",
       "    </tr>\n",
       "    <tr>\n",
       "      <th>7039</th>\n",
       "      <td>0</td>\n",
       "      <td>0</td>\n",
       "      <td>1</td>\n",
       "      <td>1</td>\n",
       "      <td>72</td>\n",
       "      <td>1</td>\n",
       "      <td>2</td>\n",
       "      <td>1</td>\n",
       "      <td>0</td>\n",
       "      <td>2</td>\n",
       "      <td>2</td>\n",
       "      <td>0</td>\n",
       "      <td>2</td>\n",
       "      <td>2</td>\n",
       "      <td>1</td>\n",
       "      <td>1</td>\n",
       "      <td>1</td>\n",
       "      <td>103.20</td>\n",
       "      <td>7362.90</td>\n",
       "      <td>0</td>\n",
       "    </tr>\n",
       "    <tr>\n",
       "      <th>7040</th>\n",
       "      <td>0</td>\n",
       "      <td>0</td>\n",
       "      <td>1</td>\n",
       "      <td>1</td>\n",
       "      <td>11</td>\n",
       "      <td>0</td>\n",
       "      <td>1</td>\n",
       "      <td>0</td>\n",
       "      <td>2</td>\n",
       "      <td>0</td>\n",
       "      <td>0</td>\n",
       "      <td>0</td>\n",
       "      <td>0</td>\n",
       "      <td>0</td>\n",
       "      <td>0</td>\n",
       "      <td>1</td>\n",
       "      <td>2</td>\n",
       "      <td>29.60</td>\n",
       "      <td>346.45</td>\n",
       "      <td>0</td>\n",
       "    </tr>\n",
       "    <tr>\n",
       "      <th>7041</th>\n",
       "      <td>1</td>\n",
       "      <td>1</td>\n",
       "      <td>1</td>\n",
       "      <td>0</td>\n",
       "      <td>4</td>\n",
       "      <td>1</td>\n",
       "      <td>2</td>\n",
       "      <td>1</td>\n",
       "      <td>0</td>\n",
       "      <td>0</td>\n",
       "      <td>0</td>\n",
       "      <td>0</td>\n",
       "      <td>0</td>\n",
       "      <td>0</td>\n",
       "      <td>0</td>\n",
       "      <td>1</td>\n",
       "      <td>3</td>\n",
       "      <td>74.40</td>\n",
       "      <td>306.60</td>\n",
       "      <td>1</td>\n",
       "    </tr>\n",
       "    <tr>\n",
       "      <th>7042</th>\n",
       "      <td>1</td>\n",
       "      <td>0</td>\n",
       "      <td>0</td>\n",
       "      <td>0</td>\n",
       "      <td>66</td>\n",
       "      <td>1</td>\n",
       "      <td>0</td>\n",
       "      <td>1</td>\n",
       "      <td>2</td>\n",
       "      <td>0</td>\n",
       "      <td>2</td>\n",
       "      <td>2</td>\n",
       "      <td>2</td>\n",
       "      <td>2</td>\n",
       "      <td>2</td>\n",
       "      <td>1</td>\n",
       "      <td>0</td>\n",
       "      <td>105.65</td>\n",
       "      <td>6844.50</td>\n",
       "      <td>0</td>\n",
       "    </tr>\n",
       "  </tbody>\n",
       "</table>\n",
       "<p>7043 rows × 20 columns</p>\n",
       "</div>"
      ],
      "text/plain": [
       "      gender  SeniorCitizen  Partner  Dependents  tenure  PhoneService  \\\n",
       "0          0              0        1           0       1             0   \n",
       "1          1              0        0           0      34             1   \n",
       "2          1              0        0           0       2             1   \n",
       "3          1              0        0           0      45             0   \n",
       "4          0              0        0           0       2             1   \n",
       "...      ...            ...      ...         ...     ...           ...   \n",
       "7038       1              0        1           1      24             1   \n",
       "7039       0              0        1           1      72             1   \n",
       "7040       0              0        1           1      11             0   \n",
       "7041       1              1        1           0       4             1   \n",
       "7042       1              0        0           0      66             1   \n",
       "\n",
       "      MultipleLines  InternetService  OnlineSecurity  OnlineBackup  \\\n",
       "0                 1                0               0             2   \n",
       "1                 0                0               2             0   \n",
       "2                 0                0               2             2   \n",
       "3                 1                0               2             0   \n",
       "4                 0                1               0             0   \n",
       "...             ...              ...             ...           ...   \n",
       "7038              2                0               2             0   \n",
       "7039              2                1               0             2   \n",
       "7040              1                0               2             0   \n",
       "7041              2                1               0             0   \n",
       "7042              0                1               2             0   \n",
       "\n",
       "      DeviceProtection  TechSupport  StreamingTV  StreamingMovies  Contract  \\\n",
       "0                    0            0            0                0         0   \n",
       "1                    2            0            0                0         1   \n",
       "2                    0            0            0                0         0   \n",
       "3                    2            2            0                0         1   \n",
       "4                    0            0            0                0         0   \n",
       "...                ...          ...          ...              ...       ...   \n",
       "7038                 2            2            2                2         1   \n",
       "7039                 2            0            2                2         1   \n",
       "7040                 0            0            0                0         0   \n",
       "7041                 0            0            0                0         0   \n",
       "7042                 2            2            2                2         2   \n",
       "\n",
       "      PaperlessBilling  PaymentMethod  MonthlyCharges  TotalCharges  Churn  \n",
       "0                    1              2           29.85         29.85      0  \n",
       "1                    0              3           56.95       1889.50      0  \n",
       "2                    1              3           53.85        108.15      1  \n",
       "3                    0              0           42.30       1840.75      0  \n",
       "4                    1              2           70.70        151.65      1  \n",
       "...                ...            ...             ...           ...    ...  \n",
       "7038                 1              3           84.80       1990.50      0  \n",
       "7039                 1              1          103.20       7362.90      0  \n",
       "7040                 1              2           29.60        346.45      0  \n",
       "7041                 1              3           74.40        306.60      1  \n",
       "7042                 1              0          105.65       6844.50      0  \n",
       "\n",
       "[7043 rows x 20 columns]"
      ]
     },
     "execution_count": 34,
     "metadata": {},
     "output_type": "execute_result"
    }
   ],
   "source": [
    "churn"
   ]
  },
  {
   "cell_type": "code",
   "execution_count": 35,
   "metadata": {},
   "outputs": [
    {
     "data": {
      "text/html": [
       "<div>\n",
       "<style scoped>\n",
       "    .dataframe tbody tr th:only-of-type {\n",
       "        vertical-align: middle;\n",
       "    }\n",
       "\n",
       "    .dataframe tbody tr th {\n",
       "        vertical-align: top;\n",
       "    }\n",
       "\n",
       "    .dataframe thead th {\n",
       "        text-align: right;\n",
       "    }\n",
       "</style>\n",
       "<table border=\"1\" class=\"dataframe\">\n",
       "  <thead>\n",
       "    <tr style=\"text-align: right;\">\n",
       "      <th></th>\n",
       "      <th>gender</th>\n",
       "      <th>SeniorCitizen</th>\n",
       "      <th>Partner</th>\n",
       "      <th>Dependents</th>\n",
       "      <th>tenure</th>\n",
       "      <th>PhoneService</th>\n",
       "      <th>MultipleLines</th>\n",
       "      <th>InternetService</th>\n",
       "      <th>OnlineSecurity</th>\n",
       "      <th>OnlineBackup</th>\n",
       "      <th>DeviceProtection</th>\n",
       "      <th>TechSupport</th>\n",
       "      <th>StreamingTV</th>\n",
       "      <th>StreamingMovies</th>\n",
       "      <th>Contract</th>\n",
       "      <th>PaperlessBilling</th>\n",
       "      <th>PaymentMethod</th>\n",
       "      <th>MonthlyCharges</th>\n",
       "      <th>TotalCharges</th>\n",
       "      <th>Churn</th>\n",
       "    </tr>\n",
       "  </thead>\n",
       "  <tbody>\n",
       "    <tr>\n",
       "      <th>gender</th>\n",
       "      <td>1.000000</td>\n",
       "      <td>-0.001874</td>\n",
       "      <td>-0.001808</td>\n",
       "      <td>0.010517</td>\n",
       "      <td>0.005106</td>\n",
       "      <td>-0.006488</td>\n",
       "      <td>-0.006739</td>\n",
       "      <td>-0.000863</td>\n",
       "      <td>-0.015017</td>\n",
       "      <td>-0.012057</td>\n",
       "      <td>0.000549</td>\n",
       "      <td>-0.006825</td>\n",
       "      <td>-0.006421</td>\n",
       "      <td>-0.008743</td>\n",
       "      <td>0.000126</td>\n",
       "      <td>-0.011754</td>\n",
       "      <td>0.017352</td>\n",
       "      <td>-0.014569</td>\n",
       "      <td>-0.000080</td>\n",
       "      <td>-0.008612</td>\n",
       "    </tr>\n",
       "    <tr>\n",
       "      <th>SeniorCitizen</th>\n",
       "      <td>-0.001874</td>\n",
       "      <td>1.000000</td>\n",
       "      <td>0.016479</td>\n",
       "      <td>-0.211185</td>\n",
       "      <td>0.016567</td>\n",
       "      <td>0.008576</td>\n",
       "      <td>0.146185</td>\n",
       "      <td>-0.032310</td>\n",
       "      <td>-0.128221</td>\n",
       "      <td>-0.013632</td>\n",
       "      <td>-0.021398</td>\n",
       "      <td>-0.151268</td>\n",
       "      <td>0.030776</td>\n",
       "      <td>0.047266</td>\n",
       "      <td>-0.142554</td>\n",
       "      <td>0.156530</td>\n",
       "      <td>-0.038551</td>\n",
       "      <td>0.220173</td>\n",
       "      <td>0.103006</td>\n",
       "      <td>0.150889</td>\n",
       "    </tr>\n",
       "    <tr>\n",
       "      <th>Partner</th>\n",
       "      <td>-0.001808</td>\n",
       "      <td>0.016479</td>\n",
       "      <td>1.000000</td>\n",
       "      <td>0.452676</td>\n",
       "      <td>0.379697</td>\n",
       "      <td>0.017706</td>\n",
       "      <td>0.142410</td>\n",
       "      <td>0.000891</td>\n",
       "      <td>0.150828</td>\n",
       "      <td>0.153130</td>\n",
       "      <td>0.166330</td>\n",
       "      <td>0.126733</td>\n",
       "      <td>0.137341</td>\n",
       "      <td>0.129574</td>\n",
       "      <td>0.294806</td>\n",
       "      <td>-0.014877</td>\n",
       "      <td>-0.154798</td>\n",
       "      <td>0.096848</td>\n",
       "      <td>0.317504</td>\n",
       "      <td>-0.150448</td>\n",
       "    </tr>\n",
       "    <tr>\n",
       "      <th>Dependents</th>\n",
       "      <td>0.010517</td>\n",
       "      <td>-0.211185</td>\n",
       "      <td>0.452676</td>\n",
       "      <td>1.000000</td>\n",
       "      <td>0.159712</td>\n",
       "      <td>-0.001762</td>\n",
       "      <td>-0.024991</td>\n",
       "      <td>0.044590</td>\n",
       "      <td>0.152166</td>\n",
       "      <td>0.091015</td>\n",
       "      <td>0.080537</td>\n",
       "      <td>0.133524</td>\n",
       "      <td>0.046885</td>\n",
       "      <td>0.021321</td>\n",
       "      <td>0.243187</td>\n",
       "      <td>-0.111377</td>\n",
       "      <td>-0.040292</td>\n",
       "      <td>-0.113890</td>\n",
       "      <td>0.062078</td>\n",
       "      <td>-0.164221</td>\n",
       "    </tr>\n",
       "    <tr>\n",
       "      <th>tenure</th>\n",
       "      <td>0.005106</td>\n",
       "      <td>0.016567</td>\n",
       "      <td>0.379697</td>\n",
       "      <td>0.159712</td>\n",
       "      <td>1.000000</td>\n",
       "      <td>0.008448</td>\n",
       "      <td>0.343032</td>\n",
       "      <td>-0.030359</td>\n",
       "      <td>0.325468</td>\n",
       "      <td>0.370876</td>\n",
       "      <td>0.371105</td>\n",
       "      <td>0.322942</td>\n",
       "      <td>0.289373</td>\n",
       "      <td>0.296866</td>\n",
       "      <td>0.671607</td>\n",
       "      <td>0.006152</td>\n",
       "      <td>-0.370436</td>\n",
       "      <td>0.247900</td>\n",
       "      <td>0.826178</td>\n",
       "      <td>-0.352229</td>\n",
       "    </tr>\n",
       "    <tr>\n",
       "      <th>PhoneService</th>\n",
       "      <td>-0.006488</td>\n",
       "      <td>0.008576</td>\n",
       "      <td>0.017706</td>\n",
       "      <td>-0.001762</td>\n",
       "      <td>0.008448</td>\n",
       "      <td>1.000000</td>\n",
       "      <td>-0.020538</td>\n",
       "      <td>0.387436</td>\n",
       "      <td>-0.015198</td>\n",
       "      <td>0.024105</td>\n",
       "      <td>0.003727</td>\n",
       "      <td>-0.019158</td>\n",
       "      <td>0.055353</td>\n",
       "      <td>0.043870</td>\n",
       "      <td>0.002247</td>\n",
       "      <td>0.016505</td>\n",
       "      <td>-0.004184</td>\n",
       "      <td>0.247398</td>\n",
       "      <td>0.113214</td>\n",
       "      <td>0.011942</td>\n",
       "    </tr>\n",
       "    <tr>\n",
       "      <th>MultipleLines</th>\n",
       "      <td>-0.006739</td>\n",
       "      <td>0.146185</td>\n",
       "      <td>0.142410</td>\n",
       "      <td>-0.024991</td>\n",
       "      <td>0.343032</td>\n",
       "      <td>-0.020538</td>\n",
       "      <td>1.000000</td>\n",
       "      <td>-0.109216</td>\n",
       "      <td>0.007141</td>\n",
       "      <td>0.117327</td>\n",
       "      <td>0.122318</td>\n",
       "      <td>0.011466</td>\n",
       "      <td>0.175059</td>\n",
       "      <td>0.180957</td>\n",
       "      <td>0.110842</td>\n",
       "      <td>0.165146</td>\n",
       "      <td>-0.176793</td>\n",
       "      <td>0.433576</td>\n",
       "      <td>0.452577</td>\n",
       "      <td>0.038037</td>\n",
       "    </tr>\n",
       "    <tr>\n",
       "      <th>InternetService</th>\n",
       "      <td>-0.000863</td>\n",
       "      <td>-0.032310</td>\n",
       "      <td>0.000891</td>\n",
       "      <td>0.044590</td>\n",
       "      <td>-0.030359</td>\n",
       "      <td>0.387436</td>\n",
       "      <td>-0.109216</td>\n",
       "      <td>1.000000</td>\n",
       "      <td>-0.028416</td>\n",
       "      <td>0.036138</td>\n",
       "      <td>0.044944</td>\n",
       "      <td>-0.026047</td>\n",
       "      <td>0.107417</td>\n",
       "      <td>0.098350</td>\n",
       "      <td>0.099721</td>\n",
       "      <td>-0.138625</td>\n",
       "      <td>0.086140</td>\n",
       "      <td>-0.323260</td>\n",
       "      <td>-0.175755</td>\n",
       "      <td>-0.047291</td>\n",
       "    </tr>\n",
       "    <tr>\n",
       "      <th>OnlineSecurity</th>\n",
       "      <td>-0.015017</td>\n",
       "      <td>-0.128221</td>\n",
       "      <td>0.150828</td>\n",
       "      <td>0.152166</td>\n",
       "      <td>0.325468</td>\n",
       "      <td>-0.015198</td>\n",
       "      <td>0.007141</td>\n",
       "      <td>-0.028416</td>\n",
       "      <td>1.000000</td>\n",
       "      <td>0.185126</td>\n",
       "      <td>0.175985</td>\n",
       "      <td>0.285028</td>\n",
       "      <td>0.044669</td>\n",
       "      <td>0.055954</td>\n",
       "      <td>0.374416</td>\n",
       "      <td>-0.157641</td>\n",
       "      <td>-0.096726</td>\n",
       "      <td>-0.053878</td>\n",
       "      <td>0.253224</td>\n",
       "      <td>-0.289309</td>\n",
       "    </tr>\n",
       "    <tr>\n",
       "      <th>OnlineBackup</th>\n",
       "      <td>-0.012057</td>\n",
       "      <td>-0.013632</td>\n",
       "      <td>0.153130</td>\n",
       "      <td>0.091015</td>\n",
       "      <td>0.370876</td>\n",
       "      <td>0.024105</td>\n",
       "      <td>0.117327</td>\n",
       "      <td>0.036138</td>\n",
       "      <td>0.185126</td>\n",
       "      <td>1.000000</td>\n",
       "      <td>0.187757</td>\n",
       "      <td>0.195748</td>\n",
       "      <td>0.147186</td>\n",
       "      <td>0.136722</td>\n",
       "      <td>0.280980</td>\n",
       "      <td>-0.013370</td>\n",
       "      <td>-0.124847</td>\n",
       "      <td>0.119777</td>\n",
       "      <td>0.374410</td>\n",
       "      <td>-0.195525</td>\n",
       "    </tr>\n",
       "    <tr>\n",
       "      <th>DeviceProtection</th>\n",
       "      <td>0.000549</td>\n",
       "      <td>-0.021398</td>\n",
       "      <td>0.166330</td>\n",
       "      <td>0.080537</td>\n",
       "      <td>0.371105</td>\n",
       "      <td>0.003727</td>\n",
       "      <td>0.122318</td>\n",
       "      <td>0.044944</td>\n",
       "      <td>0.175985</td>\n",
       "      <td>0.187757</td>\n",
       "      <td>1.000000</td>\n",
       "      <td>0.240593</td>\n",
       "      <td>0.276652</td>\n",
       "      <td>0.288799</td>\n",
       "      <td>0.350277</td>\n",
       "      <td>-0.038234</td>\n",
       "      <td>-0.135750</td>\n",
       "      <td>0.163652</td>\n",
       "      <td>0.387897</td>\n",
       "      <td>-0.178134</td>\n",
       "    </tr>\n",
       "    <tr>\n",
       "      <th>TechSupport</th>\n",
       "      <td>-0.006825</td>\n",
       "      <td>-0.151268</td>\n",
       "      <td>0.126733</td>\n",
       "      <td>0.133524</td>\n",
       "      <td>0.322942</td>\n",
       "      <td>-0.019158</td>\n",
       "      <td>0.011466</td>\n",
       "      <td>-0.026047</td>\n",
       "      <td>0.285028</td>\n",
       "      <td>0.195748</td>\n",
       "      <td>0.240593</td>\n",
       "      <td>1.000000</td>\n",
       "      <td>0.161305</td>\n",
       "      <td>0.161316</td>\n",
       "      <td>0.425367</td>\n",
       "      <td>-0.113600</td>\n",
       "      <td>-0.104670</td>\n",
       "      <td>-0.008682</td>\n",
       "      <td>0.275625</td>\n",
       "      <td>-0.282492</td>\n",
       "    </tr>\n",
       "    <tr>\n",
       "      <th>StreamingTV</th>\n",
       "      <td>-0.006421</td>\n",
       "      <td>0.030776</td>\n",
       "      <td>0.137341</td>\n",
       "      <td>0.046885</td>\n",
       "      <td>0.289373</td>\n",
       "      <td>0.055353</td>\n",
       "      <td>0.175059</td>\n",
       "      <td>0.107417</td>\n",
       "      <td>0.044669</td>\n",
       "      <td>0.147186</td>\n",
       "      <td>0.276652</td>\n",
       "      <td>0.161305</td>\n",
       "      <td>1.000000</td>\n",
       "      <td>0.434772</td>\n",
       "      <td>0.227116</td>\n",
       "      <td>0.096642</td>\n",
       "      <td>-0.104234</td>\n",
       "      <td>0.336706</td>\n",
       "      <td>0.391470</td>\n",
       "      <td>-0.036581</td>\n",
       "    </tr>\n",
       "    <tr>\n",
       "      <th>StreamingMovies</th>\n",
       "      <td>-0.008743</td>\n",
       "      <td>0.047266</td>\n",
       "      <td>0.129574</td>\n",
       "      <td>0.021321</td>\n",
       "      <td>0.296866</td>\n",
       "      <td>0.043870</td>\n",
       "      <td>0.180957</td>\n",
       "      <td>0.098350</td>\n",
       "      <td>0.055954</td>\n",
       "      <td>0.136722</td>\n",
       "      <td>0.288799</td>\n",
       "      <td>0.161316</td>\n",
       "      <td>0.434772</td>\n",
       "      <td>1.000000</td>\n",
       "      <td>0.231226</td>\n",
       "      <td>0.083700</td>\n",
       "      <td>-0.111241</td>\n",
       "      <td>0.335459</td>\n",
       "      <td>0.398066</td>\n",
       "      <td>-0.038492</td>\n",
       "    </tr>\n",
       "    <tr>\n",
       "      <th>Contract</th>\n",
       "      <td>0.000126</td>\n",
       "      <td>-0.142554</td>\n",
       "      <td>0.294806</td>\n",
       "      <td>0.243187</td>\n",
       "      <td>0.671607</td>\n",
       "      <td>0.002247</td>\n",
       "      <td>0.110842</td>\n",
       "      <td>0.099721</td>\n",
       "      <td>0.374416</td>\n",
       "      <td>0.280980</td>\n",
       "      <td>0.350277</td>\n",
       "      <td>0.425367</td>\n",
       "      <td>0.227116</td>\n",
       "      <td>0.231226</td>\n",
       "      <td>1.000000</td>\n",
       "      <td>-0.176733</td>\n",
       "      <td>-0.227543</td>\n",
       "      <td>-0.074195</td>\n",
       "      <td>0.446855</td>\n",
       "      <td>-0.396713</td>\n",
       "    </tr>\n",
       "    <tr>\n",
       "      <th>PaperlessBilling</th>\n",
       "      <td>-0.011754</td>\n",
       "      <td>0.156530</td>\n",
       "      <td>-0.014877</td>\n",
       "      <td>-0.111377</td>\n",
       "      <td>0.006152</td>\n",
       "      <td>0.016505</td>\n",
       "      <td>0.165146</td>\n",
       "      <td>-0.138625</td>\n",
       "      <td>-0.157641</td>\n",
       "      <td>-0.013370</td>\n",
       "      <td>-0.038234</td>\n",
       "      <td>-0.113600</td>\n",
       "      <td>0.096642</td>\n",
       "      <td>0.083700</td>\n",
       "      <td>-0.176733</td>\n",
       "      <td>1.000000</td>\n",
       "      <td>-0.062904</td>\n",
       "      <td>0.352150</td>\n",
       "      <td>0.158574</td>\n",
       "      <td>0.191825</td>\n",
       "    </tr>\n",
       "    <tr>\n",
       "      <th>PaymentMethod</th>\n",
       "      <td>0.017352</td>\n",
       "      <td>-0.038551</td>\n",
       "      <td>-0.154798</td>\n",
       "      <td>-0.040292</td>\n",
       "      <td>-0.370436</td>\n",
       "      <td>-0.004184</td>\n",
       "      <td>-0.176793</td>\n",
       "      <td>0.086140</td>\n",
       "      <td>-0.096726</td>\n",
       "      <td>-0.124847</td>\n",
       "      <td>-0.135750</td>\n",
       "      <td>-0.104670</td>\n",
       "      <td>-0.104234</td>\n",
       "      <td>-0.111241</td>\n",
       "      <td>-0.227543</td>\n",
       "      <td>-0.062904</td>\n",
       "      <td>1.000000</td>\n",
       "      <td>-0.193407</td>\n",
       "      <td>-0.330918</td>\n",
       "      <td>0.107062</td>\n",
       "    </tr>\n",
       "    <tr>\n",
       "      <th>MonthlyCharges</th>\n",
       "      <td>-0.014569</td>\n",
       "      <td>0.220173</td>\n",
       "      <td>0.096848</td>\n",
       "      <td>-0.113890</td>\n",
       "      <td>0.247900</td>\n",
       "      <td>0.247398</td>\n",
       "      <td>0.433576</td>\n",
       "      <td>-0.323260</td>\n",
       "      <td>-0.053878</td>\n",
       "      <td>0.119777</td>\n",
       "      <td>0.163652</td>\n",
       "      <td>-0.008682</td>\n",
       "      <td>0.336706</td>\n",
       "      <td>0.335459</td>\n",
       "      <td>-0.074195</td>\n",
       "      <td>0.352150</td>\n",
       "      <td>-0.193407</td>\n",
       "      <td>1.000000</td>\n",
       "      <td>0.651174</td>\n",
       "      <td>0.193356</td>\n",
       "    </tr>\n",
       "    <tr>\n",
       "      <th>TotalCharges</th>\n",
       "      <td>-0.000080</td>\n",
       "      <td>0.103006</td>\n",
       "      <td>0.317504</td>\n",
       "      <td>0.062078</td>\n",
       "      <td>0.826178</td>\n",
       "      <td>0.113214</td>\n",
       "      <td>0.452577</td>\n",
       "      <td>-0.175755</td>\n",
       "      <td>0.253224</td>\n",
       "      <td>0.374410</td>\n",
       "      <td>0.387897</td>\n",
       "      <td>0.275625</td>\n",
       "      <td>0.391470</td>\n",
       "      <td>0.398066</td>\n",
       "      <td>0.446855</td>\n",
       "      <td>0.158574</td>\n",
       "      <td>-0.330918</td>\n",
       "      <td>0.651174</td>\n",
       "      <td>1.000000</td>\n",
       "      <td>-0.198324</td>\n",
       "    </tr>\n",
       "    <tr>\n",
       "      <th>Churn</th>\n",
       "      <td>-0.008612</td>\n",
       "      <td>0.150889</td>\n",
       "      <td>-0.150448</td>\n",
       "      <td>-0.164221</td>\n",
       "      <td>-0.352229</td>\n",
       "      <td>0.011942</td>\n",
       "      <td>0.038037</td>\n",
       "      <td>-0.047291</td>\n",
       "      <td>-0.289309</td>\n",
       "      <td>-0.195525</td>\n",
       "      <td>-0.178134</td>\n",
       "      <td>-0.282492</td>\n",
       "      <td>-0.036581</td>\n",
       "      <td>-0.038492</td>\n",
       "      <td>-0.396713</td>\n",
       "      <td>0.191825</td>\n",
       "      <td>0.107062</td>\n",
       "      <td>0.193356</td>\n",
       "      <td>-0.198324</td>\n",
       "      <td>1.000000</td>\n",
       "    </tr>\n",
       "  </tbody>\n",
       "</table>\n",
       "</div>"
      ],
      "text/plain": [
       "                    gender  SeniorCitizen   Partner  Dependents    tenure  \\\n",
       "gender            1.000000      -0.001874 -0.001808    0.010517  0.005106   \n",
       "SeniorCitizen    -0.001874       1.000000  0.016479   -0.211185  0.016567   \n",
       "Partner          -0.001808       0.016479  1.000000    0.452676  0.379697   \n",
       "Dependents        0.010517      -0.211185  0.452676    1.000000  0.159712   \n",
       "tenure            0.005106       0.016567  0.379697    0.159712  1.000000   \n",
       "PhoneService     -0.006488       0.008576  0.017706   -0.001762  0.008448   \n",
       "MultipleLines    -0.006739       0.146185  0.142410   -0.024991  0.343032   \n",
       "InternetService  -0.000863      -0.032310  0.000891    0.044590 -0.030359   \n",
       "OnlineSecurity   -0.015017      -0.128221  0.150828    0.152166  0.325468   \n",
       "OnlineBackup     -0.012057      -0.013632  0.153130    0.091015  0.370876   \n",
       "DeviceProtection  0.000549      -0.021398  0.166330    0.080537  0.371105   \n",
       "TechSupport      -0.006825      -0.151268  0.126733    0.133524  0.322942   \n",
       "StreamingTV      -0.006421       0.030776  0.137341    0.046885  0.289373   \n",
       "StreamingMovies  -0.008743       0.047266  0.129574    0.021321  0.296866   \n",
       "Contract          0.000126      -0.142554  0.294806    0.243187  0.671607   \n",
       "PaperlessBilling -0.011754       0.156530 -0.014877   -0.111377  0.006152   \n",
       "PaymentMethod     0.017352      -0.038551 -0.154798   -0.040292 -0.370436   \n",
       "MonthlyCharges   -0.014569       0.220173  0.096848   -0.113890  0.247900   \n",
       "TotalCharges     -0.000080       0.103006  0.317504    0.062078  0.826178   \n",
       "Churn            -0.008612       0.150889 -0.150448   -0.164221 -0.352229   \n",
       "\n",
       "                  PhoneService  MultipleLines  InternetService  \\\n",
       "gender               -0.006488      -0.006739        -0.000863   \n",
       "SeniorCitizen         0.008576       0.146185        -0.032310   \n",
       "Partner               0.017706       0.142410         0.000891   \n",
       "Dependents           -0.001762      -0.024991         0.044590   \n",
       "tenure                0.008448       0.343032        -0.030359   \n",
       "PhoneService          1.000000      -0.020538         0.387436   \n",
       "MultipleLines        -0.020538       1.000000        -0.109216   \n",
       "InternetService       0.387436      -0.109216         1.000000   \n",
       "OnlineSecurity       -0.015198       0.007141        -0.028416   \n",
       "OnlineBackup          0.024105       0.117327         0.036138   \n",
       "DeviceProtection      0.003727       0.122318         0.044944   \n",
       "TechSupport          -0.019158       0.011466        -0.026047   \n",
       "StreamingTV           0.055353       0.175059         0.107417   \n",
       "StreamingMovies       0.043870       0.180957         0.098350   \n",
       "Contract              0.002247       0.110842         0.099721   \n",
       "PaperlessBilling      0.016505       0.165146        -0.138625   \n",
       "PaymentMethod        -0.004184      -0.176793         0.086140   \n",
       "MonthlyCharges        0.247398       0.433576        -0.323260   \n",
       "TotalCharges          0.113214       0.452577        -0.175755   \n",
       "Churn                 0.011942       0.038037        -0.047291   \n",
       "\n",
       "                  OnlineSecurity  OnlineBackup  DeviceProtection  TechSupport  \\\n",
       "gender                 -0.015017     -0.012057          0.000549    -0.006825   \n",
       "SeniorCitizen          -0.128221     -0.013632         -0.021398    -0.151268   \n",
       "Partner                 0.150828      0.153130          0.166330     0.126733   \n",
       "Dependents              0.152166      0.091015          0.080537     0.133524   \n",
       "tenure                  0.325468      0.370876          0.371105     0.322942   \n",
       "PhoneService           -0.015198      0.024105          0.003727    -0.019158   \n",
       "MultipleLines           0.007141      0.117327          0.122318     0.011466   \n",
       "InternetService        -0.028416      0.036138          0.044944    -0.026047   \n",
       "OnlineSecurity          1.000000      0.185126          0.175985     0.285028   \n",
       "OnlineBackup            0.185126      1.000000          0.187757     0.195748   \n",
       "DeviceProtection        0.175985      0.187757          1.000000     0.240593   \n",
       "TechSupport             0.285028      0.195748          0.240593     1.000000   \n",
       "StreamingTV             0.044669      0.147186          0.276652     0.161305   \n",
       "StreamingMovies         0.055954      0.136722          0.288799     0.161316   \n",
       "Contract                0.374416      0.280980          0.350277     0.425367   \n",
       "PaperlessBilling       -0.157641     -0.013370         -0.038234    -0.113600   \n",
       "PaymentMethod          -0.096726     -0.124847         -0.135750    -0.104670   \n",
       "MonthlyCharges         -0.053878      0.119777          0.163652    -0.008682   \n",
       "TotalCharges            0.253224      0.374410          0.387897     0.275625   \n",
       "Churn                  -0.289309     -0.195525         -0.178134    -0.282492   \n",
       "\n",
       "                  StreamingTV  StreamingMovies  Contract  PaperlessBilling  \\\n",
       "gender              -0.006421        -0.008743  0.000126         -0.011754   \n",
       "SeniorCitizen        0.030776         0.047266 -0.142554          0.156530   \n",
       "Partner              0.137341         0.129574  0.294806         -0.014877   \n",
       "Dependents           0.046885         0.021321  0.243187         -0.111377   \n",
       "tenure               0.289373         0.296866  0.671607          0.006152   \n",
       "PhoneService         0.055353         0.043870  0.002247          0.016505   \n",
       "MultipleLines        0.175059         0.180957  0.110842          0.165146   \n",
       "InternetService      0.107417         0.098350  0.099721         -0.138625   \n",
       "OnlineSecurity       0.044669         0.055954  0.374416         -0.157641   \n",
       "OnlineBackup         0.147186         0.136722  0.280980         -0.013370   \n",
       "DeviceProtection     0.276652         0.288799  0.350277         -0.038234   \n",
       "TechSupport          0.161305         0.161316  0.425367         -0.113600   \n",
       "StreamingTV          1.000000         0.434772  0.227116          0.096642   \n",
       "StreamingMovies      0.434772         1.000000  0.231226          0.083700   \n",
       "Contract             0.227116         0.231226  1.000000         -0.176733   \n",
       "PaperlessBilling     0.096642         0.083700 -0.176733          1.000000   \n",
       "PaymentMethod       -0.104234        -0.111241 -0.227543         -0.062904   \n",
       "MonthlyCharges       0.336706         0.335459 -0.074195          0.352150   \n",
       "TotalCharges         0.391470         0.398066  0.446855          0.158574   \n",
       "Churn               -0.036581        -0.038492 -0.396713          0.191825   \n",
       "\n",
       "                  PaymentMethod  MonthlyCharges  TotalCharges     Churn  \n",
       "gender                 0.017352       -0.014569     -0.000080 -0.008612  \n",
       "SeniorCitizen         -0.038551        0.220173      0.103006  0.150889  \n",
       "Partner               -0.154798        0.096848      0.317504 -0.150448  \n",
       "Dependents            -0.040292       -0.113890      0.062078 -0.164221  \n",
       "tenure                -0.370436        0.247900      0.826178 -0.352229  \n",
       "PhoneService          -0.004184        0.247398      0.113214  0.011942  \n",
       "MultipleLines         -0.176793        0.433576      0.452577  0.038037  \n",
       "InternetService        0.086140       -0.323260     -0.175755 -0.047291  \n",
       "OnlineSecurity        -0.096726       -0.053878      0.253224 -0.289309  \n",
       "OnlineBackup          -0.124847        0.119777      0.374410 -0.195525  \n",
       "DeviceProtection      -0.135750        0.163652      0.387897 -0.178134  \n",
       "TechSupport           -0.104670       -0.008682      0.275625 -0.282492  \n",
       "StreamingTV           -0.104234        0.336706      0.391470 -0.036581  \n",
       "StreamingMovies       -0.111241        0.335459      0.398066 -0.038492  \n",
       "Contract              -0.227543       -0.074195      0.446855 -0.396713  \n",
       "PaperlessBilling      -0.062904        0.352150      0.158574  0.191825  \n",
       "PaymentMethod          1.000000       -0.193407     -0.330918  0.107062  \n",
       "MonthlyCharges        -0.193407        1.000000      0.651174  0.193356  \n",
       "TotalCharges          -0.330918        0.651174      1.000000 -0.198324  \n",
       "Churn                  0.107062        0.193356     -0.198324  1.000000  "
      ]
     },
     "execution_count": 35,
     "metadata": {},
     "output_type": "execute_result"
    }
   ],
   "source": [
    "churn_corr=churn.corr()\n",
    "churn_corr\n",
    "\n",
    "# Checking the Correlation of independent variable with target variable"
   ]
  },
  {
   "cell_type": "code",
   "execution_count": 36,
   "metadata": {},
   "outputs": [
    {
     "data": {
      "text/plain": [
       "<AxesSubplot:>"
      ]
     },
     "execution_count": 36,
     "metadata": {},
     "output_type": "execute_result"
    },
    {
     "data": {
      "image/png": "[encoded data removed]",
      "text/plain": [
       "<Figure size 1440x720 with 2 Axes>"
      ]
     },
     "metadata": {
      "needs_background": "light"
     },
     "output_type": "display_data"
    }
   ],
   "source": [
    "plt.figure(figsize=(20,10))\n",
    "sns.heatmap(churn_corr, annot=True, linecolor=\"black\", linewidths=2, cmap=\"coolwarm_r\")"
   ]
  },
  {
   "cell_type": "code",
   "execution_count": null,
   "metadata": {},
   "outputs": [],
   "source": []
  },
  {
   "cell_type": "code",
   "execution_count": 37,
   "metadata": {},
   "outputs": [
    {
     "data": {
      "text/html": [
       "<div>\n",
       "<style scoped>\n",
       "    .dataframe tbody tr th:only-of-type {\n",
       "        vertical-align: middle;\n",
       "    }\n",
       "\n",
       "    .dataframe tbody tr th {\n",
       "        vertical-align: top;\n",
       "    }\n",
       "\n",
       "    .dataframe thead th {\n",
       "        text-align: right;\n",
       "    }\n",
       "</style>\n",
       "<table border=\"1\" class=\"dataframe\">\n",
       "  <thead>\n",
       "    <tr style=\"text-align: right;\">\n",
       "      <th></th>\n",
       "      <th>gender</th>\n",
       "      <th>SeniorCitizen</th>\n",
       "      <th>Partner</th>\n",
       "      <th>Dependents</th>\n",
       "      <th>tenure</th>\n",
       "      <th>PhoneService</th>\n",
       "      <th>MultipleLines</th>\n",
       "      <th>InternetService</th>\n",
       "      <th>OnlineSecurity</th>\n",
       "      <th>OnlineBackup</th>\n",
       "      <th>DeviceProtection</th>\n",
       "      <th>TechSupport</th>\n",
       "      <th>StreamingTV</th>\n",
       "      <th>StreamingMovies</th>\n",
       "      <th>Contract</th>\n",
       "      <th>PaperlessBilling</th>\n",
       "      <th>PaymentMethod</th>\n",
       "      <th>MonthlyCharges</th>\n",
       "      <th>TotalCharges</th>\n",
       "    </tr>\n",
       "  </thead>\n",
       "  <tbody>\n",
       "    <tr>\n",
       "      <th>0</th>\n",
       "      <td>0</td>\n",
       "      <td>0</td>\n",
       "      <td>1</td>\n",
       "      <td>0</td>\n",
       "      <td>1</td>\n",
       "      <td>0</td>\n",
       "      <td>1</td>\n",
       "      <td>0</td>\n",
       "      <td>0</td>\n",
       "      <td>2</td>\n",
       "      <td>0</td>\n",
       "      <td>0</td>\n",
       "      <td>0</td>\n",
       "      <td>0</td>\n",
       "      <td>0</td>\n",
       "      <td>1</td>\n",
       "      <td>2</td>\n",
       "      <td>29.85</td>\n",
       "      <td>29.85</td>\n",
       "    </tr>\n",
       "    <tr>\n",
       "      <th>1</th>\n",
       "      <td>1</td>\n",
       "      <td>0</td>\n",
       "      <td>0</td>\n",
       "      <td>0</td>\n",
       "      <td>34</td>\n",
       "      <td>1</td>\n",
       "      <td>0</td>\n",
       "      <td>0</td>\n",
       "      <td>2</td>\n",
       "      <td>0</td>\n",
       "      <td>2</td>\n",
       "      <td>0</td>\n",
       "      <td>0</td>\n",
       "      <td>0</td>\n",
       "      <td>1</td>\n",
       "      <td>0</td>\n",
       "      <td>3</td>\n",
       "      <td>56.95</td>\n",
       "      <td>1889.50</td>\n",
       "    </tr>\n",
       "    <tr>\n",
       "      <th>2</th>\n",
       "      <td>1</td>\n",
       "      <td>0</td>\n",
       "      <td>0</td>\n",
       "      <td>0</td>\n",
       "      <td>2</td>\n",
       "      <td>1</td>\n",
       "      <td>0</td>\n",
       "      <td>0</td>\n",
       "      <td>2</td>\n",
       "      <td>2</td>\n",
       "      <td>0</td>\n",
       "      <td>0</td>\n",
       "      <td>0</td>\n",
       "      <td>0</td>\n",
       "      <td>0</td>\n",
       "      <td>1</td>\n",
       "      <td>3</td>\n",
       "      <td>53.85</td>\n",
       "      <td>108.15</td>\n",
       "    </tr>\n",
       "    <tr>\n",
       "      <th>3</th>\n",
       "      <td>1</td>\n",
       "      <td>0</td>\n",
       "      <td>0</td>\n",
       "      <td>0</td>\n",
       "      <td>45</td>\n",
       "      <td>0</td>\n",
       "      <td>1</td>\n",
       "      <td>0</td>\n",
       "      <td>2</td>\n",
       "      <td>0</td>\n",
       "      <td>2</td>\n",
       "      <td>2</td>\n",
       "      <td>0</td>\n",
       "      <td>0</td>\n",
       "      <td>1</td>\n",
       "      <td>0</td>\n",
       "      <td>0</td>\n",
       "      <td>42.30</td>\n",
       "      <td>1840.75</td>\n",
       "    </tr>\n",
       "    <tr>\n",
       "      <th>4</th>\n",
       "      <td>0</td>\n",
       "      <td>0</td>\n",
       "      <td>0</td>\n",
       "      <td>0</td>\n",
       "      <td>2</td>\n",
       "      <td>1</td>\n",
       "      <td>0</td>\n",
       "      <td>1</td>\n",
       "      <td>0</td>\n",
       "      <td>0</td>\n",
       "      <td>0</td>\n",
       "      <td>0</td>\n",
       "      <td>0</td>\n",
       "      <td>0</td>\n",
       "      <td>0</td>\n",
       "      <td>1</td>\n",
       "      <td>2</td>\n",
       "      <td>70.70</td>\n",
       "      <td>151.65</td>\n",
       "    </tr>\n",
       "    <tr>\n",
       "      <th>...</th>\n",
       "      <td>...</td>\n",
       "      <td>...</td>\n",
       "      <td>...</td>\n",
       "      <td>...</td>\n",
       "      <td>...</td>\n",
       "      <td>...</td>\n",
       "      <td>...</td>\n",
       "      <td>...</td>\n",
       "      <td>...</td>\n",
       "      <td>...</td>\n",
       "      <td>...</td>\n",
       "      <td>...</td>\n",
       "      <td>...</td>\n",
       "      <td>...</td>\n",
       "      <td>...</td>\n",
       "      <td>...</td>\n",
       "      <td>...</td>\n",
       "      <td>...</td>\n",
       "      <td>...</td>\n",
       "    </tr>\n",
       "    <tr>\n",
       "      <th>7038</th>\n",
       "      <td>1</td>\n",
       "      <td>0</td>\n",
       "      <td>1</td>\n",
       "      <td>1</td>\n",
       "      <td>24</td>\n",
       "      <td>1</td>\n",
       "      <td>2</td>\n",
       "      <td>0</td>\n",
       "      <td>2</td>\n",
       "      <td>0</td>\n",
       "      <td>2</td>\n",
       "      <td>2</td>\n",
       "      <td>2</td>\n",
       "      <td>2</td>\n",
       "      <td>1</td>\n",
       "      <td>1</td>\n",
       "      <td>3</td>\n",
       "      <td>84.80</td>\n",
       "      <td>1990.50</td>\n",
       "    </tr>\n",
       "    <tr>\n",
       "      <th>7039</th>\n",
       "      <td>0</td>\n",
       "      <td>0</td>\n",
       "      <td>1</td>\n",
       "      <td>1</td>\n",
       "      <td>72</td>\n",
       "      <td>1</td>\n",
       "      <td>2</td>\n",
       "      <td>1</td>\n",
       "      <td>0</td>\n",
       "      <td>2</td>\n",
       "      <td>2</td>\n",
       "      <td>0</td>\n",
       "      <td>2</td>\n",
       "      <td>2</td>\n",
       "      <td>1</td>\n",
       "      <td>1</td>\n",
       "      <td>1</td>\n",
       "      <td>103.20</td>\n",
       "      <td>7362.90</td>\n",
       "    </tr>\n",
       "    <tr>\n",
       "      <th>7040</th>\n",
       "      <td>0</td>\n",
       "      <td>0</td>\n",
       "      <td>1</td>\n",
       "      <td>1</td>\n",
       "      <td>11</td>\n",
       "      <td>0</td>\n",
       "      <td>1</td>\n",
       "      <td>0</td>\n",
       "      <td>2</td>\n",
       "      <td>0</td>\n",
       "      <td>0</td>\n",
       "      <td>0</td>\n",
       "      <td>0</td>\n",
       "      <td>0</td>\n",
       "      <td>0</td>\n",
       "      <td>1</td>\n",
       "      <td>2</td>\n",
       "      <td>29.60</td>\n",
       "      <td>346.45</td>\n",
       "    </tr>\n",
       "    <tr>\n",
       "      <th>7041</th>\n",
       "      <td>1</td>\n",
       "      <td>1</td>\n",
       "      <td>1</td>\n",
       "      <td>0</td>\n",
       "      <td>4</td>\n",
       "      <td>1</td>\n",
       "      <td>2</td>\n",
       "      <td>1</td>\n",
       "      <td>0</td>\n",
       "      <td>0</td>\n",
       "      <td>0</td>\n",
       "      <td>0</td>\n",
       "      <td>0</td>\n",
       "      <td>0</td>\n",
       "      <td>0</td>\n",
       "      <td>1</td>\n",
       "      <td>3</td>\n",
       "      <td>74.40</td>\n",
       "      <td>306.60</td>\n",
       "    </tr>\n",
       "    <tr>\n",
       "      <th>7042</th>\n",
       "      <td>1</td>\n",
       "      <td>0</td>\n",
       "      <td>0</td>\n",
       "      <td>0</td>\n",
       "      <td>66</td>\n",
       "      <td>1</td>\n",
       "      <td>0</td>\n",
       "      <td>1</td>\n",
       "      <td>2</td>\n",
       "      <td>0</td>\n",
       "      <td>2</td>\n",
       "      <td>2</td>\n",
       "      <td>2</td>\n",
       "      <td>2</td>\n",
       "      <td>2</td>\n",
       "      <td>1</td>\n",
       "      <td>0</td>\n",
       "      <td>105.65</td>\n",
       "      <td>6844.50</td>\n",
       "    </tr>\n",
       "  </tbody>\n",
       "</table>\n",
       "<p>7043 rows × 19 columns</p>\n",
       "</div>"
      ],
      "text/plain": [
       "      gender  SeniorCitizen  Partner  Dependents  tenure  PhoneService  \\\n",
       "0          0              0        1           0       1             0   \n",
       "1          1              0        0           0      34             1   \n",
       "2          1              0        0           0       2             1   \n",
       "3          1              0        0           0      45             0   \n",
       "4          0              0        0           0       2             1   \n",
       "...      ...            ...      ...         ...     ...           ...   \n",
       "7038       1              0        1           1      24             1   \n",
       "7039       0              0        1           1      72             1   \n",
       "7040       0              0        1           1      11             0   \n",
       "7041       1              1        1           0       4             1   \n",
       "7042       1              0        0           0      66             1   \n",
       "\n",
       "      MultipleLines  InternetService  OnlineSecurity  OnlineBackup  \\\n",
       "0                 1                0               0             2   \n",
       "1                 0                0               2             0   \n",
       "2                 0                0               2             2   \n",
       "3                 1                0               2             0   \n",
       "4                 0                1               0             0   \n",
       "...             ...              ...             ...           ...   \n",
       "7038              2                0               2             0   \n",
       "7039              2                1               0             2   \n",
       "7040              1                0               2             0   \n",
       "7041              2                1               0             0   \n",
       "7042              0                1               2             0   \n",
       "\n",
       "      DeviceProtection  TechSupport  StreamingTV  StreamingMovies  Contract  \\\n",
       "0                    0            0            0                0         0   \n",
       "1                    2            0            0                0         1   \n",
       "2                    0            0            0                0         0   \n",
       "3                    2            2            0                0         1   \n",
       "4                    0            0            0                0         0   \n",
       "...                ...          ...          ...              ...       ...   \n",
       "7038                 2            2            2                2         1   \n",
       "7039                 2            0            2                2         1   \n",
       "7040                 0            0            0                0         0   \n",
       "7041                 0            0            0                0         0   \n",
       "7042                 2            2            2                2         2   \n",
       "\n",
       "      PaperlessBilling  PaymentMethod  MonthlyCharges  TotalCharges  \n",
       "0                    1              2           29.85         29.85  \n",
       "1                    0              3           56.95       1889.50  \n",
       "2                    1              3           53.85        108.15  \n",
       "3                    0              0           42.30       1840.75  \n",
       "4                    1              2           70.70        151.65  \n",
       "...                ...            ...             ...           ...  \n",
       "7038                 1              3           84.80       1990.50  \n",
       "7039                 1              1          103.20       7362.90  \n",
       "7040                 1              2           29.60        346.45  \n",
       "7041                 1              3           74.40        306.60  \n",
       "7042                 1              0          105.65       6844.50  \n",
       "\n",
       "[7043 rows x 19 columns]"
      ]
     },
     "execution_count": 37,
     "metadata": {},
     "output_type": "execute_result"
    }
   ],
   "source": [
    "x=churn.iloc[:,0:-1]\n",
    "x\n",
    "\n",
    "# Taking all the Independent variables in x"
   ]
  },
  {
   "cell_type": "code",
   "execution_count": 38,
   "metadata": {},
   "outputs": [
    {
     "data": {
      "text/plain": [
       "0       0\n",
       "1       0\n",
       "2       1\n",
       "3       0\n",
       "4       1\n",
       "       ..\n",
       "7038    0\n",
       "7039    0\n",
       "7040    0\n",
       "7041    1\n",
       "7042    0\n",
       "Name: Churn, Length: 7043, dtype: int32"
      ]
     },
     "execution_count": 38,
     "metadata": {},
     "output_type": "execute_result"
    }
   ],
   "source": [
    "y=churn.iloc[:,-1]\n",
    "y\n",
    "\n",
    "# Taking the target variable in y"
   ]
  },
  {
   "cell_type": "code",
   "execution_count": null,
   "metadata": {},
   "outputs": [],
   "source": []
  },
  {
   "cell_type": "code",
   "execution_count": null,
   "metadata": {},
   "outputs": [],
   "source": []
  },
  {
   "cell_type": "markdown",
   "metadata": {},
   "source": [
    "# Splitting the Dataset into Train & Test:-"
   ]
  },
  {
   "cell_type": "code",
   "execution_count": 39,
   "metadata": {},
   "outputs": [],
   "source": [
    "from sklearn.model_selection import train_test_split\n",
    "from sklearn.metrics import accuracy_score, confusion_matrix, classification_report\n",
    "from sklearn.linear_model import LogisticRegression\n",
    "\n",
    "# Importing the train_test_split and Accuracy Score"
   ]
  },
  {
   "cell_type": "code",
   "execution_count": 40,
   "metadata": {},
   "outputs": [
    {
     "name": "stdout",
     "output_type": "stream",
     "text": [
      "Best Accuracy is  0.8228279386712095 on Random State  18\n"
     ]
    }
   ],
   "source": [
    "MaxAccu=0\n",
    "MaxRS=0\n",
    "\n",
    "for i in range (1,500):\n",
    "    x_train,x_test,y_train,y_test=train_test_split(x,y,test_size=0.25,random_state=i)\n",
    "    lr=LogisticRegression()\n",
    "    lr.fit(x_train,y_train)\n",
    "    predlr_train=lr.predict(x_train)\n",
    "    predlr_test=lr.predict(x_test)\n",
    "    acc=accuracy_score(y_test,predlr_test)\n",
    "    if acc>MaxAccu:\n",
    "        MaxAccu=acc\n",
    "        MaxRS=i\n",
    "print(\"Best Accuracy is \", MaxAccu, \"on Random State \", MaxRS)\n",
    "\n",
    "# Finding the best accuracy with best random state"
   ]
  },
  {
   "cell_type": "code",
   "execution_count": 41,
   "metadata": {},
   "outputs": [],
   "source": [
    "x_train,x_test,y_train,y_test=train_test_split(x,y,test_size=0.25,random_state=463)"
   ]
  },
  {
   "cell_type": "code",
   "execution_count": 42,
   "metadata": {},
   "outputs": [
    {
     "data": {
      "text/plain": [
       "LogisticRegression()"
      ]
     },
     "execution_count": 42,
     "metadata": {},
     "output_type": "execute_result"
    }
   ],
   "source": [
    "lr=LogisticRegression()\n",
    "lr.fit(x_train,y_train)\n",
    "\n",
    "# Training the Logistic Regression Model"
   ]
  },
  {
   "cell_type": "code",
   "execution_count": 43,
   "metadata": {},
   "outputs": [
    {
     "data": {
      "text/plain": [
       "array([0, 0, 0, ..., 1, 0, 0])"
      ]
     },
     "execution_count": 43,
     "metadata": {},
     "output_type": "execute_result"
    }
   ],
   "source": [
    "lr_pred=lr.predict(x_test)\n",
    "lr_pred\n",
    "\n",
    "# The Logistic Regression Model is predicting values based on training"
   ]
  },
  {
   "cell_type": "code",
   "execution_count": 44,
   "metadata": {},
   "outputs": [
    {
     "name": "stdout",
     "output_type": "stream",
     "text": [
      "0.8188529244747302\n",
      "[[1189  129]\n",
      " [ 190  253]]\n",
      "              precision    recall  f1-score   support\n",
      "\n",
      "           0       0.86      0.90      0.88      1318\n",
      "           1       0.66      0.57      0.61       443\n",
      "\n",
      "    accuracy                           0.82      1761\n",
      "   macro avg       0.76      0.74      0.75      1761\n",
      "weighted avg       0.81      0.82      0.81      1761\n",
      "\n"
     ]
    }
   ],
   "source": [
    "print(accuracy_score(y_test,lr_pred))\n",
    "print(confusion_matrix(y_test,lr_pred))\n",
    "print(classification_report(y_test,lr_pred))\n",
    "\n",
    "# The Accuracy Score & Evolution Matrix of Logistic Regression Model"
   ]
  },
  {
   "cell_type": "code",
   "execution_count": null,
   "metadata": {},
   "outputs": [],
   "source": []
  },
  {
   "cell_type": "markdown",
   "metadata": {},
   "source": [
    "### Model Building using other Classifiers:-"
   ]
  },
  {
   "cell_type": "code",
   "execution_count": null,
   "metadata": {},
   "outputs": [],
   "source": []
  },
  {
   "cell_type": "markdown",
   "metadata": {},
   "source": [
    "### Decision Tree Classifier:-"
   ]
  },
  {
   "cell_type": "code",
   "execution_count": 45,
   "metadata": {},
   "outputs": [],
   "source": [
    "from sklearn.tree import DecisionTreeClassifier\n",
    "\n",
    "# Importing the Decision Tree Classifier Model"
   ]
  },
  {
   "cell_type": "code",
   "execution_count": 46,
   "metadata": {},
   "outputs": [
    {
     "name": "stdout",
     "output_type": "stream",
     "text": [
      "Best Accuracy is  0.7603634298693924 on Random State  333\n"
     ]
    }
   ],
   "source": [
    "MaxAccu=0\n",
    "MaxRS=0\n",
    "\n",
    "for i in range (1,500):\n",
    "    x_train,x_test,y_train,y_test=train_test_split(x,y,test_size=0.25,random_state=i)\n",
    "    dtc=DecisionTreeClassifier()\n",
    "    dtc.fit(x_train,y_train)\n",
    "    preddtc_train=dtc.predict(x_train)\n",
    "    preddtc_test=dtc.predict(x_test)\n",
    "    acc=accuracy_score(y_test,preddtc_test)\n",
    "    if acc>MaxAccu:\n",
    "        MaxAccu=acc\n",
    "        MaxRS=i\n",
    "print(\"Best Accuracy is \", MaxAccu, \"on Random State \", MaxRS)\n",
    "\n",
    "# Finding the best accuracy with best random state"
   ]
  },
  {
   "cell_type": "code",
   "execution_count": 47,
   "metadata": {},
   "outputs": [],
   "source": [
    "x_train,x_test,y_train,y_test=train_test_split(x,y,test_size=0.25,random_state=73)"
   ]
  },
  {
   "cell_type": "code",
   "execution_count": 48,
   "metadata": {},
   "outputs": [
    {
     "data": {
      "text/plain": [
       "DecisionTreeClassifier()"
      ]
     },
     "execution_count": 48,
     "metadata": {},
     "output_type": "execute_result"
    }
   ],
   "source": [
    "dtc=DecisionTreeClassifier()\n",
    "dtc.fit(x_train,y_train)\n",
    "\n",
    "# Training the Decision Tree Classifier Model"
   ]
  },
  {
   "cell_type": "code",
   "execution_count": 49,
   "metadata": {},
   "outputs": [
    {
     "data": {
      "text/plain": [
       "array([1, 1, 0, ..., 1, 0, 0])"
      ]
     },
     "execution_count": 49,
     "metadata": {},
     "output_type": "execute_result"
    }
   ],
   "source": [
    "dtc_pred=dtc.predict(x_test)\n",
    "dtc_pred\n",
    "\n",
    "# The Decision Tree Classifier Model is predicting the values based on training"
   ]
  },
  {
   "cell_type": "code",
   "execution_count": 50,
   "metadata": {},
   "outputs": [
    {
     "name": "stdout",
     "output_type": "stream",
     "text": [
      "0.7529812606473595\n",
      "[[1103  229]\n",
      " [ 206  223]]\n",
      "              precision    recall  f1-score   support\n",
      "\n",
      "           0       0.84      0.83      0.84      1332\n",
      "           1       0.49      0.52      0.51       429\n",
      "\n",
      "    accuracy                           0.75      1761\n",
      "   macro avg       0.67      0.67      0.67      1761\n",
      "weighted avg       0.76      0.75      0.76      1761\n",
      "\n"
     ]
    }
   ],
   "source": [
    "print(accuracy_score(y_test,dtc_pred))\n",
    "print(confusion_matrix(y_test,dtc_pred))\n",
    "print(classification_report(y_test,dtc_pred))\n",
    "\n",
    "# The Accuracy Score and Evolution Matrix of Decision Tree Classifier Model"
   ]
  },
  {
   "cell_type": "code",
   "execution_count": null,
   "metadata": {},
   "outputs": [],
   "source": []
  },
  {
   "cell_type": "code",
   "execution_count": null,
   "metadata": {},
   "outputs": [],
   "source": []
  },
  {
   "cell_type": "markdown",
   "metadata": {},
   "source": [
    "### Random Forest Classifier:-"
   ]
  },
  {
   "cell_type": "code",
   "execution_count": 51,
   "metadata": {},
   "outputs": [],
   "source": [
    "from sklearn.ensemble import RandomForestClassifier\n",
    "\n",
    "# Importing Random Forest Classifier Model"
   ]
  },
  {
   "cell_type": "code",
   "execution_count": 52,
   "metadata": {},
   "outputs": [
    {
     "name": "stdout",
     "output_type": "stream",
     "text": [
      "Best Accuracy is  0.8143100511073254 on Random State  106\n"
     ]
    }
   ],
   "source": [
    "MaxAccu=0\n",
    "MaxRS=0\n",
    "\n",
    "for i in range (1,500):\n",
    "    x_train,x_test,y_train,y_test=train_test_split(x,y,test_size=0.25,random_state=i)\n",
    "    rfc=RandomForestClassifier()\n",
    "    rfc.fit(x_train,y_train)\n",
    "    predrfc_train=rfc.predict(x_train)\n",
    "    predrfc_test=rfc.predict(x_test)\n",
    "    acc=accuracy_score(y_test,predrfc_test)\n",
    "    if acc>MaxAccu:\n",
    "        MaxAccu=acc\n",
    "        MaxRS=i\n",
    "print(\"Best Accuracy is \", MaxAccu, \"on Random State \", MaxRS)\n",
    "\n",
    "# Finding the best accuracy with best random state"
   ]
  },
  {
   "cell_type": "code",
   "execution_count": 53,
   "metadata": {},
   "outputs": [],
   "source": [
    "x_train,x_test,y_train,y_test=train_test_split(x,y,test_size=0.25,random_state=481)"
   ]
  },
  {
   "cell_type": "code",
   "execution_count": 54,
   "metadata": {},
   "outputs": [
    {
     "data": {
      "text/plain": [
       "RandomForestClassifier()"
      ]
     },
     "execution_count": 54,
     "metadata": {},
     "output_type": "execute_result"
    }
   ],
   "source": [
    "rfc=RandomForestClassifier()\n",
    "rfc.fit(x_train,y_train)\n",
    "\n",
    "# Training the Random Forest Classifier Model"
   ]
  },
  {
   "cell_type": "code",
   "execution_count": 55,
   "metadata": {},
   "outputs": [
    {
     "data": {
      "text/plain": [
       "array([1, 0, 0, ..., 0, 0, 0])"
      ]
     },
     "execution_count": 55,
     "metadata": {},
     "output_type": "execute_result"
    }
   ],
   "source": [
    "rfc_pred=rfc.predict(x_test)\n",
    "rfc_pred\n",
    "\n",
    "# The Random Forest Classifier Model is predicting values based on training"
   ]
  },
  {
   "cell_type": "code",
   "execution_count": 56,
   "metadata": {},
   "outputs": [
    {
     "name": "stdout",
     "output_type": "stream",
     "text": [
      "0.8086314593980692\n",
      "[[1192  125]\n",
      " [ 212  232]]\n",
      "              precision    recall  f1-score   support\n",
      "\n",
      "           0       0.85      0.91      0.88      1317\n",
      "           1       0.65      0.52      0.58       444\n",
      "\n",
      "    accuracy                           0.81      1761\n",
      "   macro avg       0.75      0.71      0.73      1761\n",
      "weighted avg       0.80      0.81      0.80      1761\n",
      "\n"
     ]
    }
   ],
   "source": [
    "print(accuracy_score(y_test,rfc_pred))\n",
    "print(confusion_matrix(y_test,rfc_pred))\n",
    "print(classification_report(y_test,rfc_pred))\n",
    "\n",
    "# The Accuracy Score and Evolution Matrix of Random Forest Classifier Model"
   ]
  },
  {
   "cell_type": "code",
   "execution_count": null,
   "metadata": {},
   "outputs": [],
   "source": []
  },
  {
   "cell_type": "code",
   "execution_count": null,
   "metadata": {},
   "outputs": [],
   "source": []
  },
  {
   "cell_type": "markdown",
   "metadata": {},
   "source": [
    "### Adaboost Classifier:-"
   ]
  },
  {
   "cell_type": "code",
   "execution_count": 57,
   "metadata": {},
   "outputs": [],
   "source": [
    "from sklearn.ensemble import AdaBoostClassifier\n",
    "\n",
    "# Importing the AdaBoostClassifier Model"
   ]
  },
  {
   "cell_type": "code",
   "execution_count": 58,
   "metadata": {},
   "outputs": [
    {
     "name": "stdout",
     "output_type": "stream",
     "text": [
      "Best Accuracy is  0.8239636570130607 on Random State  35\n"
     ]
    }
   ],
   "source": [
    "MaxAccu=0\n",
    "MaxRS=0\n",
    "\n",
    "for i in range (1,500):\n",
    "    x_train,x_test,y_train,y_test=train_test_split(x,y,test_size=0.25,random_state=i)\n",
    "    adb=AdaBoostClassifier()\n",
    "    adb.fit(x_train,y_train)\n",
    "    predadb_train=adb.predict(x_train)\n",
    "    predadb_test=adb.predict(x_test)\n",
    "    acc=accuracy_score(y_test,predadb_test)\n",
    "    if acc>MaxAccu:\n",
    "        MaxAccu=acc\n",
    "        MaxRS=i\n",
    "print(\"Best Accuracy is \", MaxAccu, \"on Random State \", MaxRS)\n",
    "\n",
    "# Finding the best accuracy with best random state"
   ]
  },
  {
   "cell_type": "code",
   "execution_count": 59,
   "metadata": {},
   "outputs": [],
   "source": [
    "x_train,x_test,y_train,y_test=train_test_split(x,y,test_size=0.25,random_state=20)"
   ]
  },
  {
   "cell_type": "code",
   "execution_count": 60,
   "metadata": {},
   "outputs": [
    {
     "data": {
      "text/plain": [
       "AdaBoostClassifier()"
      ]
     },
     "execution_count": 60,
     "metadata": {},
     "output_type": "execute_result"
    }
   ],
   "source": [
    "adb=AdaBoostClassifier()\n",
    "adb.fit(x_train,y_train)\n",
    "\n",
    "# Training the AdaBoostClassifier Model"
   ]
  },
  {
   "cell_type": "code",
   "execution_count": 61,
   "metadata": {},
   "outputs": [
    {
     "data": {
      "text/plain": [
       "array([0, 0, 0, ..., 0, 1, 0])"
      ]
     },
     "execution_count": 61,
     "metadata": {},
     "output_type": "execute_result"
    }
   ],
   "source": [
    "adb_pred=adb.predict(x_test)\n",
    "adb_pred\n",
    "\n",
    "# The AdaBoostClassifier Model is predicting values based on training"
   ]
  },
  {
   "cell_type": "code",
   "execution_count": 62,
   "metadata": {},
   "outputs": [
    {
     "name": "stdout",
     "output_type": "stream",
     "text": [
      "0.8211243611584327\n",
      "[[1175  138]\n",
      " [ 177  271]]\n",
      "              precision    recall  f1-score   support\n",
      "\n",
      "           0       0.87      0.89      0.88      1313\n",
      "           1       0.66      0.60      0.63       448\n",
      "\n",
      "    accuracy                           0.82      1761\n",
      "   macro avg       0.77      0.75      0.76      1761\n",
      "weighted avg       0.82      0.82      0.82      1761\n",
      "\n"
     ]
    }
   ],
   "source": [
    "print(accuracy_score(y_test,adb_pred))\n",
    "print(confusion_matrix(y_test,adb_pred))\n",
    "print(classification_report(y_test,adb_pred))\n",
    "\n",
    "# The Accuracy Score and Evolution Matrix of AdaBoostClassifier Model"
   ]
  },
  {
   "cell_type": "code",
   "execution_count": null,
   "metadata": {},
   "outputs": [],
   "source": []
  },
  {
   "cell_type": "code",
   "execution_count": null,
   "metadata": {},
   "outputs": [],
   "source": []
  },
  {
   "cell_type": "markdown",
   "metadata": {},
   "source": [
    "### K Neighbors Classifier:-"
   ]
  },
  {
   "cell_type": "code",
   "execution_count": 63,
   "metadata": {},
   "outputs": [],
   "source": [
    "from sklearn.neighbors import KNeighborsClassifier\n",
    "\n",
    "# Importing the K Neighbors Classifier Model"
   ]
  },
  {
   "cell_type": "code",
   "execution_count": 64,
   "metadata": {},
   "outputs": [
    {
     "name": "stdout",
     "output_type": "stream",
     "text": [
      "Best Accuracy is  0.7887563884156729 on Random State  341\n"
     ]
    }
   ],
   "source": [
    "MaxAccu=0\n",
    "MaxRS=0\n",
    "\n",
    "for i in range (1,500):\n",
    "    x_train,x_test,y_train,y_test=train_test_split(x,y,test_size=0.25,random_state=i)\n",
    "    knn=KNeighborsClassifier()\n",
    "    knn.fit(x_train,y_train)\n",
    "    predknn_train=knn.predict(x_train)\n",
    "    predknn_test=knn.predict(x_test)\n",
    "    acc=accuracy_score(y_test,predknn_test)\n",
    "    if acc>MaxAccu:\n",
    "        MaxAccu=acc\n",
    "        MaxRS=i\n",
    "print(\"Best Accuracy is \", MaxAccu, \"on Random State \", MaxRS)\n",
    "\n",
    "# Finding the best accuracy with best random state"
   ]
  },
  {
   "cell_type": "code",
   "execution_count": 65,
   "metadata": {},
   "outputs": [],
   "source": [
    "x_train,x_test,y_train,y_test=train_test_split(x,y,test_size=0.25,random_state=341)"
   ]
  },
  {
   "cell_type": "code",
   "execution_count": 66,
   "metadata": {},
   "outputs": [
    {
     "data": {
      "text/plain": [
       "KNeighborsClassifier()"
      ]
     },
     "execution_count": 66,
     "metadata": {},
     "output_type": "execute_result"
    }
   ],
   "source": [
    "knn=KNeighborsClassifier()\n",
    "knn.fit(x_train,y_train)\n",
    "\n",
    "# Training the K Neighbors Classifier Model"
   ]
  },
  {
   "cell_type": "code",
   "execution_count": 67,
   "metadata": {},
   "outputs": [
    {
     "data": {
      "text/plain": [
       "array([0, 0, 1, ..., 0, 0, 0])"
      ]
     },
     "execution_count": 67,
     "metadata": {},
     "output_type": "execute_result"
    }
   ],
   "source": [
    "knn_pred=knn.predict(x_test)\n",
    "knn_pred\n",
    "\n",
    "# The K Neighbors Classifier Model is predicting values based on training"
   ]
  },
  {
   "cell_type": "code",
   "execution_count": 68,
   "metadata": {},
   "outputs": [
    {
     "name": "stdout",
     "output_type": "stream",
     "text": [
      "0.7887563884156729\n",
      "[[1180  142]\n",
      " [ 230  209]]\n",
      "              precision    recall  f1-score   support\n",
      "\n",
      "           0       0.84      0.89      0.86      1322\n",
      "           1       0.60      0.48      0.53       439\n",
      "\n",
      "    accuracy                           0.79      1761\n",
      "   macro avg       0.72      0.68      0.70      1761\n",
      "weighted avg       0.78      0.79      0.78      1761\n",
      "\n"
     ]
    }
   ],
   "source": [
    "print(accuracy_score(y_test,knn_pred))\n",
    "print(confusion_matrix(y_test,knn_pred))\n",
    "print(classification_report(y_test,knn_pred))\n",
    "\n",
    "# The Accuracy Score and Evolution Matrix of K Neighbors Classifier Model"
   ]
  },
  {
   "cell_type": "code",
   "execution_count": null,
   "metadata": {},
   "outputs": [],
   "source": []
  },
  {
   "cell_type": "code",
   "execution_count": null,
   "metadata": {},
   "outputs": [],
   "source": []
  },
  {
   "cell_type": "markdown",
   "metadata": {},
   "source": [
    "# Cross Validation:-"
   ]
  },
  {
   "cell_type": "code",
   "execution_count": 69,
   "metadata": {},
   "outputs": [],
   "source": [
    "from sklearn.model_selection import cross_val_score\n",
    "\n",
    "# Importing the Cross Validation Score"
   ]
  },
  {
   "cell_type": "code",
   "execution_count": 70,
   "metadata": {},
   "outputs": [
    {
     "data": {
      "text/plain": [
       "array([0.80837473, 0.79985806, 0.79276082, 0.81107955, 0.79971591])"
      ]
     },
     "execution_count": 70,
     "metadata": {},
     "output_type": "execute_result"
    }
   ],
   "source": [
    "scr1=cross_val_score(lr, x, y, cv=5)\n",
    "scr1"
   ]
  },
  {
   "cell_type": "code",
   "execution_count": 71,
   "metadata": {},
   "outputs": [
    {
     "name": "stdout",
     "output_type": "stream",
     "text": [
      "The Cross Validation Score of Logistic Regression is : 0.8023578134073166\n"
     ]
    }
   ],
   "source": [
    "print(\"The Cross Validation Score of Logistic Regression is :\", scr1.mean())\n",
    "\n",
    "# The Cross Validation Score of Logistic Regression is : 0.8023578134073166"
   ]
  },
  {
   "cell_type": "code",
   "execution_count": 72,
   "metadata": {},
   "outputs": [
    {
     "data": {
      "text/plain": [
       "array([0.74520937, 0.72888573, 0.71682044, 0.70667614, 0.74644886])"
      ]
     },
     "execution_count": 72,
     "metadata": {},
     "output_type": "execute_result"
    }
   ],
   "source": [
    "scr2=cross_val_score(dtc, x, y, cv=5)\n",
    "scr2"
   ]
  },
  {
   "cell_type": "code",
   "execution_count": 76,
   "metadata": {},
   "outputs": [
    {
     "name": "stdout",
     "output_type": "stream",
     "text": [
      "The Cross Validation Score of Decision Tree Classifier is : 0.7288081085876509\n"
     ]
    }
   ],
   "source": [
    "print(\"The Cross Validation Score of Decision Tree Classifier is :\", scr2.mean())\n",
    "\n",
    "# The Cross Validation Score of Decision Tree Classifier is : 0.7288081085876509"
   ]
  },
  {
   "cell_type": "code",
   "execution_count": 74,
   "metadata": {},
   "outputs": [
    {
     "data": {
      "text/plain": [
       "array([0.79134138, 0.79488999, 0.77004968, 0.80042614, 0.79616477])"
      ]
     },
     "execution_count": 74,
     "metadata": {},
     "output_type": "execute_result"
    }
   ],
   "source": [
    "scr3=cross_val_score(rfc, x, y, cv=5)\n",
    "scr3"
   ]
  },
  {
   "cell_type": "code",
   "execution_count": 75,
   "metadata": {},
   "outputs": [
    {
     "name": "stdout",
     "output_type": "stream",
     "text": [
      "The Cross Validation Score of Random Forest Classifier is : 0.7905743918962514\n"
     ]
    }
   ],
   "source": [
    "print(\"The Cross Validation Score of Random Forest Classifier is :\", scr3.mean())\n",
    "\n",
    "# The Cross Validation Score of Random Forest Classifier is : 0.7905743918962514"
   ]
  },
  {
   "cell_type": "code",
   "execution_count": 77,
   "metadata": {},
   "outputs": [
    {
     "data": {
      "text/plain": [
       "array([0.8105039 , 0.80411639, 0.79134138, 0.8046875 , 0.8046875 ])"
      ]
     },
     "execution_count": 77,
     "metadata": {},
     "output_type": "execute_result"
    }
   ],
   "source": [
    "scr4=cross_val_score(adb, x, y, cv=5)\n",
    "scr4"
   ]
  },
  {
   "cell_type": "code",
   "execution_count": 78,
   "metadata": {},
   "outputs": [
    {
     "name": "stdout",
     "output_type": "stream",
     "text": [
      "The Cross Validation Score of AdaBoost Classifier is : 0.8030673349893542\n"
     ]
    }
   ],
   "source": [
    "print(\"The Cross Validation Score of AdaBoost Classifier is :\", scr4.mean())\n",
    "\n",
    "# The Cross Validation Score of AdaBoost Classifier is : 0.8030673349893542"
   ]
  },
  {
   "cell_type": "code",
   "execution_count": 81,
   "metadata": {},
   "outputs": [
    {
     "data": {
      "text/plain": [
       "array([0.7523066 , 0.7735983 , 0.75940383, 0.75639205, 0.76988636])"
      ]
     },
     "execution_count": 81,
     "metadata": {},
     "output_type": "execute_result"
    }
   ],
   "source": [
    "scr5=cross_val_score(knn, x, y, cv=5)\n",
    "scr5"
   ]
  },
  {
   "cell_type": "code",
   "execution_count": 82,
   "metadata": {},
   "outputs": [
    {
     "name": "stdout",
     "output_type": "stream",
     "text": [
      "The Cross Validation Score of K Neighbors Classifier is : 0.7623174277372733\n"
     ]
    }
   ],
   "source": [
    "print(\"The Cross Validation Score of K Neighbors Classifier is :\", scr5.mean())\n",
    "\n",
    "# The Cross Validation Score of K Neighbors Classifier is : 0.7623174277372733"
   ]
  },
  {
   "cell_type": "code",
   "execution_count": null,
   "metadata": {},
   "outputs": [],
   "source": []
  },
  {
   "cell_type": "raw",
   "metadata": {},
   "source": [
    "# As we can see that Adaboost Classifier is giving maximum accuracy and minimum difference with Cross Validation we will select it as the best performing Model."
   ]
  },
  {
   "cell_type": "code",
   "execution_count": null,
   "metadata": {},
   "outputs": [],
   "source": []
  },
  {
   "cell_type": "markdown",
   "metadata": {},
   "source": [
    "# Hyper Parameter Tuning:-"
   ]
  },
  {
   "cell_type": "code",
   "execution_count": 89,
   "metadata": {},
   "outputs": [],
   "source": [
    "from sklearn.model_selection import GridSearchCV\n",
    "\n",
    "# Importing Grid Search CV to perform Hyper Parameter Tuning"
   ]
  },
  {
   "cell_type": "code",
   "execution_count": 90,
   "metadata": {},
   "outputs": [],
   "source": [
    "parameter={\"n_estimators\":np.arange(2,10), \n",
    "           \"algorithm\":[\"SAMME\",\"SAMME.R\"],\n",
    "          \"learning_rate\":np.arange(2,10),\n",
    "          \"random_state\":np.arange(2,100)}\n",
    "\n",
    "# Taking all the parameters to find the best Accuracy Score "
   ]
  },
  {
   "cell_type": "code",
   "execution_count": 91,
   "metadata": {},
   "outputs": [],
   "source": [
    "GCV=GridSearchCV(AdaBoostClassifier(),parameter,cv=5)"
   ]
  },
  {
   "cell_type": "code",
   "execution_count": 92,
   "metadata": {},
   "outputs": [
    {
     "data": {
      "text/plain": [
       "GridSearchCV(cv=5, estimator=AdaBoostClassifier(),\n",
       "             param_grid={'algorithm': ['SAMME', 'SAMME.R'],\n",
       "                         'learning_rate': array([2, 3, 4, 5, 6, 7, 8, 9]),\n",
       "                         'n_estimators': array([2, 3, 4, 5, 6, 7, 8, 9]),\n",
       "                         'random_state': array([ 2,  3,  4,  5,  6,  7,  8,  9, 10, 11, 12, 13, 14, 15, 16, 17, 18,\n",
       "       19, 20, 21, 22, 23, 24, 25, 26, 27, 28, 29, 30, 31, 32, 33, 34, 35,\n",
       "       36, 37, 38, 39, 40, 41, 42, 43, 44, 45, 46, 47, 48, 49, 50, 51, 52,\n",
       "       53, 54, 55, 56, 57, 58, 59, 60, 61, 62, 63, 64, 65, 66, 67, 68, 69,\n",
       "       70, 71, 72, 73, 74, 75, 76, 77, 78, 79, 80, 81, 82, 83, 84, 85, 86,\n",
       "       87, 88, 89, 90, 91, 92, 93, 94, 95, 96, 97, 98, 99])})"
      ]
     },
     "execution_count": 92,
     "metadata": {},
     "output_type": "execute_result"
    }
   ],
   "source": [
    "GCV.fit(x_train,y_train)\n",
    "\n",
    "# Training the GridSearchCV model"
   ]
  },
  {
   "cell_type": "code",
   "execution_count": 93,
   "metadata": {},
   "outputs": [
    {
     "data": {
      "text/plain": [
       "{'algorithm': 'SAMME',\n",
       " 'learning_rate': 2,\n",
       " 'n_estimators': 3,\n",
       " 'random_state': 2}"
      ]
     },
     "execution_count": 93,
     "metadata": {},
     "output_type": "execute_result"
    }
   ],
   "source": [
    "GCV.best_params_\n",
    "\n",
    "# The best Parameters are : {'algorithm': 'SAMME',\n",
    "#  'learning_rate': 2,\n",
    "#  'n_estimators': 3,\n",
    "#  'random_state': 2}"
   ]
  },
  {
   "cell_type": "code",
   "execution_count": 94,
   "metadata": {},
   "outputs": [
    {
     "name": "stdout",
     "output_type": "stream",
     "text": [
      "75.07098239636571\n"
     ]
    }
   ],
   "source": [
    "final_model=AdaBoostClassifier(algorithm=\"SAMME\", learning_rate=2, n_estimators=3, random_state=2)\n",
    "final_model.fit(x_train,y_train)\n",
    "final_model_pred=final_model.predict(x_test)\n",
    "acc=accuracy_score(y_test,final_model_pred)\n",
    "print(acc*100)\n",
    "\n",
    "# The best accuracy with best parameters is : 84.78271311205064"
   ]
  },
  {
   "cell_type": "code",
   "execution_count": null,
   "metadata": {},
   "outputs": [],
   "source": []
  },
  {
   "cell_type": "code",
   "execution_count": null,
   "metadata": {},
   "outputs": [],
   "source": []
  },
  {
   "cell_type": "markdown",
   "metadata": {},
   "source": [
    "# Saving the Adaboost Model (Serialization):-"
   ]
  },
  {
   "cell_type": "code",
   "execution_count": 95,
   "metadata": {},
   "outputs": [],
   "source": [
    "import joblib\n",
    "\n",
    "# importing the Joblib function to perform Serialization"
   ]
  },
  {
   "cell_type": "code",
   "execution_count": 96,
   "metadata": {},
   "outputs": [
    {
     "data": {
      "text/plain": [
       "['Customer_Churn_Model.obj']"
      ]
     },
     "execution_count": 96,
     "metadata": {},
     "output_type": "execute_result"
    }
   ],
   "source": [
    "joblib.dump(final_model,\"Customer_Churn_Model.obj\")\n",
    "\n",
    "# Dumping the Final model for deployment into the object file \"Customer_Churn_Model.obj\""
   ]
  },
  {
   "cell_type": "code",
   "execution_count": null,
   "metadata": {},
   "outputs": [],
   "source": []
  }
 ],
 "metadata": {
  "kernelspec": {
   "display_name": "Python 3",
   "language": "python",
   "name": "python3"
  },
  "language_info": {
   "codemirror_mode": {
    "name": "ipython",
    "version": 3
   },
   "file_extension": ".py",
   "mimetype": "text/x-python",
   "name": "python",
   "nbconvert_exporter": "python",
   "pygments_lexer": "ipython3",
   "version": "3.8.5"
  }
 },
 "nbformat": 4,
 "nbformat_minor": 4
}
